{
 "cells": [
  {
   "cell_type": "markdown",
   "id": "a81791ad-8f58-4124-bba3-f857c73262b3",
   "metadata": {},
   "source": [
    "# Insights - Total population by year"
   ]
  },
  {
   "cell_type": "markdown",
   "id": "317fdc10-a19b-4e68-befc-08a712f7ee28",
   "metadata": {
    "tags": []
   },
   "source": [
    "## Introduction"
   ]
  },
  {
   "cell_type": "markdown",
   "id": "8c6b8908-2b9f-4931-b6b3-9ecd24d118eb",
   "metadata": {},
   "source": [
    "This process is dependent on upstream processes. See the \"Prerequisites\" section below.\n",
    "\n",
    "The workflow defined herein is identified as workflow ID #90 in the the [Data Team Master Document List](https://morpc1.sharepoint.com/:x:/s/GISteam/EfC4j3HhohZCrSZzxJdyt5cBFEqVD7zHick8ZW0INqgCYA?e=0WhrAI). References to document list identifiers are denoted by a number in brackets, e.g. [90]."
   ]
  },
  {
   "cell_type": "markdown",
   "id": "fa05b048-045c-402d-bb52-708110691f09",
   "metadata": {
    "tags": []
   },
   "source": [
    "## Process outline\n",
    "\n",
    "  1. Load input dataset\n",
    "  2. Extract required population facts\n",
    "  3. Transform population facts to comply with output schema\n",
    "  4. Export output dataset\n",
    "  5. Create resource file"
   ]
  },
  {
   "cell_type": "markdown",
   "id": "df5c214d-69e7-4112-b7bb-3e9d377a594e",
   "metadata": {},
   "source": [
    "## Prerequisites and usage notes"
   ]
  },
  {
   "cell_type": "markdown",
   "id": "db2e9d1d-aa32-4ec2-a42e-5c44e39c694f",
   "metadata": {},
   "source": [
    "  - Outputs of one or more upstream workflows must be available at the indicated paths. Make sure that those outputs are up to date prior to running this script. \n",
    "  - This script includes several intentional RuntimeError instances that may be triggered to alert the user to conditions that may require their attention. If the script triggers one of these errors, review the error, verify that the condition is acceptable or resolve any issues, then proceed."
   ]
  },
  {
   "cell_type": "markdown",
   "id": "5b4ee0c6-4158-4a98-bc7f-179022f48ff8",
   "metadata": {},
   "source": [
    "## Setup"
   ]
  },
  {
   "cell_type": "markdown",
   "id": "3cd65147-7804-4778-8def-493d8f2f3542",
   "metadata": {},
   "source": [
    "### Import required packages"
   ]
  },
  {
   "cell_type": "code",
   "execution_count": 82,
   "id": "a2e771b4-c162-47ad-8d76-ee12dddd594f",
   "metadata": {},
   "outputs": [],
   "source": [
    "import os\n",
    "import shutil\n",
    "import sys\n",
    "import pandas as pd\n",
    "import frictionless\n",
    "sys.path.append(os.path.normpath(\"../morpc-common\"))\n",
    "import morpc\n",
    "import morpcCensus"
   ]
  },
  {
   "cell_type": "markdown",
   "id": "a5ed7156-7d69-400e-92e8-be275d318067",
   "metadata": {},
   "source": [
    "### User-specified parameters"
   ]
  },
  {
   "cell_type": "code",
   "execution_count": 2,
   "id": "29c907f2-fcdc-4f84-b8c5-22097daf822d",
   "metadata": {},
   "outputs": [],
   "source": [
    "MORPC_ESTIMATE_YEAR_RANGE = [2024, 2024]\n",
    "\n",
    "MORPC_FORECAST_VINTAGE = 2023\n",
    "MORPC_FORECAST_YEAR_RANGE = [2025, 2050]\n",
    "MORPC_FORECAST_YEAR_INTERVAL = 5\n",
    "\n",
    "DECENNIAL_YEAR_RANGE = [1980, 2020]\n",
    "INTERCENSAL_YEAR_RANGE = [2000, 2010]\n",
    "\n",
    "PEP_YEAR_RANGE = [INTERCENSAL_YEAR_RANGE[1]+1, MORPC_ESTIMATE_YEAR_RANGE[0]-1]\n",
    "\n",
    "# When STALE_DATA_INTERRUPT == True, the script will produce a RuntimeError in certain situations where the input \n",
    "# data may be stale and updates might be required prior to running the script.  Otherwise, a warning will be generated \n",
    "# but script execution will continue.  Regardless of whether an error or warning occurs, be sure to verify the readiness \n",
    "# of all input data.\n",
    "STALE_DATA_INTERRUPT = True\n",
    "\n",
    "# If PRESERVE_INPUT_DATA == True, then the raw input data will be archived in the directory specified in INPUT_DIR\n",
    "# Otherwise, the raw data will be deleted upon completion of the script.\n",
    "PRESERVE_INPUT_DATA = True\n",
    "\n",
    "# You can change where the input data is sourced and archived by changing the following directory and file names.  \n",
    "# This typically is not necessary and may break other scripts that depend on outputs from this one. Source data \n",
    "# will be copied to this location.  Input data will be deleted following successful completion of the script \n",
    "# unless PRESERVE_INPUT_DATA == True.\n",
    "INPUT_DIR = \"./input_data\"\n",
    "\n",
    "# You can change where the output data is stored by changing the following directory and file names.  This \n",
    "# typically is not necessary and may break other scripts that depend on outputs from this one.\n",
    "OUTPUT_DIR = \"./output_data\""
   ]
  },
  {
   "cell_type": "markdown",
   "id": "401c0fde-7773-4ffc-b47c-f1b40f283def",
   "metadata": {},
   "source": [
    "### Static parameters"
   ]
  },
  {
   "cell_type": "markdown",
   "id": "b0004e0a-e241-4757-b5bd-c9819d943514",
   "metadata": {},
   "source": [
    "### Define inputs"
   ]
  },
  {
   "cell_type": "markdown",
   "id": "ab663116-d72d-4f63-8b4c-ba40212d3715",
   "metadata": {},
   "source": [
    "The following datasets are required by this notebook. They will be retrieved from the specified location and temporarily stored in INPUT_DIR. They will be deleted following successful completion of the script unless PRESERVE_INPUT_DATA == True."
   ]
  },
  {
   "cell_type": "markdown",
   "id": "85da01ea-fc9e-41d2-b715-11fa170c2ca4",
   "metadata": {},
   "source": [
    "#### Create input data directory"
   ]
  },
  {
   "cell_type": "markdown",
   "id": "ea1ae4d6-e9a3-495e-a339-b7bc598b0926",
   "metadata": {},
   "source": [
    "Create input data directory if it doesn't exist."
   ]
  },
  {
   "cell_type": "code",
   "execution_count": 3,
   "id": "b2c03840-4cb0-4417-b97e-2b21b1363f15",
   "metadata": {},
   "outputs": [],
   "source": [
    "inputDir = os.path.normpath(INPUT_DIR)\n",
    "if not os.path.exists(inputDir):\n",
    "    os.makedirs(inputDir)"
   ]
  },
  {
   "cell_type": "markdown",
   "id": "0ac8737d-5330-40d1-8b06-253918294f23",
   "metadata": {},
   "source": [
    "#### MORPC counties reference data [81]"
   ]
  },
  {
   "cell_type": "markdown",
   "id": "52cbb81a-e893-4ed3-a42e-6cc6b2535f3e",
   "metadata": {},
   "source": [
    "Reference data for counties in the MORPC region will be loaded automatically as a morpc.countyLookup() object (see below)."
   ]
  },
  {
   "cell_type": "markdown",
   "id": "7b89988c-dce5-4ce3-955b-f608c7fe6c8b",
   "metadata": {
    "tags": []
   },
   "source": [
    "#### MORPC combined population facts [286]"
   ]
  },
  {
   "cell_type": "code",
   "execution_count": 4,
   "id": "e29e7a94-010a-468b-afd9-d13fe95d3c5a",
   "metadata": {},
   "outputs": [
    {
     "name": "stdout",
     "output_type": "stream",
     "text": [
      "Resource file: ../morpc-pop-collect/output_data/morpc-pop-collect.resource.yaml\n"
     ]
    }
   ],
   "source": [
    "COMBINED_POP_FACTS_RESOURCE_PATH = \"../morpc-pop-collect/output_data/morpc-pop-collect.resource.yaml\"\n",
    "print(\"Resource file: {}\".format(COMBINED_POP_FACTS_RESOURCE_PATH))"
   ]
  },
  {
   "cell_type": "markdown",
   "id": "3406c4a9-051c-4f0c-8148-504019f37f72",
   "metadata": {
    "tags": []
   },
   "source": [
    "### Define outputs"
   ]
  },
  {
   "cell_type": "markdown",
   "id": "e9356099-b192-4921-9822-8db1cdc42eda",
   "metadata": {
    "tags": []
   },
   "source": [
    "#### Create output data directory"
   ]
  },
  {
   "cell_type": "markdown",
   "id": "892dc452-34c3-4d08-96ab-be3857d36033",
   "metadata": {},
   "source": [
    "Create output data directory if it doesn't exist."
   ]
  },
  {
   "cell_type": "code",
   "execution_count": 5,
   "id": "079addf5-cb85-41a2-afa9-6eb226be1b93",
   "metadata": {},
   "outputs": [],
   "source": [
    "outputDir = os.path.normpath(OUTPUT_DIR)\n",
    "if not os.path.exists(outputDir):\n",
    "    os.makedirs(outputDir)   "
   ]
  },
  {
   "cell_type": "markdown",
   "id": "151e8310-9385-4c35-8cf2-e3c23de01642",
   "metadata": {
    "tags": []
   },
   "source": [
    "#### Insights total population by year [287]"
   ]
  },
  {
   "cell_type": "code",
   "execution_count": 6,
   "id": "6efb6fda-33d4-4019-9b34-5679f464fd08",
   "metadata": {},
   "outputs": [
    {
     "name": "stdout",
     "output_type": "stream",
     "text": [
      "Data: output_data\\morpc-insights-pop-temporal.csv\n",
      "Schema: output_data\\morpc-insights-pop-temporal.schema.yaml\n",
      "Resource file: output_data\\morpc-insights-pop-temporal.resource.yaml\n"
     ]
    }
   ],
   "source": [
    "INSIGHTS_POP_TABLE_FILENAME = \"morpc-insights-pop-temporal.csv\"\n",
    "INSIGHTS_POP_TABLE_PATH = os.path.join(outputDir, INSIGHTS_POP_TABLE_FILENAME)\n",
    "INSIGHTS_POP_TABLE_SCHEMA_PATH = INSIGHTS_POP_TABLE_PATH.replace(\".csv\",\".schema.yaml\")\n",
    "INSIGHTS_POP_TABLE_RESOURCE_PATH = INSIGHTS_POP_TABLE_PATH.replace(\".csv\",\".resource.yaml\")\n",
    "print(\"Data: {}\".format(INSIGHTS_POP_TABLE_PATH))\n",
    "print(\"Schema: {}\".format(INSIGHTS_POP_TABLE_SCHEMA_PATH))\n",
    "print(\"Resource file: {}\".format(INSIGHTS_POP_TABLE_RESOURCE_PATH))"
   ]
  },
  {
   "cell_type": "markdown",
   "id": "08eedadf-8229-49e7-b553-b2eb396a70e8",
   "metadata": {
    "tags": []
   },
   "source": [
    "## Prepare input data"
   ]
  },
  {
   "cell_type": "markdown",
   "id": "592fd177-fd39-47e6-8290-fc4a72fd4cbc",
   "metadata": {},
   "source": [
    "### Load county reference data"
   ]
  },
  {
   "cell_type": "code",
   "execution_count": 7,
   "id": "13f7ef4a-38c0-47d9-929f-429bb863bc58",
   "metadata": {},
   "outputs": [
    {
     "name": "stdout",
     "output_type": "stream",
     "text": [
      "Loading data for MORPC 15-County region only\n"
     ]
    }
   ],
   "source": [
    "countyLookup = morpc.countyLookup(scope=\"15-County Region\")"
   ]
  },
  {
   "cell_type": "markdown",
   "id": "2a83ffdb-5303-4a55-abd2-27a81c964ffe",
   "metadata": {},
   "source": [
    "### Combined population facts"
   ]
  },
  {
   "cell_type": "code",
   "execution_count": 139,
   "id": "739fbbf8-cafc-4c07-90e0-01d60b635e4a",
   "metadata": {},
   "outputs": [
    {
     "name": "stdout",
     "output_type": "stream",
     "text": [
      "morpc.load_frictionless_data | INFO | Loading Frictionless Resource file at location ..\\morpc-pop-collect\\output_data\\morpc-pop-collect.resource.yaml\n",
      "morpc.load_frictionless_data | INFO | Copying data, resource file, and schema to directory input_data\n",
      "morpc.load_frictionless_data | INFO | --> Data file: input_data\\morpc-pop-collect.csv\n",
      "morpc.load_frictionless_data | INFO | --> Resource file: input_data\\morpc-pop-collect.resource.yaml\n",
      "morpc.load_frictionless_data | INFO | --> Schema file: input_data\\morpc-pop-collect.schema.yaml\n",
      "morpc.load_frictionless_data | INFO | Validating resource including data and schema.\n",
      "\n",
      "Validating resource on disk (including data and schema). This may take some time.\n",
      "Resource is valid\n",
      "morpc.load_frictionless_data | INFO | Loading data.\n",
      "Casting field POP as type integer.\n",
      "WARNING: Failed conversion of fieldname POP to type 'int'.  Trying type 'Int64' instead.\n",
      "Casting field GEOID as type string.\n",
      "Casting field SUMLEVEL as type string.\n",
      "Casting field REFERENCE_PERIOD as type string.\n",
      "Casting field REFERENCE_PERIOD_FREQ as type string.\n",
      "Casting field VINTAGE_PERIOD as type string.\n",
      "Casting field VINTAGE_PERIOD_FREQ as type string.\n",
      "Casting field VALUE_TYPE as type string.\n",
      "Casting field CONF_LEVEL as type number.\n",
      "Casting field CONF_LIMIT_UPPER as type integer.\n",
      "WARNING: Failed conversion of fieldname CONF_LIMIT_UPPER to type 'int'.  Trying type 'Int64' instead.\n",
      "Casting field CONF_LIMIT_LOWER as type integer.\n",
      "WARNING: Failed conversion of fieldname CONF_LIMIT_LOWER to type 'int'.  Trying type 'Int64' instead.\n",
      "Casting field SOURCE as type string.\n",
      "Casting field LAST_UPDATED as type string.\n"
     ]
    }
   ],
   "source": [
    "(combinedPopRaw, combinedPopResource, combinedPopSchema) = morpc.frictionless_load_data(COMBINED_POP_FACTS_RESOURCE_PATH, archiveDir=inputDir, validate=True, verbose=True)"
   ]
  },
  {
   "cell_type": "code",
   "execution_count": 140,
   "id": "f48744b6-3dda-4fb0-822d-a20a381b74c5",
   "metadata": {},
   "outputs": [],
   "source": [
    "combinedPop = combinedPopRaw.copy()"
   ]
  },
  {
   "cell_type": "code",
   "execution_count": 141,
   "id": "82fc925d-c758-426b-a0f6-e4ea5e7ef1bc",
   "metadata": {},
   "outputs": [],
   "source": [
    "combinedPop[\"GEO_TYPE\"] = combinedPop[\"SUMLEVEL\"].map(morpc.HIERARCHY_STRING_LOOKUP)"
   ]
  },
  {
   "cell_type": "code",
   "execution_count": 142,
   "id": "21c22cf6-59d0-49e6-9bfd-191457ab7ce7",
   "metadata": {},
   "outputs": [],
   "source": [
    "combinedPop = combinedPop.drop(columns=[\"SUMLEVEL\",\"LAST_UPDATED\"]) "
   ]
  },
  {
   "cell_type": "code",
   "execution_count": 143,
   "id": "b73cb5f0-38d9-4d55-84f6-7d0fe2eb9589",
   "metadata": {},
   "outputs": [
    {
     "data": {
      "text/html": [
       "<div>\n",
       "<style scoped>\n",
       "    .dataframe tbody tr th:only-of-type {\n",
       "        vertical-align: middle;\n",
       "    }\n",
       "\n",
       "    .dataframe tbody tr th {\n",
       "        vertical-align: top;\n",
       "    }\n",
       "\n",
       "    .dataframe thead th {\n",
       "        text-align: right;\n",
       "    }\n",
       "</style>\n",
       "<table border=\"1\" class=\"dataframe\">\n",
       "  <thead>\n",
       "    <tr style=\"text-align: right;\">\n",
       "      <th></th>\n",
       "      <th>POP</th>\n",
       "      <th>GEOID</th>\n",
       "      <th>REFERENCE_PERIOD</th>\n",
       "      <th>REFERENCE_PERIOD_FREQ</th>\n",
       "      <th>VINTAGE_PERIOD</th>\n",
       "      <th>VINTAGE_PERIOD_FREQ</th>\n",
       "      <th>VALUE_TYPE</th>\n",
       "      <th>CONF_LEVEL</th>\n",
       "      <th>CONF_LIMIT_UPPER</th>\n",
       "      <th>CONF_LIMIT_LOWER</th>\n",
       "      <th>SOURCE</th>\n",
       "      <th>GEO_TYPE</th>\n",
       "    </tr>\n",
       "  </thead>\n",
       "  <tbody>\n",
       "    <tr>\n",
       "      <th>0</th>\n",
       "      <td>111714</td>\n",
       "      <td>39041</td>\n",
       "      <td>2000</td>\n",
       "      <td>Y-JUN</td>\n",
       "      <td>2009</td>\n",
       "      <td>&lt;NA&gt;</td>\n",
       "      <td>ESTIMATE</td>\n",
       "      <td>NaN</td>\n",
       "      <td>&lt;NA&gt;</td>\n",
       "      <td>&lt;NA&gt;</td>\n",
       "      <td>CENPEP</td>\n",
       "      <td>COUNTY</td>\n",
       "    </tr>\n",
       "    <tr>\n",
       "      <th>1</th>\n",
       "      <td>223518</td>\n",
       "      <td>39041</td>\n",
       "      <td>2000</td>\n",
       "      <td>Y-JUN</td>\n",
       "      <td>2012</td>\n",
       "      <td>&lt;NA&gt;</td>\n",
       "      <td>ESTIMATE</td>\n",
       "      <td>NaN</td>\n",
       "      <td>&lt;NA&gt;</td>\n",
       "      <td>&lt;NA&gt;</td>\n",
       "      <td>CENINT</td>\n",
       "      <td>COUNTY</td>\n",
       "    </tr>\n",
       "    <tr>\n",
       "      <th>2</th>\n",
       "      <td>119098</td>\n",
       "      <td>39041</td>\n",
       "      <td>2001</td>\n",
       "      <td>Y-JUN</td>\n",
       "      <td>2009</td>\n",
       "      <td>&lt;NA&gt;</td>\n",
       "      <td>ESTIMATE</td>\n",
       "      <td>NaN</td>\n",
       "      <td>&lt;NA&gt;</td>\n",
       "      <td>&lt;NA&gt;</td>\n",
       "      <td>CENPEP</td>\n",
       "      <td>COUNTY</td>\n",
       "    </tr>\n",
       "    <tr>\n",
       "      <th>3</th>\n",
       "      <td>237292</td>\n",
       "      <td>39041</td>\n",
       "      <td>2001</td>\n",
       "      <td>Y-JUN</td>\n",
       "      <td>2012</td>\n",
       "      <td>&lt;NA&gt;</td>\n",
       "      <td>ESTIMATE</td>\n",
       "      <td>NaN</td>\n",
       "      <td>&lt;NA&gt;</td>\n",
       "      <td>&lt;NA&gt;</td>\n",
       "      <td>CENINT</td>\n",
       "      <td>COUNTY</td>\n",
       "    </tr>\n",
       "    <tr>\n",
       "      <th>4</th>\n",
       "      <td>127011</td>\n",
       "      <td>39041</td>\n",
       "      <td>2002</td>\n",
       "      <td>Y-JUN</td>\n",
       "      <td>2009</td>\n",
       "      <td>&lt;NA&gt;</td>\n",
       "      <td>ESTIMATE</td>\n",
       "      <td>NaN</td>\n",
       "      <td>&lt;NA&gt;</td>\n",
       "      <td>&lt;NA&gt;</td>\n",
       "      <td>CENPEP</td>\n",
       "      <td>COUNTY</td>\n",
       "    </tr>\n",
       "  </tbody>\n",
       "</table>\n",
       "</div>"
      ],
      "text/plain": [
       "      POP  GEOID REFERENCE_PERIOD REFERENCE_PERIOD_FREQ VINTAGE_PERIOD  \\\n",
       "0  111714  39041             2000                 Y-JUN           2009   \n",
       "1  223518  39041             2000                 Y-JUN           2012   \n",
       "2  119098  39041             2001                 Y-JUN           2009   \n",
       "3  237292  39041             2001                 Y-JUN           2012   \n",
       "4  127011  39041             2002                 Y-JUN           2009   \n",
       "\n",
       "  VINTAGE_PERIOD_FREQ VALUE_TYPE  CONF_LEVEL  CONF_LIMIT_UPPER  \\\n",
       "0                <NA>   ESTIMATE         NaN              <NA>   \n",
       "1                <NA>   ESTIMATE         NaN              <NA>   \n",
       "2                <NA>   ESTIMATE         NaN              <NA>   \n",
       "3                <NA>   ESTIMATE         NaN              <NA>   \n",
       "4                <NA>   ESTIMATE         NaN              <NA>   \n",
       "\n",
       "   CONF_LIMIT_LOWER  SOURCE GEO_TYPE  \n",
       "0              <NA>  CENPEP   COUNTY  \n",
       "1              <NA>  CENINT   COUNTY  \n",
       "2              <NA>  CENPEP   COUNTY  \n",
       "3              <NA>  CENINT   COUNTY  \n",
       "4              <NA>  CENPEP   COUNTY  "
      ]
     },
     "execution_count": 143,
     "metadata": {},
     "output_type": "execute_result"
    }
   ],
   "source": [
    "combinedPop.head()"
   ]
  },
  {
   "cell_type": "markdown",
   "id": "2c0f3f69-4f4b-4e73-b786-523eb711e0a4",
   "metadata": {},
   "source": [
    "## Transform data"
   ]
  },
  {
   "cell_type": "markdown",
   "id": "53c39768-0ab4-4c41-b89f-cd62b60b2583",
   "metadata": {},
   "source": [
    "#### Load output schema"
   ]
  },
  {
   "cell_type": "code",
   "execution_count": 260,
   "id": "6ea99434-e6b4-43ff-82e3-94cc0f4f1cf5",
   "metadata": {
    "scrolled": true
   },
   "outputs": [
    {
     "data": {
      "text/plain": [
       "{'fields': [{'name': 'POP', 'type': 'integer', 'description': 'Population'},\n",
       "            {'name': 'GEOID',\n",
       "             'type': 'string',\n",
       "             'description': 'Unique identifier for the geography as issued by '\n",
       "                            'MORPC.  These are identical to Census-issued '\n",
       "                            'GEOIDs for Census geographies.'},\n",
       "            {'name': 'GEO_TYPE',\n",
       "             'type': 'string',\n",
       "             'description': 'Code which designates the summary level '\n",
       "                            '(geography type) for which the GEOID applies.  '\n",
       "                            'The combination of GEO_TYPE and GEOID uniquely '\n",
       "                            'identify the geography for the record.'},\n",
       "            {'name': 'DATE',\n",
       "             'type': 'string',\n",
       "             'description': 'ISO8601-compliant date string that identifies the '\n",
       "                            'reference date for which the estimate applies'},\n",
       "            {'name': 'VALUE_TYPE',\n",
       "             'type': 'string',\n",
       "             'description': 'Describes the nature of the population value.  '\n",
       "                            'Valid values are HISTORICAL, FORECAST, or '\n",
       "                            'CONF_LIMIT.'},\n",
       "            {'name': 'SOURCE',\n",
       "             'type': 'string',\n",
       "             'description': 'Standard descriptor which indicates the source of '\n",
       "                            'the population value. See '\n",
       "                            'morpc-insights-pop-temporal workflow '\n",
       "                            'documentation for details.'}],\n",
       " 'missingValues': [''],\n",
       " 'primaryKey': ['GEO_TYPE', 'GEOID', 'VALUE_TYPE', 'SOURCE']}"
      ]
     },
     "execution_count": 260,
     "metadata": {},
     "output_type": "execute_result"
    }
   ],
   "source": [
    "insightsPopSchema = morpc.frictionless_load_schema(INSIGHTS_POP_TABLE_SCHEMA_PATH)\n",
    "insightsPopSchema"
   ]
  },
  {
   "cell_type": "markdown",
   "id": "5a71fdd9-4622-4e55-acc4-ee0dfeb9ca84",
   "metadata": {},
   "source": [
    "### Create list to collect extracted data"
   ]
  },
  {
   "cell_type": "code",
   "execution_count": 261,
   "id": "3c03ba21-1479-4d06-9692-182e7cc0c679",
   "metadata": {},
   "outputs": [],
   "source": [
    "extractedData = []"
   ]
  },
  {
   "cell_type": "markdown",
   "id": "14553053-7b89-4f1f-b9d6-08033744294e",
   "metadata": {},
   "source": [
    "### Extract decennial census counts (NOT IMPLEMENTED)"
   ]
  },
  {
   "cell_type": "markdown",
   "id": "9f953d19-1790-4e37-9fab-4b15158afb78",
   "metadata": {},
   "source": [
    "### Extract intercensal estimates"
   ]
  },
  {
   "cell_type": "markdown",
   "id": "99e133f5-758e-48be-8bad-58b378ad6568",
   "metadata": {},
   "source": [
    "Create list of years from user-specified range."
   ]
  },
  {
   "cell_type": "code",
   "execution_count": 262,
   "id": "e57e4c3f-d95f-40f7-bc4b-d7ea813029f5",
   "metadata": {},
   "outputs": [
    {
     "name": "stdout",
     "output_type": "stream",
     "text": [
      "Including intercensal estimates for years: 2000, 2001, 2002, 2003, 2004, 2005, 2006, 2007, 2008, 2009, 2010\n"
     ]
    }
   ],
   "source": [
    "intercensalRange = list(range(INTERCENSAL_YEAR_RANGE[0], INTERCENSAL_YEAR_RANGE[1]+1))\n",
    "print(\"Including intercensal estimates for years: {}\".format(\", \".join([str(x) for x in intercensalRange])))"
   ]
  },
  {
   "cell_type": "markdown",
   "id": "37222e9b-db1c-4aa5-a110-62e89877542d",
   "metadata": {},
   "source": [
    "Extract intercensal data from combined table."
   ]
  },
  {
   "cell_type": "code",
   "execution_count": 263,
   "id": "a30b33a3-5354-4864-8e7b-4e237ac7ef42",
   "metadata": {},
   "outputs": [],
   "source": [
    "intercensal = combinedPop.loc[combinedPop[\"SOURCE\"] == \"CENINT\"].copy()"
   ]
  },
  {
   "cell_type": "markdown",
   "id": "0b6bfb2a-ccf4-4f58-9e5d-21aab5d14cc6",
   "metadata": {},
   "source": [
    "Reference period and vintage period were stored as strings, but for intercensal estimates we can treat them as integers. Convert them now."
   ]
  },
  {
   "cell_type": "code",
   "execution_count": 264,
   "id": "8ee6f18c-59b5-4529-b0e8-362116a58487",
   "metadata": {},
   "outputs": [],
   "source": [
    "intercensal = intercensal.astype({\n",
    "    \"REFERENCE_PERIOD\":\"int\",\n",
    "    \"VINTAGE_PERIOD\":\"int\"\n",
    "})"
   ]
  },
  {
   "cell_type": "markdown",
   "id": "39321204-c89e-4048-a6f6-6b31bd912082",
   "metadata": {},
   "source": [
    "Verify that data is available for the specified years."
   ]
  },
  {
   "cell_type": "code",
   "execution_count": 265,
   "id": "9fc7cbbc-e717-43aa-ae10-696974bc08ad",
   "metadata": {},
   "outputs": [
    {
     "name": "stdout",
     "output_type": "stream",
     "text": [
      "INFO | Intercensal data is available for all years in specified range.\n"
     ]
    }
   ],
   "source": [
    "if(not set(intercensalRange).issubset(set(intercensal[\"REFERENCE_PERIOD\"]))):\n",
    "    print(\"ERROR | Set of intercensal years for which data is available does not match set derived from specified range.\")\n",
    "    print(\"Specified range: {}\".format(INTERCENSAL_YEAR_RANGE))\n",
    "    print(\"Specified set: {}\".format(set(intercensalRange)))\n",
    "    print(\"Available set: {}\".format(set(intercensal[\"REFERENCE_PERIOD\"])))\n",
    "    raise RuntimeError\n",
    "else:\n",
    "    print(\"INFO | Intercensal data is available for all years in specified range.\")"
   ]
  },
  {
   "cell_type": "markdown",
   "id": "3ad1a7e2-10e2-4fb0-bf80-564c89487c9e",
   "metadata": {},
   "source": [
    "Extract only the estimates for the specified years."
   ]
  },
  {
   "cell_type": "code",
   "execution_count": 266,
   "id": "1b947e55-5db4-488f-be9f-a51ae8ac056e",
   "metadata": {},
   "outputs": [],
   "source": [
    "intercensal = morpc.extract_vintage(intercensal, refPeriods=intercensalRange)"
   ]
  },
  {
   "cell_type": "markdown",
   "id": "64aebcde-529f-4496-bb93-a46a3ad068eb",
   "metadata": {},
   "source": [
    "Verify that all reference periods are present and that there is only a single vintage for each reference period."
   ]
  },
  {
   "cell_type": "code",
   "execution_count": 267,
   "id": "96f4dbc0-65b8-4fcf-90cc-ab28b652f35d",
   "metadata": {},
   "outputs": [
    {
     "name": "stdout",
     "output_type": "stream",
     "text": [
      "2000: 2012\n",
      "2001: 2012\n",
      "2002: 2012\n",
      "2003: 2012\n",
      "2004: 2012\n",
      "2005: 2012\n",
      "2006: 2012\n",
      "2007: 2012\n",
      "2008: 2012\n",
      "2009: 2012\n",
      "2010: 2012\n"
     ]
    }
   ],
   "source": [
    "for year in intercensal[\"REFERENCE_PERIOD\"].unique():\n",
    "    temp = intercensal.loc[intercensal[\"REFERENCE_PERIOD\"] == year]\n",
    "    print(\"{0}: {1}\".format(year, \",\".join(temp[\"VINTAGE_PERIOD\"].unique().astype(\"str\"))))"
   ]
  },
  {
   "cell_type": "markdown",
   "id": "23fd0a79-1dcf-43d3-a672-2ff2c1c8954f",
   "metadata": {},
   "source": [
    "Construct DATE field from reference period and reference period frequency."
   ]
  },
  {
   "cell_type": "code",
   "execution_count": 268,
   "id": "be4b2b45-027f-4c1f-9f7e-64949be825cc",
   "metadata": {},
   "outputs": [
    {
     "name": "stdout",
     "output_type": "stream",
     "text": [
      "INFO | Detected reference period frequency Y-JUN\n",
      "WARNING | Error occurred when attempting to create period index using 'Y-' format. Trying legacy 'A-' format.\n"
     ]
    }
   ],
   "source": [
    "if(intercensal[\"REFERENCE_PERIOD_FREQ\"].unique().shape[0] == 1):\n",
    "    freq = intercensal[\"REFERENCE_PERIOD_FREQ\"].iat[0]\n",
    "    print(\"INFO | Detected reference period frequency {}\".format(freq))\n",
    "else:\n",
    "    print(\"ERROR | Multiple reference period frequencies are not supported.\")\n",
    "    raise RuntimeError\n",
    "\n",
    "try:\n",
    "    periodIndex = pd.PeriodIndex(intercensal[\"REFERENCE_PERIOD\"], freq=freq)\n",
    "except:\n",
    "    print(\"WARNING | Error occurred when attempting to create period index using 'Y-' format. Trying legacy 'A-' format.\")\n",
    "    periodIndex = pd.PeriodIndex(intercensal[\"REFERENCE_PERIOD\"], freq=freq.replace(\"Y-\",\"A-\"))\n",
    "intercensal[\"DATE\"] = periodIndex.to_timestamp()"
   ]
  },
  {
   "cell_type": "markdown",
   "id": "c822fa4e-60af-448d-87c3-d3fb3f82ad4f",
   "metadata": {},
   "source": [
    "Show the data."
   ]
  },
  {
   "cell_type": "code",
   "execution_count": 269,
   "id": "cb420e90-7d78-401f-ba80-12bd080d246e",
   "metadata": {
    "scrolled": true
   },
   "outputs": [
    {
     "data": {
      "text/html": [
       "<div>\n",
       "<style scoped>\n",
       "    .dataframe tbody tr th:only-of-type {\n",
       "        vertical-align: middle;\n",
       "    }\n",
       "\n",
       "    .dataframe tbody tr th {\n",
       "        vertical-align: top;\n",
       "    }\n",
       "\n",
       "    .dataframe thead th {\n",
       "        text-align: right;\n",
       "    }\n",
       "</style>\n",
       "<table border=\"1\" class=\"dataframe\">\n",
       "  <thead>\n",
       "    <tr style=\"text-align: right;\">\n",
       "      <th></th>\n",
       "      <th>POP</th>\n",
       "      <th>GEOID</th>\n",
       "      <th>REFERENCE_PERIOD</th>\n",
       "      <th>REFERENCE_PERIOD_FREQ</th>\n",
       "      <th>VINTAGE_PERIOD</th>\n",
       "      <th>VINTAGE_PERIOD_FREQ</th>\n",
       "      <th>VALUE_TYPE</th>\n",
       "      <th>CONF_LEVEL</th>\n",
       "      <th>CONF_LIMIT_UPPER</th>\n",
       "      <th>CONF_LIMIT_LOWER</th>\n",
       "      <th>SOURCE</th>\n",
       "      <th>GEO_TYPE</th>\n",
       "      <th>DATE</th>\n",
       "    </tr>\n",
       "  </thead>\n",
       "  <tbody>\n",
       "    <tr>\n",
       "      <th>1</th>\n",
       "      <td>223518</td>\n",
       "      <td>39041</td>\n",
       "      <td>2000</td>\n",
       "      <td>Y-JUN</td>\n",
       "      <td>2012</td>\n",
       "      <td>&lt;NA&gt;</td>\n",
       "      <td>ESTIMATE</td>\n",
       "      <td>NaN</td>\n",
       "      <td>&lt;NA&gt;</td>\n",
       "      <td>&lt;NA&gt;</td>\n",
       "      <td>CENINT</td>\n",
       "      <td>COUNTY</td>\n",
       "      <td>1999-07-01</td>\n",
       "    </tr>\n",
       "    <tr>\n",
       "      <th>46</th>\n",
       "      <td>246970</td>\n",
       "      <td>39045</td>\n",
       "      <td>2000</td>\n",
       "      <td>Y-JUN</td>\n",
       "      <td>2012</td>\n",
       "      <td>&lt;NA&gt;</td>\n",
       "      <td>ESTIMATE</td>\n",
       "      <td>NaN</td>\n",
       "      <td>&lt;NA&gt;</td>\n",
       "      <td>&lt;NA&gt;</td>\n",
       "      <td>CENINT</td>\n",
       "      <td>COUNTY</td>\n",
       "      <td>1999-07-01</td>\n",
       "    </tr>\n",
       "    <tr>\n",
       "      <th>91</th>\n",
       "      <td>56990</td>\n",
       "      <td>39047</td>\n",
       "      <td>2000</td>\n",
       "      <td>Y-JUN</td>\n",
       "      <td>2012</td>\n",
       "      <td>&lt;NA&gt;</td>\n",
       "      <td>ESTIMATE</td>\n",
       "      <td>NaN</td>\n",
       "      <td>&lt;NA&gt;</td>\n",
       "      <td>&lt;NA&gt;</td>\n",
       "      <td>CENINT</td>\n",
       "      <td>COUNTY</td>\n",
       "      <td>1999-07-01</td>\n",
       "    </tr>\n",
       "    <tr>\n",
       "      <th>136</th>\n",
       "      <td>2144036</td>\n",
       "      <td>39049</td>\n",
       "      <td>2000</td>\n",
       "      <td>Y-JUN</td>\n",
       "      <td>2012</td>\n",
       "      <td>&lt;NA&gt;</td>\n",
       "      <td>ESTIMATE</td>\n",
       "      <td>NaN</td>\n",
       "      <td>&lt;NA&gt;</td>\n",
       "      <td>&lt;NA&gt;</td>\n",
       "      <td>CENINT</td>\n",
       "      <td>COUNTY</td>\n",
       "      <td>1999-07-01</td>\n",
       "    </tr>\n",
       "    <tr>\n",
       "      <th>181</th>\n",
       "      <td>56524</td>\n",
       "      <td>39073</td>\n",
       "      <td>2000</td>\n",
       "      <td>Y-JUN</td>\n",
       "      <td>2012</td>\n",
       "      <td>&lt;NA&gt;</td>\n",
       "      <td>ESTIMATE</td>\n",
       "      <td>NaN</td>\n",
       "      <td>&lt;NA&gt;</td>\n",
       "      <td>&lt;NA&gt;</td>\n",
       "      <td>CENINT</td>\n",
       "      <td>COUNTY</td>\n",
       "      <td>1999-07-01</td>\n",
       "    </tr>\n",
       "  </tbody>\n",
       "</table>\n",
       "</div>"
      ],
      "text/plain": [
       "         POP  GEOID  REFERENCE_PERIOD REFERENCE_PERIOD_FREQ  VINTAGE_PERIOD  \\\n",
       "1     223518  39041              2000                 Y-JUN            2012   \n",
       "46    246970  39045              2000                 Y-JUN            2012   \n",
       "91     56990  39047              2000                 Y-JUN            2012   \n",
       "136  2144036  39049              2000                 Y-JUN            2012   \n",
       "181    56524  39073              2000                 Y-JUN            2012   \n",
       "\n",
       "    VINTAGE_PERIOD_FREQ VALUE_TYPE  CONF_LEVEL  CONF_LIMIT_UPPER  \\\n",
       "1                  <NA>   ESTIMATE         NaN              <NA>   \n",
       "46                 <NA>   ESTIMATE         NaN              <NA>   \n",
       "91                 <NA>   ESTIMATE         NaN              <NA>   \n",
       "136                <NA>   ESTIMATE         NaN              <NA>   \n",
       "181                <NA>   ESTIMATE         NaN              <NA>   \n",
       "\n",
       "     CONF_LIMIT_LOWER  SOURCE GEO_TYPE       DATE  \n",
       "1                <NA>  CENINT   COUNTY 1999-07-01  \n",
       "46               <NA>  CENINT   COUNTY 1999-07-01  \n",
       "91               <NA>  CENINT   COUNTY 1999-07-01  \n",
       "136              <NA>  CENINT   COUNTY 1999-07-01  \n",
       "181              <NA>  CENINT   COUNTY 1999-07-01  "
      ]
     },
     "execution_count": 269,
     "metadata": {},
     "output_type": "execute_result"
    }
   ],
   "source": [
    "intercensal.head()"
   ]
  },
  {
   "cell_type": "code",
   "execution_count": 270,
   "id": "c3880dc1-9014-4dbd-9d03-02ab01c897cf",
   "metadata": {},
   "outputs": [],
   "source": [
    "extractedData.append(intercensal)"
   ]
  },
  {
   "cell_type": "markdown",
   "id": "48a82171-6443-48d2-96d2-1eb603e2ab0d",
   "metadata": {},
   "source": [
    "### Extract PEP estimates"
   ]
  },
  {
   "cell_type": "markdown",
   "id": "dada31ff-eb1e-47f7-b5c0-55cdae5507fc",
   "metadata": {},
   "source": [
    "Create list of years from user-specified range."
   ]
  },
  {
   "cell_type": "code",
   "execution_count": 271,
   "id": "9289e48d-cf71-466f-95bd-31cb0f1a3b5e",
   "metadata": {},
   "outputs": [
    {
     "name": "stdout",
     "output_type": "stream",
     "text": [
      "Including PEP estimates for years: 2011, 2012, 2013, 2014, 2015, 2016, 2017, 2018, 2019, 2020, 2021, 2022, 2023\n"
     ]
    }
   ],
   "source": [
    "pepRange = list(range(PEP_YEAR_RANGE[0], PEP_YEAR_RANGE[1]+1))\n",
    "print(\"Including PEP estimates for years: {}\".format(\", \".join([str(x) for x in pepRange])))"
   ]
  },
  {
   "cell_type": "markdown",
   "id": "22618e91-fb3b-4376-964d-ab7703f95ce9",
   "metadata": {},
   "source": [
    "Extract PEP estimates from combined table."
   ]
  },
  {
   "cell_type": "code",
   "execution_count": 272,
   "id": "dd2f9024-6736-403f-994f-249b119d441c",
   "metadata": {},
   "outputs": [],
   "source": [
    "pep = combinedPop.loc[combinedPop[\"SOURCE\"] == \"CENPEP\"].copy()"
   ]
  },
  {
   "cell_type": "markdown",
   "id": "3048b4f9-ae9f-4ad7-9840-9e9714850169",
   "metadata": {},
   "source": [
    "Reference period and vintage period were stored as strings, but for Census PEP estimates we can treat them as integers. Convert them now."
   ]
  },
  {
   "cell_type": "code",
   "execution_count": 273,
   "id": "a72218b9-420b-49ad-8b0d-5869f0ab7b1c",
   "metadata": {},
   "outputs": [],
   "source": [
    "pep = pep.astype({\n",
    "    \"REFERENCE_PERIOD\":\"int\",\n",
    "    \"VINTAGE_PERIOD\":\"int\"\n",
    "})"
   ]
  },
  {
   "cell_type": "markdown",
   "id": "67cedaf3-6427-4382-95a7-eef7b048840a",
   "metadata": {},
   "source": [
    "Verify that data is available for the specified years."
   ]
  },
  {
   "cell_type": "code",
   "execution_count": 274,
   "id": "d5fdc864-3c5b-42a2-ac99-ae22730d47b2",
   "metadata": {},
   "outputs": [
    {
     "name": "stdout",
     "output_type": "stream",
     "text": [
      "INFO | PEP data is available for all years in specified range.\n"
     ]
    }
   ],
   "source": [
    "if(not set(pepRange).issubset(set(pep[\"REFERENCE_PERIOD\"]))):\n",
    "    print(\"ERROR | Set of Census PEP years for which data is available does not match set derived from specified range.\")\n",
    "    print(\"Specified range: {}\".format(PEP_YEAR_RANGE))\n",
    "    print(\"Specified set: {}\".format(set(pepRange)))\n",
    "    print(\"Available set: {}\".format(set(pep[\"REFERENCE_PERIOD\"])))\n",
    "    raise RuntimeError\n",
    "else:\n",
    "    print(\"INFO | PEP data is available for all years in specified range.\")"
   ]
  },
  {
   "cell_type": "markdown",
   "id": "8e92a030-814e-41b1-94c9-e1dbfeecb516",
   "metadata": {},
   "source": [
    "Extract only the estimates for the specified years."
   ]
  },
  {
   "cell_type": "code",
   "execution_count": 275,
   "id": "2f39d999-08cf-4b7e-96ce-7e08a1288fba",
   "metadata": {},
   "outputs": [],
   "source": [
    "pep = morpc.extract_vintage(pep, refPeriods=pepRange)"
   ]
  },
  {
   "cell_type": "markdown",
   "id": "7991917a-967f-4071-b93c-61831221b57b",
   "metadata": {},
   "source": [
    "Verify that all reference periods are present and that there is only a single vintage for each reference period."
   ]
  },
  {
   "cell_type": "code",
   "execution_count": 276,
   "id": "fad56fe2-a50a-4773-b902-e3a530572ead",
   "metadata": {},
   "outputs": [
    {
     "name": "stdout",
     "output_type": "stream",
     "text": [
      "2011: 2019\n",
      "2012: 2019\n",
      "2013: 2019\n",
      "2014: 2019\n",
      "2015: 2019\n",
      "2016: 2019\n",
      "2017: 2019\n",
      "2018: 2019\n",
      "2019: 2019\n",
      "2020: 2023\n",
      "2021: 2023\n",
      "2022: 2023\n",
      "2023: 2023\n"
     ]
    }
   ],
   "source": [
    "for year in pep[\"REFERENCE_PERIOD\"].unique():\n",
    "    temp = pep.loc[pep[\"REFERENCE_PERIOD\"] == year]\n",
    "    print(\"{0}: {1}\".format(year, \",\".join(temp[\"VINTAGE_PERIOD\"].unique().astype(\"str\"))))"
   ]
  },
  {
   "cell_type": "markdown",
   "id": "491b4895-9bdd-497a-a7ba-844b2d3caf4e",
   "metadata": {},
   "source": [
    "Construct DATE field from reference period and reference period frequency."
   ]
  },
  {
   "cell_type": "code",
   "execution_count": 277,
   "id": "9ff3c906-6e60-4427-b100-6367427565d1",
   "metadata": {},
   "outputs": [
    {
     "name": "stdout",
     "output_type": "stream",
     "text": [
      "INFO | Detected reference period frequency Y-JUN\n",
      "WARNING | Error occurred when attempting to create period index using 'Y-' format. Trying legacy 'A-' format.\n"
     ]
    }
   ],
   "source": [
    "if(pep[\"REFERENCE_PERIOD_FREQ\"].unique().shape[0] == 1):\n",
    "    freq = pep[\"REFERENCE_PERIOD_FREQ\"].iat[0]\n",
    "    print(\"INFO | Detected reference period frequency {}\".format(freq))\n",
    "else:\n",
    "    print(\"ERROR | Multiple reference period frequencies are not supported.\")\n",
    "    raise RuntimeError\n",
    "\n",
    "try:\n",
    "    periodIndex = pd.PeriodIndex(pep[\"REFERENCE_PERIOD\"], freq=freq)\n",
    "except:\n",
    "    print(\"WARNING | Error occurred when attempting to create period index using 'Y-' format. Trying legacy 'A-' format.\")\n",
    "    periodIndex = pd.PeriodIndex(pep[\"REFERENCE_PERIOD\"], freq=freq.replace(\"Y-\",\"A-\"))\n",
    "pep[\"DATE\"] = periodIndex.to_timestamp()"
   ]
  },
  {
   "cell_type": "markdown",
   "id": "9a166db0-e265-4ada-bfa9-b14c4ac35f46",
   "metadata": {},
   "source": [
    "Show the data."
   ]
  },
  {
   "cell_type": "code",
   "execution_count": 278,
   "id": "2130e38f-d6c4-48b6-932d-1c9a05882f22",
   "metadata": {
    "scrolled": true
   },
   "outputs": [
    {
     "data": {
      "text/html": [
       "<div>\n",
       "<style scoped>\n",
       "    .dataframe tbody tr th:only-of-type {\n",
       "        vertical-align: middle;\n",
       "    }\n",
       "\n",
       "    .dataframe tbody tr th {\n",
       "        vertical-align: top;\n",
       "    }\n",
       "\n",
       "    .dataframe thead th {\n",
       "        text-align: right;\n",
       "    }\n",
       "</style>\n",
       "<table border=\"1\" class=\"dataframe\">\n",
       "  <thead>\n",
       "    <tr style=\"text-align: right;\">\n",
       "      <th></th>\n",
       "      <th>POP</th>\n",
       "      <th>GEOID</th>\n",
       "      <th>REFERENCE_PERIOD</th>\n",
       "      <th>REFERENCE_PERIOD_FREQ</th>\n",
       "      <th>VINTAGE_PERIOD</th>\n",
       "      <th>VINTAGE_PERIOD_FREQ</th>\n",
       "      <th>VALUE_TYPE</th>\n",
       "      <th>CONF_LEVEL</th>\n",
       "      <th>CONF_LIMIT_UPPER</th>\n",
       "      <th>CONF_LIMIT_LOWER</th>\n",
       "      <th>SOURCE</th>\n",
       "      <th>GEO_TYPE</th>\n",
       "      <th>DATE</th>\n",
       "    </tr>\n",
       "  </thead>\n",
       "  <tbody>\n",
       "    <tr>\n",
       "      <th>22</th>\n",
       "      <td>178535</td>\n",
       "      <td>39041</td>\n",
       "      <td>2011</td>\n",
       "      <td>Y-JUN</td>\n",
       "      <td>2019</td>\n",
       "      <td>&lt;NA&gt;</td>\n",
       "      <td>ESTIMATE</td>\n",
       "      <td>NaN</td>\n",
       "      <td>&lt;NA&gt;</td>\n",
       "      <td>&lt;NA&gt;</td>\n",
       "      <td>CENPEP</td>\n",
       "      <td>COUNTY</td>\n",
       "      <td>2010-07-01</td>\n",
       "    </tr>\n",
       "    <tr>\n",
       "      <th>67</th>\n",
       "      <td>147174</td>\n",
       "      <td>39045</td>\n",
       "      <td>2011</td>\n",
       "      <td>Y-JUN</td>\n",
       "      <td>2019</td>\n",
       "      <td>&lt;NA&gt;</td>\n",
       "      <td>ESTIMATE</td>\n",
       "      <td>NaN</td>\n",
       "      <td>&lt;NA&gt;</td>\n",
       "      <td>&lt;NA&gt;</td>\n",
       "      <td>CENPEP</td>\n",
       "      <td>COUNTY</td>\n",
       "      <td>2010-07-01</td>\n",
       "    </tr>\n",
       "    <tr>\n",
       "      <th>112</th>\n",
       "      <td>28867</td>\n",
       "      <td>39047</td>\n",
       "      <td>2011</td>\n",
       "      <td>Y-JUN</td>\n",
       "      <td>2019</td>\n",
       "      <td>&lt;NA&gt;</td>\n",
       "      <td>ESTIMATE</td>\n",
       "      <td>NaN</td>\n",
       "      <td>&lt;NA&gt;</td>\n",
       "      <td>&lt;NA&gt;</td>\n",
       "      <td>CENPEP</td>\n",
       "      <td>COUNTY</td>\n",
       "      <td>2010-07-01</td>\n",
       "    </tr>\n",
       "    <tr>\n",
       "      <th>157</th>\n",
       "      <td>1180800</td>\n",
       "      <td>39049</td>\n",
       "      <td>2011</td>\n",
       "      <td>Y-JUN</td>\n",
       "      <td>2019</td>\n",
       "      <td>&lt;NA&gt;</td>\n",
       "      <td>ESTIMATE</td>\n",
       "      <td>NaN</td>\n",
       "      <td>&lt;NA&gt;</td>\n",
       "      <td>&lt;NA&gt;</td>\n",
       "      <td>CENPEP</td>\n",
       "      <td>COUNTY</td>\n",
       "      <td>2010-07-01</td>\n",
       "    </tr>\n",
       "    <tr>\n",
       "      <th>202</th>\n",
       "      <td>29466</td>\n",
       "      <td>39073</td>\n",
       "      <td>2011</td>\n",
       "      <td>Y-JUN</td>\n",
       "      <td>2019</td>\n",
       "      <td>&lt;NA&gt;</td>\n",
       "      <td>ESTIMATE</td>\n",
       "      <td>NaN</td>\n",
       "      <td>&lt;NA&gt;</td>\n",
       "      <td>&lt;NA&gt;</td>\n",
       "      <td>CENPEP</td>\n",
       "      <td>COUNTY</td>\n",
       "      <td>2010-07-01</td>\n",
       "    </tr>\n",
       "  </tbody>\n",
       "</table>\n",
       "</div>"
      ],
      "text/plain": [
       "         POP  GEOID  REFERENCE_PERIOD REFERENCE_PERIOD_FREQ  VINTAGE_PERIOD  \\\n",
       "22    178535  39041              2011                 Y-JUN            2019   \n",
       "67    147174  39045              2011                 Y-JUN            2019   \n",
       "112    28867  39047              2011                 Y-JUN            2019   \n",
       "157  1180800  39049              2011                 Y-JUN            2019   \n",
       "202    29466  39073              2011                 Y-JUN            2019   \n",
       "\n",
       "    VINTAGE_PERIOD_FREQ VALUE_TYPE  CONF_LEVEL  CONF_LIMIT_UPPER  \\\n",
       "22                 <NA>   ESTIMATE         NaN              <NA>   \n",
       "67                 <NA>   ESTIMATE         NaN              <NA>   \n",
       "112                <NA>   ESTIMATE         NaN              <NA>   \n",
       "157                <NA>   ESTIMATE         NaN              <NA>   \n",
       "202                <NA>   ESTIMATE         NaN              <NA>   \n",
       "\n",
       "     CONF_LIMIT_LOWER  SOURCE GEO_TYPE       DATE  \n",
       "22               <NA>  CENPEP   COUNTY 2010-07-01  \n",
       "67               <NA>  CENPEP   COUNTY 2010-07-01  \n",
       "112              <NA>  CENPEP   COUNTY 2010-07-01  \n",
       "157              <NA>  CENPEP   COUNTY 2010-07-01  \n",
       "202              <NA>  CENPEP   COUNTY 2010-07-01  "
      ]
     },
     "execution_count": 278,
     "metadata": {},
     "output_type": "execute_result"
    }
   ],
   "source": [
    "pep.head()"
   ]
  },
  {
   "cell_type": "code",
   "execution_count": 279,
   "id": "c27cc43e-5990-40c3-a8ac-007e58e306d0",
   "metadata": {},
   "outputs": [],
   "source": [
    "extractedData.append(pep)"
   ]
  },
  {
   "cell_type": "markdown",
   "id": "cf539ea7-aaff-4fae-9cd8-fb4302612f5f",
   "metadata": {},
   "source": [
    "### Extract MORPC estimates"
   ]
  },
  {
   "cell_type": "markdown",
   "id": "1fa76b50-0a15-4508-ae2b-057543b72393",
   "metadata": {},
   "source": [
    "Create list of years from user-specified range."
   ]
  },
  {
   "cell_type": "code",
   "execution_count": 280,
   "id": "7ab9e531-a671-43b4-b259-dc2935908e33",
   "metadata": {},
   "outputs": [
    {
     "name": "stdout",
     "output_type": "stream",
     "text": [
      "Including MORPC estimates for years: 2024\n"
     ]
    }
   ],
   "source": [
    "morpcEstimatesRange = list(range(MORPC_ESTIMATE_YEAR_RANGE[0], MORPC_ESTIMATE_YEAR_RANGE[1]+1))\n",
    "print(\"Including MORPC estimates for years: {}\".format(\", \".join([str(x) for x in morpcEstimatesRange])))"
   ]
  },
  {
   "cell_type": "markdown",
   "id": "079300e6-f29a-49b2-a1ee-4074bfb4036f",
   "metadata": {},
   "source": [
    "Extract MORPC estimates from combined table."
   ]
  },
  {
   "cell_type": "code",
   "execution_count": 281,
   "id": "5c64f915-7fb2-4b5f-9a48-d2174b0ed770",
   "metadata": {},
   "outputs": [],
   "source": [
    "morpcEstimates = combinedPop.loc[(combinedPop[\"SOURCE\"] == \"MORPC\") & (combinedPop[\"VALUE_TYPE\"] == \"ESTIMATE\")].copy()"
   ]
  },
  {
   "cell_type": "markdown",
   "id": "8942de3f-d902-4a2e-9b16-934add103612",
   "metadata": {},
   "source": [
    "Reference period and vintage period were stored as strings, but for MORPC estimates we can treat them as integers. Convert them now."
   ]
  },
  {
   "cell_type": "code",
   "execution_count": 282,
   "id": "6d7ae42a-9944-4d0b-8fcd-62bb1c2652af",
   "metadata": {},
   "outputs": [],
   "source": [
    "morpcEstimates = morpcEstimates.astype({\n",
    "    \"REFERENCE_PERIOD\":\"int\",\n",
    "    \"VINTAGE_PERIOD\":\"int\"\n",
    "})"
   ]
  },
  {
   "cell_type": "markdown",
   "id": "f135e698-ceff-42f7-92ac-fec103ddce08",
   "metadata": {},
   "source": [
    "Verify that data is available for the specified years."
   ]
  },
  {
   "cell_type": "code",
   "execution_count": 283,
   "id": "6dc78cc5-2dfa-4e86-a555-a9860cd4c232",
   "metadata": {},
   "outputs": [
    {
     "name": "stdout",
     "output_type": "stream",
     "text": [
      "INFO | MORPC estimates data is available for all years in specified range.\n"
     ]
    }
   ],
   "source": [
    "if(not set(morpcEstimatesRange).issubset(set(morpcEstimates[\"REFERENCE_PERIOD\"]))):\n",
    "    print(\"ERROR | Set of MORPC estimate years for which data is available does not match set derived from specified range.\")\n",
    "    print(\"Specified range: {}\".format(MORPC_ESTIMATE_YEAR_RANGE))\n",
    "    print(\"Specified set: {}\".format(set(morpcEstimatesRange)))\n",
    "    print(\"Available set: {}\".format(set(pep[\"REFERENCE_PERIOD\"])))\n",
    "    raise RuntimeError\n",
    "else:\n",
    "    print(\"INFO | MORPC estimates data is available for all years in specified range.\")"
   ]
  },
  {
   "cell_type": "markdown",
   "id": "c35004d6-7c85-44c4-aaa0-5cfd0c22b5c2",
   "metadata": {},
   "source": [
    "Extract only the estimates for the specified years."
   ]
  },
  {
   "cell_type": "code",
   "execution_count": 284,
   "id": "4bef8084-6266-460a-a8a2-b14ad367ad00",
   "metadata": {},
   "outputs": [],
   "source": [
    "morpcEstimates = morpc.extract_vintage(morpcEstimates, refPeriods=morpcEstimatesRange)"
   ]
  },
  {
   "cell_type": "markdown",
   "id": "0e30f60e-949b-4b72-8b2b-ae071fc555d9",
   "metadata": {},
   "source": [
    "Verify that all reference periods are present and that there is only a single vintage for each reference period."
   ]
  },
  {
   "cell_type": "code",
   "execution_count": 285,
   "id": "2e504aa8-f343-4010-a18a-2fea3b4e62b1",
   "metadata": {},
   "outputs": [
    {
     "name": "stdout",
     "output_type": "stream",
     "text": [
      "2024: 2024\n"
     ]
    }
   ],
   "source": [
    "for year in morpcEstimates[\"REFERENCE_PERIOD\"].unique():\n",
    "    temp = morpcEstimates.loc[morpcEstimates[\"REFERENCE_PERIOD\"] == year]\n",
    "    print(\"{0}: {1}\".format(year, \",\".join(temp[\"VINTAGE_PERIOD\"].unique().astype(\"str\"))))"
   ]
  },
  {
   "cell_type": "markdown",
   "id": "e8591ee3-30e1-4132-a39f-3d446eb74962",
   "metadata": {},
   "source": [
    "Construct DATE field from reference period and reference period frequency."
   ]
  },
  {
   "cell_type": "code",
   "execution_count": 286,
   "id": "591aa9f4-f19c-4f81-9f85-60bd57909dc3",
   "metadata": {},
   "outputs": [
    {
     "name": "stdout",
     "output_type": "stream",
     "text": [
      "INFO | Detected reference period frequency Y-DEC\n",
      "WARNING | Error occurred when attempting to create period index using 'Y-' format. Trying legacy 'A-' format.\n"
     ]
    }
   ],
   "source": [
    "if(morpcEstimates[\"REFERENCE_PERIOD_FREQ\"].unique().shape[0] == 1):\n",
    "    freq = morpcEstimates[\"REFERENCE_PERIOD_FREQ\"].iat[0]\n",
    "    print(\"INFO | Detected reference period frequency {}\".format(freq))\n",
    "else:\n",
    "    print(\"ERROR | Multiple reference period frequencies are not supported.\")\n",
    "    raise RuntimeError\n",
    "\n",
    "try:\n",
    "    periodIndex = pd.PeriodIndex(morpcEstimates[\"REFERENCE_PERIOD\"], freq=freq)\n",
    "except:\n",
    "    print(\"WARNING | Error occurred when attempting to create period index using 'Y-' format. Trying legacy 'A-' format.\")\n",
    "    periodIndex = pd.PeriodIndex(morpcEstimates[\"REFERENCE_PERIOD\"], freq=freq.replace(\"Y-\",\"A-\"))\n",
    "morpcEstimates[\"DATE\"] = periodIndex.to_timestamp()"
   ]
  },
  {
   "cell_type": "markdown",
   "id": "9ee3210e-0072-4da5-b4df-028e32ccee5c",
   "metadata": {},
   "source": [
    "Show the data."
   ]
  },
  {
   "cell_type": "code",
   "execution_count": 287,
   "id": "8a6e602e-6a02-438c-979e-4733ab23fdb7",
   "metadata": {},
   "outputs": [
    {
     "data": {
      "text/html": [
       "<div>\n",
       "<style scoped>\n",
       "    .dataframe tbody tr th:only-of-type {\n",
       "        vertical-align: middle;\n",
       "    }\n",
       "\n",
       "    .dataframe tbody tr th {\n",
       "        vertical-align: top;\n",
       "    }\n",
       "\n",
       "    .dataframe thead th {\n",
       "        text-align: right;\n",
       "    }\n",
       "</style>\n",
       "<table border=\"1\" class=\"dataframe\">\n",
       "  <thead>\n",
       "    <tr style=\"text-align: right;\">\n",
       "      <th></th>\n",
       "      <th>POP</th>\n",
       "      <th>GEOID</th>\n",
       "      <th>REFERENCE_PERIOD</th>\n",
       "      <th>REFERENCE_PERIOD_FREQ</th>\n",
       "      <th>VINTAGE_PERIOD</th>\n",
       "      <th>VINTAGE_PERIOD_FREQ</th>\n",
       "      <th>VALUE_TYPE</th>\n",
       "      <th>CONF_LEVEL</th>\n",
       "      <th>CONF_LIMIT_UPPER</th>\n",
       "      <th>CONF_LIMIT_LOWER</th>\n",
       "      <th>SOURCE</th>\n",
       "      <th>GEO_TYPE</th>\n",
       "      <th>DATE</th>\n",
       "    </tr>\n",
       "  </thead>\n",
       "  <tbody>\n",
       "    <tr>\n",
       "      <th>38</th>\n",
       "      <td>234305</td>\n",
       "      <td>39041</td>\n",
       "      <td>2024</td>\n",
       "      <td>Y-DEC</td>\n",
       "      <td>2024</td>\n",
       "      <td>Y-DEC</td>\n",
       "      <td>ESTIMATE</td>\n",
       "      <td>NaN</td>\n",
       "      <td>&lt;NA&gt;</td>\n",
       "      <td>&lt;NA&gt;</td>\n",
       "      <td>MORPC</td>\n",
       "      <td>COUNTY</td>\n",
       "      <td>2024-01-01</td>\n",
       "    </tr>\n",
       "    <tr>\n",
       "      <th>83</th>\n",
       "      <td>166534</td>\n",
       "      <td>39045</td>\n",
       "      <td>2024</td>\n",
       "      <td>Y-DEC</td>\n",
       "      <td>2024</td>\n",
       "      <td>Y-DEC</td>\n",
       "      <td>ESTIMATE</td>\n",
       "      <td>NaN</td>\n",
       "      <td>&lt;NA&gt;</td>\n",
       "      <td>&lt;NA&gt;</td>\n",
       "      <td>MORPC</td>\n",
       "      <td>COUNTY</td>\n",
       "      <td>2024-01-01</td>\n",
       "    </tr>\n",
       "    <tr>\n",
       "      <th>128</th>\n",
       "      <td>28792</td>\n",
       "      <td>39047</td>\n",
       "      <td>2024</td>\n",
       "      <td>Y-DEC</td>\n",
       "      <td>2024</td>\n",
       "      <td>Y-DEC</td>\n",
       "      <td>ESTIMATE</td>\n",
       "      <td>NaN</td>\n",
       "      <td>&lt;NA&gt;</td>\n",
       "      <td>&lt;NA&gt;</td>\n",
       "      <td>MORPC</td>\n",
       "      <td>COUNTY</td>\n",
       "      <td>2024-01-01</td>\n",
       "    </tr>\n",
       "    <tr>\n",
       "      <th>173</th>\n",
       "      <td>1328013</td>\n",
       "      <td>39049</td>\n",
       "      <td>2024</td>\n",
       "      <td>Y-DEC</td>\n",
       "      <td>2024</td>\n",
       "      <td>Y-DEC</td>\n",
       "      <td>ESTIMATE</td>\n",
       "      <td>NaN</td>\n",
       "      <td>&lt;NA&gt;</td>\n",
       "      <td>&lt;NA&gt;</td>\n",
       "      <td>MORPC</td>\n",
       "      <td>COUNTY</td>\n",
       "      <td>2024-01-01</td>\n",
       "    </tr>\n",
       "    <tr>\n",
       "      <th>218</th>\n",
       "      <td>27505</td>\n",
       "      <td>39073</td>\n",
       "      <td>2024</td>\n",
       "      <td>Y-DEC</td>\n",
       "      <td>2024</td>\n",
       "      <td>Y-DEC</td>\n",
       "      <td>ESTIMATE</td>\n",
       "      <td>NaN</td>\n",
       "      <td>&lt;NA&gt;</td>\n",
       "      <td>&lt;NA&gt;</td>\n",
       "      <td>MORPC</td>\n",
       "      <td>COUNTY</td>\n",
       "      <td>2024-01-01</td>\n",
       "    </tr>\n",
       "  </tbody>\n",
       "</table>\n",
       "</div>"
      ],
      "text/plain": [
       "         POP  GEOID  REFERENCE_PERIOD REFERENCE_PERIOD_FREQ  VINTAGE_PERIOD  \\\n",
       "38    234305  39041              2024                 Y-DEC            2024   \n",
       "83    166534  39045              2024                 Y-DEC            2024   \n",
       "128    28792  39047              2024                 Y-DEC            2024   \n",
       "173  1328013  39049              2024                 Y-DEC            2024   \n",
       "218    27505  39073              2024                 Y-DEC            2024   \n",
       "\n",
       "    VINTAGE_PERIOD_FREQ VALUE_TYPE  CONF_LEVEL  CONF_LIMIT_UPPER  \\\n",
       "38                Y-DEC   ESTIMATE         NaN              <NA>   \n",
       "83                Y-DEC   ESTIMATE         NaN              <NA>   \n",
       "128               Y-DEC   ESTIMATE         NaN              <NA>   \n",
       "173               Y-DEC   ESTIMATE         NaN              <NA>   \n",
       "218               Y-DEC   ESTIMATE         NaN              <NA>   \n",
       "\n",
       "     CONF_LIMIT_LOWER SOURCE GEO_TYPE       DATE  \n",
       "38               <NA>  MORPC   COUNTY 2024-01-01  \n",
       "83               <NA>  MORPC   COUNTY 2024-01-01  \n",
       "128              <NA>  MORPC   COUNTY 2024-01-01  \n",
       "173              <NA>  MORPC   COUNTY 2024-01-01  \n",
       "218              <NA>  MORPC   COUNTY 2024-01-01  "
      ]
     },
     "execution_count": 287,
     "metadata": {},
     "output_type": "execute_result"
    }
   ],
   "source": [
    "morpcEstimates.head()"
   ]
  },
  {
   "cell_type": "code",
   "execution_count": 288,
   "id": "f84aca41-bf1d-4076-ac02-4b361a6b9a04",
   "metadata": {},
   "outputs": [],
   "source": [
    "extractedData.append(morpcEstimates)"
   ]
  },
  {
   "cell_type": "markdown",
   "id": "676841d4-b8a0-499f-b3be-3b10c3df0165",
   "metadata": {},
   "source": [
    "### Extract MORPC forecasts"
   ]
  },
  {
   "cell_type": "markdown",
   "id": "a40c97aa-e754-4f0f-bc93-4594c9160d5e",
   "metadata": {},
   "source": [
    "Create list of years from user-specified range."
   ]
  },
  {
   "cell_type": "code",
   "execution_count": 289,
   "id": "66c4cb8e-b304-4411-ada5-e20d7a40a3de",
   "metadata": {},
   "outputs": [
    {
     "name": "stdout",
     "output_type": "stream",
     "text": [
      "Including MORPC forecasts for years: 2025, 2030, 2035, 2040, 2045, 2050\n"
     ]
    }
   ],
   "source": [
    "morpcForecastsRange = list(range(MORPC_FORECAST_YEAR_RANGE[0], MORPC_FORECAST_YEAR_RANGE[1]+1, MORPC_FORECAST_YEAR_INTERVAL))\n",
    "print(\"Including MORPC forecasts for years: {}\".format(\", \".join([str(x) for x in morpcForecastsRange])))"
   ]
  },
  {
   "cell_type": "markdown",
   "id": "1e6a0a53-fee2-4cb9-9160-f66919544122",
   "metadata": {},
   "source": [
    "Extract MORPC forecasts from combined table."
   ]
  },
  {
   "cell_type": "code",
   "execution_count": 290,
   "id": "e50575a5-771b-4d1c-bd9b-7c4851398586",
   "metadata": {},
   "outputs": [],
   "source": [
    "morpcForecasts = combinedPop.loc[(combinedPop[\"SOURCE\"] == \"MORPC\") & (combinedPop[\"VALUE_TYPE\"] == \"FORECAST\")].copy()"
   ]
  },
  {
   "cell_type": "markdown",
   "id": "61dbed50-a132-4d36-8cf3-0aba1ded94c3",
   "metadata": {},
   "source": [
    "Reference period and vintage period were stored as strings, but for MORPC forecasts we can treat them as integers. Convert them now."
   ]
  },
  {
   "cell_type": "code",
   "execution_count": 291,
   "id": "e0199fd4-9e9a-40eb-a51f-393a4efe8da0",
   "metadata": {},
   "outputs": [],
   "source": [
    "morpcForecasts = morpcForecasts.astype({\n",
    "    \"REFERENCE_PERIOD\":\"int\",\n",
    "    \"VINTAGE_PERIOD\":\"int\"\n",
    "})"
   ]
  },
  {
   "cell_type": "raw",
   "id": "9db116df-c750-480a-946b-7d2e6c538e77",
   "metadata": {},
   "source": [
    "Verify that data is available for the specified years."
   ]
  },
  {
   "cell_type": "code",
   "execution_count": 292,
   "id": "12b08bca-45d0-4999-91f0-ac6e5b82be8f",
   "metadata": {},
   "outputs": [
    {
     "name": "stdout",
     "output_type": "stream",
     "text": [
      "INFO | MORPC forecasts data is available for all years in specified range.\n"
     ]
    }
   ],
   "source": [
    "if(not set(morpcForecastsRange).issubset(set(morpcForecasts[\"REFERENCE_PERIOD\"]))):\n",
    "    print(\"ERROR | Set of MORPC forecast years for which data is available does not match set derived from specified range.\")\n",
    "    print(\"Specified range: {}\".format(MORPC_FORECAST_YEAR_RANGE))\n",
    "    print(\"Specified set: {}\".format(set(morpcForecastsRange)))\n",
    "    print(\"Available set: {}\".format(set(pep[\"REFERENCE_PERIOD\"])))\n",
    "    raise RuntimeError\n",
    "else:\n",
    "    print(\"INFO | MORPC forecasts data is available for all years in specified range.\")"
   ]
  },
  {
   "cell_type": "markdown",
   "id": "27cb31a2-e02b-4379-a56b-8c6d2ceedd86",
   "metadata": {},
   "source": [
    "Extract only the estimates for the specified years."
   ]
  },
  {
   "cell_type": "code",
   "execution_count": 293,
   "id": "7e57fae7-632b-47ef-b5e9-16b80c258a4b",
   "metadata": {},
   "outputs": [],
   "source": [
    "morpcForecasts = morpc.extract_vintage(morpcForecasts, refPeriods=morpcForecastsRange)"
   ]
  },
  {
   "cell_type": "markdown",
   "id": "578f3bb5-c9e9-42b9-8cb3-f2c8eab68298",
   "metadata": {},
   "source": [
    "Verify that all reference periods are present and that there is only a single vintage for each reference period."
   ]
  },
  {
   "cell_type": "code",
   "execution_count": 294,
   "id": "616b8131-53b7-4c34-b003-63068bdf79b2",
   "metadata": {},
   "outputs": [
    {
     "name": "stdout",
     "output_type": "stream",
     "text": [
      "2025: 2023\n",
      "2030: 2023\n",
      "2035: 2023\n",
      "2040: 2023\n",
      "2045: 2023\n",
      "2050: 2023\n"
     ]
    }
   ],
   "source": [
    "for year in morpcForecasts[\"REFERENCE_PERIOD\"].unique():\n",
    "    temp = morpcForecasts.loc[morpcForecasts[\"REFERENCE_PERIOD\"] == year]\n",
    "    print(\"{0}: {1}\".format(year, \",\".join(temp[\"VINTAGE_PERIOD\"].unique().astype(\"str\"))))"
   ]
  },
  {
   "cell_type": "markdown",
   "id": "0c59aa7e-d1e7-4a9b-aa0d-6a578f911b4a",
   "metadata": {},
   "source": [
    "Construct DATE field from reference period and reference period frequency."
   ]
  },
  {
   "cell_type": "code",
   "execution_count": 295,
   "id": "5fb17065-f3fa-4c67-b9bc-45e5b564ce42",
   "metadata": {},
   "outputs": [
    {
     "name": "stdout",
     "output_type": "stream",
     "text": [
      "INFO | Detected reference period frequency Y-JUN\n",
      "WARNING | Error occurred when attempting to create period index using 'Y-' format. Trying legacy 'A-' format.\n"
     ]
    }
   ],
   "source": [
    "if(morpcForecasts[\"REFERENCE_PERIOD_FREQ\"].unique().shape[0] == 1):\n",
    "    freq = morpcForecasts[\"REFERENCE_PERIOD_FREQ\"].iat[0]\n",
    "    print(\"INFO | Detected reference period frequency {}\".format(freq))\n",
    "else:\n",
    "    print(\"ERROR | Multiple reference period frequencies are not supported.\")\n",
    "    raise RuntimeError\n",
    "\n",
    "try:\n",
    "    periodIndex = pd.PeriodIndex(morpcForecasts[\"REFERENCE_PERIOD\"], freq=freq)\n",
    "except:\n",
    "    print(\"WARNING | Error occurred when attempting to create period index using 'Y-' format. Trying legacy 'A-' format.\")\n",
    "    periodIndex = pd.PeriodIndex(morpcForecasts[\"REFERENCE_PERIOD\"], freq=freq.replace(\"Y-\",\"A-\"))\n",
    "morpcForecasts[\"DATE\"] = periodIndex.to_timestamp()"
   ]
  },
  {
   "cell_type": "markdown",
   "id": "e8bf5c08-c776-4eab-9042-2f1612911b8c",
   "metadata": {},
   "source": [
    "Show the data."
   ]
  },
  {
   "cell_type": "code",
   "execution_count": 296,
   "id": "67d2c497-00ca-452c-a0b6-bdff1558c562",
   "metadata": {},
   "outputs": [
    {
     "data": {
      "text/html": [
       "<div>\n",
       "<style scoped>\n",
       "    .dataframe tbody tr th:only-of-type {\n",
       "        vertical-align: middle;\n",
       "    }\n",
       "\n",
       "    .dataframe tbody tr th {\n",
       "        vertical-align: top;\n",
       "    }\n",
       "\n",
       "    .dataframe thead th {\n",
       "        text-align: right;\n",
       "    }\n",
       "</style>\n",
       "<table border=\"1\" class=\"dataframe\">\n",
       "  <thead>\n",
       "    <tr style=\"text-align: right;\">\n",
       "      <th></th>\n",
       "      <th>POP</th>\n",
       "      <th>GEOID</th>\n",
       "      <th>REFERENCE_PERIOD</th>\n",
       "      <th>REFERENCE_PERIOD_FREQ</th>\n",
       "      <th>VINTAGE_PERIOD</th>\n",
       "      <th>VINTAGE_PERIOD_FREQ</th>\n",
       "      <th>VALUE_TYPE</th>\n",
       "      <th>CONF_LEVEL</th>\n",
       "      <th>CONF_LIMIT_UPPER</th>\n",
       "      <th>CONF_LIMIT_LOWER</th>\n",
       "      <th>SOURCE</th>\n",
       "      <th>GEO_TYPE</th>\n",
       "      <th>DATE</th>\n",
       "    </tr>\n",
       "  </thead>\n",
       "  <tbody>\n",
       "    <tr>\n",
       "      <th>39</th>\n",
       "      <td>247016</td>\n",
       "      <td>39041</td>\n",
       "      <td>2025</td>\n",
       "      <td>Y-JUN</td>\n",
       "      <td>2023</td>\n",
       "      <td>&lt;NA&gt;</td>\n",
       "      <td>FORECAST</td>\n",
       "      <td>0.8</td>\n",
       "      <td>248441</td>\n",
       "      <td>238464</td>\n",
       "      <td>MORPC</td>\n",
       "      <td>COUNTY</td>\n",
       "      <td>2024-07-01</td>\n",
       "    </tr>\n",
       "    <tr>\n",
       "      <th>84</th>\n",
       "      <td>169183</td>\n",
       "      <td>39045</td>\n",
       "      <td>2025</td>\n",
       "      <td>Y-JUN</td>\n",
       "      <td>2023</td>\n",
       "      <td>&lt;NA&gt;</td>\n",
       "      <td>FORECAST</td>\n",
       "      <td>0.8</td>\n",
       "      <td>171704</td>\n",
       "      <td>163990</td>\n",
       "      <td>MORPC</td>\n",
       "      <td>COUNTY</td>\n",
       "      <td>2024-07-01</td>\n",
       "    </tr>\n",
       "    <tr>\n",
       "      <th>129</th>\n",
       "      <td>29419</td>\n",
       "      <td>39047</td>\n",
       "      <td>2025</td>\n",
       "      <td>Y-JUN</td>\n",
       "      <td>2023</td>\n",
       "      <td>&lt;NA&gt;</td>\n",
       "      <td>FORECAST</td>\n",
       "      <td>0.8</td>\n",
       "      <td>29855</td>\n",
       "      <td>28912</td>\n",
       "      <td>MORPC</td>\n",
       "      <td>COUNTY</td>\n",
       "      <td>2024-07-01</td>\n",
       "    </tr>\n",
       "    <tr>\n",
       "      <th>174</th>\n",
       "      <td>1390127</td>\n",
       "      <td>39049</td>\n",
       "      <td>2025</td>\n",
       "      <td>Y-JUN</td>\n",
       "      <td>2023</td>\n",
       "      <td>&lt;NA&gt;</td>\n",
       "      <td>FORECAST</td>\n",
       "      <td>0.8</td>\n",
       "      <td>1409654</td>\n",
       "      <td>1333445</td>\n",
       "      <td>MORPC</td>\n",
       "      <td>COUNTY</td>\n",
       "      <td>2024-07-01</td>\n",
       "    </tr>\n",
       "    <tr>\n",
       "      <th>219</th>\n",
       "      <td>27965</td>\n",
       "      <td>39073</td>\n",
       "      <td>2025</td>\n",
       "      <td>Y-JUN</td>\n",
       "      <td>2023</td>\n",
       "      <td>&lt;NA&gt;</td>\n",
       "      <td>FORECAST</td>\n",
       "      <td>0.8</td>\n",
       "      <td>28660</td>\n",
       "      <td>27122</td>\n",
       "      <td>MORPC</td>\n",
       "      <td>COUNTY</td>\n",
       "      <td>2024-07-01</td>\n",
       "    </tr>\n",
       "  </tbody>\n",
       "</table>\n",
       "</div>"
      ],
      "text/plain": [
       "         POP  GEOID  REFERENCE_PERIOD REFERENCE_PERIOD_FREQ  VINTAGE_PERIOD  \\\n",
       "39    247016  39041              2025                 Y-JUN            2023   \n",
       "84    169183  39045              2025                 Y-JUN            2023   \n",
       "129    29419  39047              2025                 Y-JUN            2023   \n",
       "174  1390127  39049              2025                 Y-JUN            2023   \n",
       "219    27965  39073              2025                 Y-JUN            2023   \n",
       "\n",
       "    VINTAGE_PERIOD_FREQ VALUE_TYPE  CONF_LEVEL  CONF_LIMIT_UPPER  \\\n",
       "39                 <NA>   FORECAST         0.8            248441   \n",
       "84                 <NA>   FORECAST         0.8            171704   \n",
       "129                <NA>   FORECAST         0.8             29855   \n",
       "174                <NA>   FORECAST         0.8           1409654   \n",
       "219                <NA>   FORECAST         0.8             28660   \n",
       "\n",
       "     CONF_LIMIT_LOWER SOURCE GEO_TYPE       DATE  \n",
       "39             238464  MORPC   COUNTY 2024-07-01  \n",
       "84             163990  MORPC   COUNTY 2024-07-01  \n",
       "129             28912  MORPC   COUNTY 2024-07-01  \n",
       "174           1333445  MORPC   COUNTY 2024-07-01  \n",
       "219             27122  MORPC   COUNTY 2024-07-01  "
      ]
     },
     "execution_count": 296,
     "metadata": {},
     "output_type": "execute_result"
    }
   ],
   "source": [
    "morpcForecasts.head()"
   ]
  },
  {
   "cell_type": "code",
   "execution_count": 297,
   "id": "ebc7ec01-d5e0-48b9-a1b6-72eb46a13180",
   "metadata": {},
   "outputs": [],
   "source": [
    "extractedData.append(morpcForecasts)"
   ]
  },
  {
   "cell_type": "markdown",
   "id": "3bda147f-d58c-4e18-b422-03168036959e",
   "metadata": {},
   "source": [
    "### Combine extracted data"
   ]
  },
  {
   "cell_type": "code",
   "execution_count": 298,
   "id": "28d91aec-cd58-465d-8f10-ba44de05d9de",
   "metadata": {},
   "outputs": [],
   "source": [
    "combinedData = pd.concat(extractedData, axis=\"index\")"
   ]
  },
  {
   "cell_type": "code",
   "execution_count": 299,
   "id": "83f425b6-bf82-4dc1-987c-003d74672313",
   "metadata": {},
   "outputs": [
    {
     "data": {
      "text/html": [
       "<div>\n",
       "<style scoped>\n",
       "    .dataframe tbody tr th:only-of-type {\n",
       "        vertical-align: middle;\n",
       "    }\n",
       "\n",
       "    .dataframe tbody tr th {\n",
       "        vertical-align: top;\n",
       "    }\n",
       "\n",
       "    .dataframe thead th {\n",
       "        text-align: right;\n",
       "    }\n",
       "</style>\n",
       "<table border=\"1\" class=\"dataframe\">\n",
       "  <thead>\n",
       "    <tr style=\"text-align: right;\">\n",
       "      <th></th>\n",
       "      <th>POP</th>\n",
       "      <th>GEOID</th>\n",
       "      <th>REFERENCE_PERIOD</th>\n",
       "      <th>REFERENCE_PERIOD_FREQ</th>\n",
       "      <th>VINTAGE_PERIOD</th>\n",
       "      <th>VINTAGE_PERIOD_FREQ</th>\n",
       "      <th>VALUE_TYPE</th>\n",
       "      <th>CONF_LEVEL</th>\n",
       "      <th>CONF_LIMIT_UPPER</th>\n",
       "      <th>CONF_LIMIT_LOWER</th>\n",
       "      <th>SOURCE</th>\n",
       "      <th>GEO_TYPE</th>\n",
       "      <th>DATE</th>\n",
       "    </tr>\n",
       "  </thead>\n",
       "  <tbody>\n",
       "    <tr>\n",
       "      <th>1</th>\n",
       "      <td>223518</td>\n",
       "      <td>39041</td>\n",
       "      <td>2000</td>\n",
       "      <td>Y-JUN</td>\n",
       "      <td>2012</td>\n",
       "      <td>&lt;NA&gt;</td>\n",
       "      <td>ESTIMATE</td>\n",
       "      <td>NaN</td>\n",
       "      <td>&lt;NA&gt;</td>\n",
       "      <td>&lt;NA&gt;</td>\n",
       "      <td>CENINT</td>\n",
       "      <td>COUNTY</td>\n",
       "      <td>1999-07-01</td>\n",
       "    </tr>\n",
       "    <tr>\n",
       "      <th>46</th>\n",
       "      <td>246970</td>\n",
       "      <td>39045</td>\n",
       "      <td>2000</td>\n",
       "      <td>Y-JUN</td>\n",
       "      <td>2012</td>\n",
       "      <td>&lt;NA&gt;</td>\n",
       "      <td>ESTIMATE</td>\n",
       "      <td>NaN</td>\n",
       "      <td>&lt;NA&gt;</td>\n",
       "      <td>&lt;NA&gt;</td>\n",
       "      <td>CENINT</td>\n",
       "      <td>COUNTY</td>\n",
       "      <td>1999-07-01</td>\n",
       "    </tr>\n",
       "    <tr>\n",
       "      <th>91</th>\n",
       "      <td>56990</td>\n",
       "      <td>39047</td>\n",
       "      <td>2000</td>\n",
       "      <td>Y-JUN</td>\n",
       "      <td>2012</td>\n",
       "      <td>&lt;NA&gt;</td>\n",
       "      <td>ESTIMATE</td>\n",
       "      <td>NaN</td>\n",
       "      <td>&lt;NA&gt;</td>\n",
       "      <td>&lt;NA&gt;</td>\n",
       "      <td>CENINT</td>\n",
       "      <td>COUNTY</td>\n",
       "      <td>1999-07-01</td>\n",
       "    </tr>\n",
       "    <tr>\n",
       "      <th>136</th>\n",
       "      <td>2144036</td>\n",
       "      <td>39049</td>\n",
       "      <td>2000</td>\n",
       "      <td>Y-JUN</td>\n",
       "      <td>2012</td>\n",
       "      <td>&lt;NA&gt;</td>\n",
       "      <td>ESTIMATE</td>\n",
       "      <td>NaN</td>\n",
       "      <td>&lt;NA&gt;</td>\n",
       "      <td>&lt;NA&gt;</td>\n",
       "      <td>CENINT</td>\n",
       "      <td>COUNTY</td>\n",
       "      <td>1999-07-01</td>\n",
       "    </tr>\n",
       "    <tr>\n",
       "      <th>181</th>\n",
       "      <td>56524</td>\n",
       "      <td>39073</td>\n",
       "      <td>2000</td>\n",
       "      <td>Y-JUN</td>\n",
       "      <td>2012</td>\n",
       "      <td>&lt;NA&gt;</td>\n",
       "      <td>ESTIMATE</td>\n",
       "      <td>NaN</td>\n",
       "      <td>&lt;NA&gt;</td>\n",
       "      <td>&lt;NA&gt;</td>\n",
       "      <td>CENINT</td>\n",
       "      <td>COUNTY</td>\n",
       "      <td>1999-07-01</td>\n",
       "    </tr>\n",
       "    <tr>\n",
       "      <th>...</th>\n",
       "      <td>...</td>\n",
       "      <td>...</td>\n",
       "      <td>...</td>\n",
       "      <td>...</td>\n",
       "      <td>...</td>\n",
       "      <td>...</td>\n",
       "      <td>...</td>\n",
       "      <td>...</td>\n",
       "      <td>...</td>\n",
       "      <td>...</td>\n",
       "      <td>...</td>\n",
       "      <td>...</td>\n",
       "      <td>...</td>\n",
       "    </tr>\n",
       "    <tr>\n",
       "      <th>494</th>\n",
       "      <td>42389</td>\n",
       "      <td>39117</td>\n",
       "      <td>2050</td>\n",
       "      <td>Y-JUN</td>\n",
       "      <td>2023</td>\n",
       "      <td>&lt;NA&gt;</td>\n",
       "      <td>FORECAST</td>\n",
       "      <td>0.8</td>\n",
       "      <td>64613</td>\n",
       "      <td>16536</td>\n",
       "      <td>MORPC</td>\n",
       "      <td>COUNTY</td>\n",
       "      <td>2049-07-01</td>\n",
       "    </tr>\n",
       "    <tr>\n",
       "      <th>539</th>\n",
       "      <td>39542</td>\n",
       "      <td>39127</td>\n",
       "      <td>2050</td>\n",
       "      <td>Y-JUN</td>\n",
       "      <td>2023</td>\n",
       "      <td>&lt;NA&gt;</td>\n",
       "      <td>FORECAST</td>\n",
       "      <td>0.8</td>\n",
       "      <td>58278</td>\n",
       "      <td>19442</td>\n",
       "      <td>MORPC</td>\n",
       "      <td>COUNTY</td>\n",
       "      <td>2049-07-01</td>\n",
       "    </tr>\n",
       "    <tr>\n",
       "      <th>584</th>\n",
       "      <td>79877</td>\n",
       "      <td>39129</td>\n",
       "      <td>2050</td>\n",
       "      <td>Y-JUN</td>\n",
       "      <td>2023</td>\n",
       "      <td>&lt;NA&gt;</td>\n",
       "      <td>FORECAST</td>\n",
       "      <td>0.8</td>\n",
       "      <td>144076</td>\n",
       "      <td>13285</td>\n",
       "      <td>MORPC</td>\n",
       "      <td>COUNTY</td>\n",
       "      <td>2049-07-01</td>\n",
       "    </tr>\n",
       "    <tr>\n",
       "      <th>629</th>\n",
       "      <td>74602</td>\n",
       "      <td>39141</td>\n",
       "      <td>2050</td>\n",
       "      <td>Y-JUN</td>\n",
       "      <td>2023</td>\n",
       "      <td>&lt;NA&gt;</td>\n",
       "      <td>FORECAST</td>\n",
       "      <td>0.8</td>\n",
       "      <td>127833</td>\n",
       "      <td>20880</td>\n",
       "      <td>MORPC</td>\n",
       "      <td>COUNTY</td>\n",
       "      <td>2049-07-01</td>\n",
       "    </tr>\n",
       "    <tr>\n",
       "      <th>674</th>\n",
       "      <td>96705</td>\n",
       "      <td>39159</td>\n",
       "      <td>2050</td>\n",
       "      <td>Y-JUN</td>\n",
       "      <td>2023</td>\n",
       "      <td>&lt;NA&gt;</td>\n",
       "      <td>FORECAST</td>\n",
       "      <td>0.8</td>\n",
       "      <td>133284</td>\n",
       "      <td>57356</td>\n",
       "      <td>MORPC</td>\n",
       "      <td>COUNTY</td>\n",
       "      <td>2049-07-01</td>\n",
       "    </tr>\n",
       "  </tbody>\n",
       "</table>\n",
       "<p>7845 rows × 13 columns</p>\n",
       "</div>"
      ],
      "text/plain": [
       "         POP  GEOID  REFERENCE_PERIOD REFERENCE_PERIOD_FREQ  VINTAGE_PERIOD  \\\n",
       "1     223518  39041              2000                 Y-JUN            2012   \n",
       "46    246970  39045              2000                 Y-JUN            2012   \n",
       "91     56990  39047              2000                 Y-JUN            2012   \n",
       "136  2144036  39049              2000                 Y-JUN            2012   \n",
       "181    56524  39073              2000                 Y-JUN            2012   \n",
       "..       ...    ...               ...                   ...             ...   \n",
       "494    42389  39117              2050                 Y-JUN            2023   \n",
       "539    39542  39127              2050                 Y-JUN            2023   \n",
       "584    79877  39129              2050                 Y-JUN            2023   \n",
       "629    74602  39141              2050                 Y-JUN            2023   \n",
       "674    96705  39159              2050                 Y-JUN            2023   \n",
       "\n",
       "    VINTAGE_PERIOD_FREQ VALUE_TYPE  CONF_LEVEL  CONF_LIMIT_UPPER  \\\n",
       "1                  <NA>   ESTIMATE         NaN              <NA>   \n",
       "46                 <NA>   ESTIMATE         NaN              <NA>   \n",
       "91                 <NA>   ESTIMATE         NaN              <NA>   \n",
       "136                <NA>   ESTIMATE         NaN              <NA>   \n",
       "181                <NA>   ESTIMATE         NaN              <NA>   \n",
       "..                  ...        ...         ...               ...   \n",
       "494                <NA>   FORECAST         0.8             64613   \n",
       "539                <NA>   FORECAST         0.8             58278   \n",
       "584                <NA>   FORECAST         0.8            144076   \n",
       "629                <NA>   FORECAST         0.8            127833   \n",
       "674                <NA>   FORECAST         0.8            133284   \n",
       "\n",
       "     CONF_LIMIT_LOWER  SOURCE GEO_TYPE       DATE  \n",
       "1                <NA>  CENINT   COUNTY 1999-07-01  \n",
       "46               <NA>  CENINT   COUNTY 1999-07-01  \n",
       "91               <NA>  CENINT   COUNTY 1999-07-01  \n",
       "136              <NA>  CENINT   COUNTY 1999-07-01  \n",
       "181              <NA>  CENINT   COUNTY 1999-07-01  \n",
       "..                ...     ...      ...        ...  \n",
       "494             16536   MORPC   COUNTY 2049-07-01  \n",
       "539             19442   MORPC   COUNTY 2049-07-01  \n",
       "584             13285   MORPC   COUNTY 2049-07-01  \n",
       "629             20880   MORPC   COUNTY 2049-07-01  \n",
       "674             57356   MORPC   COUNTY 2049-07-01  \n",
       "\n",
       "[7845 rows x 13 columns]"
      ]
     },
     "execution_count": 299,
     "metadata": {},
     "output_type": "execute_result"
    }
   ],
   "source": [
    "combinedData"
   ]
  },
  {
   "cell_type": "markdown",
   "id": "14bf139e-6f98-40f0-b8ae-4062705f1791",
   "metadata": {},
   "source": [
    "### Reformat combined data for output"
   ]
  },
  {
   "cell_type": "code",
   "execution_count": 300,
   "id": "4ff6444a-a1ae-4e61-96d4-202d8d38ad83",
   "metadata": {},
   "outputs": [],
   "source": [
    "insightsPop = combinedData.copy()"
   ]
  },
  {
   "cell_type": "code",
   "execution_count": 301,
   "id": "600200a0-196c-456b-82db-0388f755bac5",
   "metadata": {},
   "outputs": [],
   "source": [
    "insightsPop = insightsPop.filter(items=insightsPopSchema.field_names, axis=\"columns\")"
   ]
  },
  {
   "cell_type": "code",
   "execution_count": 302,
   "id": "49f7ebbb-4a59-49d5-ad56-348d51348d31",
   "metadata": {},
   "outputs": [
    {
     "name": "stdout",
     "output_type": "stream",
     "text": [
      "Casting field POP as type integer.\n",
      "WARNING: Failed conversion of fieldname POP to type 'int'.  Trying type 'Int64' instead.\n",
      "Casting field GEOID as type string.\n",
      "Casting field GEO_TYPE as type string.\n",
      "Casting field DATE as type string.\n",
      "Casting field VALUE_TYPE as type string.\n",
      "Casting field SOURCE as type string.\n"
     ]
    }
   ],
   "source": [
    "insightsPop = morpc.cast_field_types(insightsPop, insightsPopSchema)"
   ]
  },
  {
   "cell_type": "code",
   "execution_count": 304,
   "id": "5a7a6342-405d-42b0-a59a-d1e3a4c77962",
   "metadata": {},
   "outputs": [],
   "source": [
    "insightsPop = insightsPop.sort_values([\"GEO_TYPE\",\"GEOID\",\"DATE\"])"
   ]
  },
  {
   "cell_type": "code",
   "execution_count": 310,
   "id": "acb9a137-c145-4fd4-8807-b63ef9c38758",
   "metadata": {},
   "outputs": [
    {
     "data": {
      "image/png": "[encoded data removed]",
      "text/plain": [
       "<Figure size 640x480 with 1 Axes>"
      ]
     },
     "metadata": {},
     "output_type": "display_data"
    }
   ],
   "source": [
    "for geoid in [\"39041\"]:\n",
    "    temp = insightsPop.loc[insightsPop[\"GEOID\"] == geoid].copy()\n",
    "    temp = temp.drop(columns=\"GEOID\")\n",
    "    #temp = temp.pivot(index=\"values=\"POP\")\n",
    "    temp.plot(x=\"DATE\", y=\"POP\")"
   ]
  },
  {
   "cell_type": "code",
   "execution_count": 311,
   "id": "057d369a-cab9-4212-ad38-b8448f29b397",
   "metadata": {},
   "outputs": [
    {
     "data": {
      "text/html": [
       "<div>\n",
       "<style scoped>\n",
       "    .dataframe tbody tr th:only-of-type {\n",
       "        vertical-align: middle;\n",
       "    }\n",
       "\n",
       "    .dataframe tbody tr th {\n",
       "        vertical-align: top;\n",
       "    }\n",
       "\n",
       "    .dataframe thead th {\n",
       "        text-align: right;\n",
       "    }\n",
       "</style>\n",
       "<table border=\"1\" class=\"dataframe\">\n",
       "  <thead>\n",
       "    <tr style=\"text-align: right;\">\n",
       "      <th></th>\n",
       "      <th>POP</th>\n",
       "      <th>GEO_TYPE</th>\n",
       "      <th>DATE</th>\n",
       "      <th>VALUE_TYPE</th>\n",
       "      <th>SOURCE</th>\n",
       "    </tr>\n",
       "  </thead>\n",
       "  <tbody>\n",
       "    <tr>\n",
       "      <th>1</th>\n",
       "      <td>223518</td>\n",
       "      <td>COUNTY</td>\n",
       "      <td>1999-07-01</td>\n",
       "      <td>ESTIMATE</td>\n",
       "      <td>CENINT</td>\n",
       "    </tr>\n",
       "    <tr>\n",
       "      <th>3</th>\n",
       "      <td>237292</td>\n",
       "      <td>COUNTY</td>\n",
       "      <td>2000-07-01</td>\n",
       "      <td>ESTIMATE</td>\n",
       "      <td>CENINT</td>\n",
       "    </tr>\n",
       "    <tr>\n",
       "      <th>5</th>\n",
       "      <td>252344</td>\n",
       "      <td>COUNTY</td>\n",
       "      <td>2001-07-01</td>\n",
       "      <td>ESTIMATE</td>\n",
       "      <td>CENINT</td>\n",
       "    </tr>\n",
       "    <tr>\n",
       "      <th>7</th>\n",
       "      <td>267684</td>\n",
       "      <td>COUNTY</td>\n",
       "      <td>2002-07-01</td>\n",
       "      <td>ESTIMATE</td>\n",
       "      <td>CENINT</td>\n",
       "    </tr>\n",
       "    <tr>\n",
       "      <th>9</th>\n",
       "      <td>282696</td>\n",
       "      <td>COUNTY</td>\n",
       "      <td>2003-07-01</td>\n",
       "      <td>ESTIMATE</td>\n",
       "      <td>CENINT</td>\n",
       "    </tr>\n",
       "    <tr>\n",
       "      <th>11</th>\n",
       "      <td>298306</td>\n",
       "      <td>COUNTY</td>\n",
       "      <td>2004-07-01</td>\n",
       "      <td>ESTIMATE</td>\n",
       "      <td>CENINT</td>\n",
       "    </tr>\n",
       "    <tr>\n",
       "      <th>13</th>\n",
       "      <td>312328</td>\n",
       "      <td>COUNTY</td>\n",
       "      <td>2005-07-01</td>\n",
       "      <td>ESTIMATE</td>\n",
       "      <td>CENINT</td>\n",
       "    </tr>\n",
       "    <tr>\n",
       "      <th>15</th>\n",
       "      <td>323592</td>\n",
       "      <td>COUNTY</td>\n",
       "      <td>2006-07-01</td>\n",
       "      <td>ESTIMATE</td>\n",
       "      <td>CENINT</td>\n",
       "    </tr>\n",
       "    <tr>\n",
       "      <th>17</th>\n",
       "      <td>333304</td>\n",
       "      <td>COUNTY</td>\n",
       "      <td>2007-07-01</td>\n",
       "      <td>ESTIMATE</td>\n",
       "      <td>CENINT</td>\n",
       "    </tr>\n",
       "    <tr>\n",
       "      <th>19</th>\n",
       "      <td>341352</td>\n",
       "      <td>COUNTY</td>\n",
       "      <td>2008-07-01</td>\n",
       "      <td>ESTIMATE</td>\n",
       "      <td>CENINT</td>\n",
       "    </tr>\n",
       "    <tr>\n",
       "      <th>20</th>\n",
       "      <td>350500</td>\n",
       "      <td>COUNTY</td>\n",
       "      <td>2009-07-01</td>\n",
       "      <td>ESTIMATE</td>\n",
       "      <td>CENINT</td>\n",
       "    </tr>\n",
       "    <tr>\n",
       "      <th>22</th>\n",
       "      <td>178535</td>\n",
       "      <td>COUNTY</td>\n",
       "      <td>2010-07-01</td>\n",
       "      <td>ESTIMATE</td>\n",
       "      <td>CENPEP</td>\n",
       "    </tr>\n",
       "    <tr>\n",
       "      <th>23</th>\n",
       "      <td>181127</td>\n",
       "      <td>COUNTY</td>\n",
       "      <td>2011-07-01</td>\n",
       "      <td>ESTIMATE</td>\n",
       "      <td>CENPEP</td>\n",
       "    </tr>\n",
       "    <tr>\n",
       "      <th>24</th>\n",
       "      <td>185380</td>\n",
       "      <td>COUNTY</td>\n",
       "      <td>2012-07-01</td>\n",
       "      <td>ESTIMATE</td>\n",
       "      <td>CENPEP</td>\n",
       "    </tr>\n",
       "    <tr>\n",
       "      <th>25</th>\n",
       "      <td>189440</td>\n",
       "      <td>COUNTY</td>\n",
       "      <td>2013-07-01</td>\n",
       "      <td>ESTIMATE</td>\n",
       "      <td>CENPEP</td>\n",
       "    </tr>\n",
       "    <tr>\n",
       "      <th>26</th>\n",
       "      <td>193391</td>\n",
       "      <td>COUNTY</td>\n",
       "      <td>2014-07-01</td>\n",
       "      <td>ESTIMATE</td>\n",
       "      <td>CENPEP</td>\n",
       "    </tr>\n",
       "    <tr>\n",
       "      <th>27</th>\n",
       "      <td>197144</td>\n",
       "      <td>COUNTY</td>\n",
       "      <td>2015-07-01</td>\n",
       "      <td>ESTIMATE</td>\n",
       "      <td>CENPEP</td>\n",
       "    </tr>\n",
       "    <tr>\n",
       "      <th>28</th>\n",
       "      <td>200870</td>\n",
       "      <td>COUNTY</td>\n",
       "      <td>2016-07-01</td>\n",
       "      <td>ESTIMATE</td>\n",
       "      <td>CENPEP</td>\n",
       "    </tr>\n",
       "    <tr>\n",
       "      <th>29</th>\n",
       "      <td>205091</td>\n",
       "      <td>COUNTY</td>\n",
       "      <td>2017-07-01</td>\n",
       "      <td>ESTIMATE</td>\n",
       "      <td>CENPEP</td>\n",
       "    </tr>\n",
       "    <tr>\n",
       "      <th>30</th>\n",
       "      <td>209177</td>\n",
       "      <td>COUNTY</td>\n",
       "      <td>2018-07-01</td>\n",
       "      <td>ESTIMATE</td>\n",
       "      <td>CENPEP</td>\n",
       "    </tr>\n",
       "    <tr>\n",
       "      <th>31</th>\n",
       "      <td>215166</td>\n",
       "      <td>COUNTY</td>\n",
       "      <td>2019-07-01</td>\n",
       "      <td>ESTIMATE</td>\n",
       "      <td>CENPEP</td>\n",
       "    </tr>\n",
       "    <tr>\n",
       "      <th>32</th>\n",
       "      <td>221282</td>\n",
       "      <td>COUNTY</td>\n",
       "      <td>2020-07-01</td>\n",
       "      <td>ESTIMATE</td>\n",
       "      <td>CENPEP</td>\n",
       "    </tr>\n",
       "    <tr>\n",
       "      <th>34</th>\n",
       "      <td>226526</td>\n",
       "      <td>COUNTY</td>\n",
       "      <td>2021-07-01</td>\n",
       "      <td>ESTIMATE</td>\n",
       "      <td>CENPEP</td>\n",
       "    </tr>\n",
       "    <tr>\n",
       "      <th>36</th>\n",
       "      <td>231636</td>\n",
       "      <td>COUNTY</td>\n",
       "      <td>2022-07-01</td>\n",
       "      <td>ESTIMATE</td>\n",
       "      <td>CENPEP</td>\n",
       "    </tr>\n",
       "    <tr>\n",
       "      <th>38</th>\n",
       "      <td>234305</td>\n",
       "      <td>COUNTY</td>\n",
       "      <td>2024-01-01</td>\n",
       "      <td>ESTIMATE</td>\n",
       "      <td>MORPC</td>\n",
       "    </tr>\n",
       "    <tr>\n",
       "      <th>39</th>\n",
       "      <td>247016</td>\n",
       "      <td>COUNTY</td>\n",
       "      <td>2024-07-01</td>\n",
       "      <td>FORECAST</td>\n",
       "      <td>MORPC</td>\n",
       "    </tr>\n",
       "    <tr>\n",
       "      <th>40</th>\n",
       "      <td>277484</td>\n",
       "      <td>COUNTY</td>\n",
       "      <td>2029-07-01</td>\n",
       "      <td>FORECAST</td>\n",
       "      <td>MORPC</td>\n",
       "    </tr>\n",
       "    <tr>\n",
       "      <th>41</th>\n",
       "      <td>310863</td>\n",
       "      <td>COUNTY</td>\n",
       "      <td>2034-07-01</td>\n",
       "      <td>FORECAST</td>\n",
       "      <td>MORPC</td>\n",
       "    </tr>\n",
       "    <tr>\n",
       "      <th>42</th>\n",
       "      <td>340917</td>\n",
       "      <td>COUNTY</td>\n",
       "      <td>2039-07-01</td>\n",
       "      <td>FORECAST</td>\n",
       "      <td>MORPC</td>\n",
       "    </tr>\n",
       "    <tr>\n",
       "      <th>43</th>\n",
       "      <td>369307</td>\n",
       "      <td>COUNTY</td>\n",
       "      <td>2044-07-01</td>\n",
       "      <td>FORECAST</td>\n",
       "      <td>MORPC</td>\n",
       "    </tr>\n",
       "    <tr>\n",
       "      <th>44</th>\n",
       "      <td>397697</td>\n",
       "      <td>COUNTY</td>\n",
       "      <td>2049-07-01</td>\n",
       "      <td>FORECAST</td>\n",
       "      <td>MORPC</td>\n",
       "    </tr>\n",
       "  </tbody>\n",
       "</table>\n",
       "</div>"
      ],
      "text/plain": [
       "       POP GEO_TYPE        DATE VALUE_TYPE  SOURCE\n",
       "1   223518   COUNTY  1999-07-01   ESTIMATE  CENINT\n",
       "3   237292   COUNTY  2000-07-01   ESTIMATE  CENINT\n",
       "5   252344   COUNTY  2001-07-01   ESTIMATE  CENINT\n",
       "7   267684   COUNTY  2002-07-01   ESTIMATE  CENINT\n",
       "9   282696   COUNTY  2003-07-01   ESTIMATE  CENINT\n",
       "11  298306   COUNTY  2004-07-01   ESTIMATE  CENINT\n",
       "13  312328   COUNTY  2005-07-01   ESTIMATE  CENINT\n",
       "15  323592   COUNTY  2006-07-01   ESTIMATE  CENINT\n",
       "17  333304   COUNTY  2007-07-01   ESTIMATE  CENINT\n",
       "19  341352   COUNTY  2008-07-01   ESTIMATE  CENINT\n",
       "20  350500   COUNTY  2009-07-01   ESTIMATE  CENINT\n",
       "22  178535   COUNTY  2010-07-01   ESTIMATE  CENPEP\n",
       "23  181127   COUNTY  2011-07-01   ESTIMATE  CENPEP\n",
       "24  185380   COUNTY  2012-07-01   ESTIMATE  CENPEP\n",
       "25  189440   COUNTY  2013-07-01   ESTIMATE  CENPEP\n",
       "26  193391   COUNTY  2014-07-01   ESTIMATE  CENPEP\n",
       "27  197144   COUNTY  2015-07-01   ESTIMATE  CENPEP\n",
       "28  200870   COUNTY  2016-07-01   ESTIMATE  CENPEP\n",
       "29  205091   COUNTY  2017-07-01   ESTIMATE  CENPEP\n",
       "30  209177   COUNTY  2018-07-01   ESTIMATE  CENPEP\n",
       "31  215166   COUNTY  2019-07-01   ESTIMATE  CENPEP\n",
       "32  221282   COUNTY  2020-07-01   ESTIMATE  CENPEP\n",
       "34  226526   COUNTY  2021-07-01   ESTIMATE  CENPEP\n",
       "36  231636   COUNTY  2022-07-01   ESTIMATE  CENPEP\n",
       "38  234305   COUNTY  2024-01-01   ESTIMATE   MORPC\n",
       "39  247016   COUNTY  2024-07-01   FORECAST   MORPC\n",
       "40  277484   COUNTY  2029-07-01   FORECAST   MORPC\n",
       "41  310863   COUNTY  2034-07-01   FORECAST   MORPC\n",
       "42  340917   COUNTY  2039-07-01   FORECAST   MORPC\n",
       "43  369307   COUNTY  2044-07-01   FORECAST   MORPC\n",
       "44  397697   COUNTY  2049-07-01   FORECAST   MORPC"
      ]
     },
     "execution_count": 311,
     "metadata": {},
     "output_type": "execute_result"
    }
   ],
   "source": [
    "temp"
   ]
  },
  {
   "cell_type": "markdown",
   "id": "72e66244-d106-41c3-8d79-b6f65447f329",
   "metadata": {},
   "source": [
    "## Export data"
   ]
  },
  {
   "cell_type": "markdown",
   "id": "df5c2b9f-e640-4796-aab5-45580f34d217",
   "metadata": {},
   "source": [
    "## Clean up"
   ]
  },
  {
   "cell_type": "markdown",
   "id": "8558fe6f-79f9-4504-b486-a1297a756d98",
   "metadata": {},
   "source": [
    "### Delete input data (maybe)"
   ]
  },
  {
   "cell_type": "markdown",
   "id": "a03b1e69-4ccd-4dac-8dc1-f30f419b49b1",
   "metadata": {},
   "source": [
    "If PRESERVE_INPUT_DATA is not true, then delete the input data folder and all of its contents."
   ]
  },
  {
   "cell_type": "code",
   "execution_count": null,
   "id": "53ba9acb-e677-45ea-b98f-72979392671e",
   "metadata": {},
   "outputs": [],
   "source": [
    "if(PRESERVE_INPUT_DATA != True):\n",
    "    shutil.rmtree(inputDir)\n",
    "else:\n",
    "    print(\"Preserving input data.\")"
   ]
  }
 ],
 "metadata": {
  "kernelspec": {
   "display_name": "Python 3 (ipykernel)",
   "language": "python",
   "name": "python3"
  },
  "language_info": {
   "codemirror_mode": {
    "name": "ipython",
    "version": 3
   },
   "file_extension": ".py",
   "mimetype": "text/x-python",
   "name": "python",
   "nbconvert_exporter": "python",
   "pygments_lexer": "ipython3",
   "version": "3.10.4"
  }
 },
 "nbformat": 4,
 "nbformat_minor": 5
}
