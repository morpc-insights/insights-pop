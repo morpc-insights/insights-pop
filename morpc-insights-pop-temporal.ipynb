{
 "cells": [
  {
   "cell_type": "markdown",
   "id": "a81791ad-8f58-4124-bba3-f857c73262b3",
   "metadata": {},
   "source": [
    "# Insights - Total population by year"
   ]
  },
  {
   "cell_type": "markdown",
   "id": "317fdc10-a19b-4e68-befc-08a712f7ee28",
   "metadata": {
    "tags": []
   },
   "source": [
    "## Introduction"
   ]
  },
  {
   "cell_type": "markdown",
   "id": "8c6b8908-2b9f-4931-b6b3-9ecd24d118eb",
   "metadata": {},
   "source": [
    "This process is dependent on upstream processes. See the \"Prerequisites\" section below.\n",
    "\n",
    "The workflow defined herein is identified as workflow ID #90 in the the [Data Team Master Document List](https://morpc1.sharepoint.com/:x:/s/GISteam/EfC4j3HhohZCrSZzxJdyt5cBFEqVD7zHick8ZW0INqgCYA?e=0WhrAI). References to document list identifiers are denoted by a number in brackets, e.g. [90]."
   ]
  },
  {
   "cell_type": "markdown",
   "id": "fa05b048-045c-402d-bb52-708110691f09",
   "metadata": {
    "tags": []
   },
   "source": [
    "## Process outline\n",
    "\n",
    "  1. Load input dataset\n",
    "  2. Extract required population facts\n",
    "  3. Transform population facts to comply with output schema\n",
    "  4. Export output dataset\n",
    "  5. Create resource file"
   ]
  },
  {
   "cell_type": "markdown",
   "id": "df5c214d-69e7-4112-b7bb-3e9d377a594e",
   "metadata": {},
   "source": [
    "## Prerequisites and usage notes"
   ]
  },
  {
   "cell_type": "markdown",
   "id": "db2e9d1d-aa32-4ec2-a42e-5c44e39c694f",
   "metadata": {},
   "source": [
    "  - Outputs of one or more upstream workflows must be available at the indicated paths. Make sure that those outputs are up to date prior to running this script. \n",
    "  - This script includes several intentional RuntimeError instances that may be triggered to alert the user to conditions that may require their attention. If the script triggers one of these errors, review the error, verify that the condition is acceptable or resolve any issues, then proceed."
   ]
  },
  {
   "cell_type": "markdown",
   "id": "5b4ee0c6-4158-4a98-bc7f-179022f48ff8",
   "metadata": {},
   "source": [
    "## Setup"
   ]
  },
  {
   "cell_type": "markdown",
   "id": "3cd65147-7804-4778-8def-493d8f2f3542",
   "metadata": {},
   "source": [
    "### Import required packages"
   ]
  },
  {
   "cell_type": "code",
   "execution_count": 1,
   "id": "a2e771b4-c162-47ad-8d76-ee12dddd594f",
   "metadata": {},
   "outputs": [],
   "source": [
    "import os\n",
    "import shutil\n",
    "import sys\n",
    "import pandas as pd\n",
    "import frictionless\n",
    "import datetime\n",
    "import matplotlib\n",
    "from matplotlib import pyplot as plt\n",
    "sys.path.append(os.path.normpath(\"../morpc-common\"))\n",
    "import morpc\n",
    "import morpcCensus"
   ]
  },
  {
   "cell_type": "markdown",
   "id": "a5ed7156-7d69-400e-92e8-be275d318067",
   "metadata": {},
   "source": [
    "### User-specified parameters"
   ]
  },
  {
   "cell_type": "code",
   "execution_count": 2,
   "id": "29c907f2-fcdc-4f84-b8c5-22097daf822d",
   "metadata": {},
   "outputs": [],
   "source": [
    "MORPC_ESTIMATE_YEAR_RANGE = [2024, 2024]\n",
    "\n",
    "MORPC_FORECAST_VINTAGE = 2023\n",
    "MORPC_FORECAST_YEAR_RANGE = [2025, 2050]\n",
    "MORPC_FORECAST_YEAR_INTERVAL = 5\n",
    "\n",
    "DECENNIAL_YEAR_RANGE = [1980, 2020]\n",
    "INTERCENSAL_YEAR_RANGE = [2000, 2019]\n",
    "\n",
    "PEP_YEAR_RANGE = [INTERCENSAL_YEAR_RANGE[1]+1, MORPC_ESTIMATE_YEAR_RANGE[0]-1]\n",
    "\n",
    "MAX_POP_THRESHOLD = 5000\n",
    "MIN_POP_THRESHOLD = 100\n",
    "\n",
    "# When STALE_DATA_INTERRUPT == True, the script will produce a RuntimeError in certain situations where the input \n",
    "# data may be stale and updates might be required prior to running the script.  Otherwise, a warning will be generated \n",
    "# but script execution will continue.  Regardless of whether an error or warning occurs, be sure to verify the readiness \n",
    "# of all input data.\n",
    "STALE_DATA_INTERRUPT = True\n",
    "\n",
    "# You can change where the input data is sourced and archived by changing the following directory and file names.  \n",
    "# This typically is not necessary and may break other scripts that depend on outputs from this one. Source data \n",
    "# will be copied to this location.  Input data will be deleted following successful completion of the script \n",
    "# unless PRESERVE_INPUT_DATA == True.\n",
    "INPUT_DIR = \"./input_data\"\n",
    "\n",
    "# You can change where the output data is stored by changing the following directory and file names.  This \n",
    "# typically is not necessary and may break other scripts that depend on outputs from this one.\n",
    "OUTPUT_DIR = \"./output_data\""
   ]
  },
  {
   "cell_type": "markdown",
   "id": "401c0fde-7773-4ffc-b47c-f1b40f283def",
   "metadata": {},
   "source": [
    "### Static parameters"
   ]
  },
  {
   "cell_type": "markdown",
   "id": "47ff884d-88a6-46ae-8071-8edf0ab2efab",
   "metadata": {},
   "source": [
    "Create a map to convert human-readable source descriptions to shortened codes to save space."
   ]
  },
  {
   "cell_type": "code",
   "execution_count": 89,
   "id": "cb91036c-5429-4814-acf8-816f4a04c0e4",
   "metadata": {},
   "outputs": [],
   "source": [
    "GEO_TYPE_LIST = [\"COUNTY\",\"PLACE\",\"COUNTY-TOWNSHIP-REMAINDER\"]\n",
    "\n",
    "SOURCE_MAP = {\n",
    "    \"Census Intercensal Estimates\":\"CENINT\",\n",
    "    \"Census Population Estimates Program\":\"CENPEP\",\n",
    "    \"Mid-Ohio Regional Planning Commission\":\"MORPC\"\n",
    "}\n",
    "\n",
    "SOURCE_MAP_REVERSED = {value: key for key, value in SOURCE_MAP.items()}\n",
    "\n",
    "GEO_TYPE_LABELS = {\n",
    "    \"REGION15\":\"\",\n",
    "    \"COUNTY\":\"\",\n",
    "    \"COUNTY-TOWNSHIP-REMAINDER\":\" (unincorporated)\",\n",
    "    \"PLACE\":\"\"\n",
    "}\n",
    "\n",
    "CHART_DIRNAME = \"charts\""
   ]
  },
  {
   "cell_type": "markdown",
   "id": "b0004e0a-e241-4757-b5bd-c9819d943514",
   "metadata": {},
   "source": [
    "### Define inputs"
   ]
  },
  {
   "cell_type": "markdown",
   "id": "ab663116-d72d-4f63-8b4c-ba40212d3715",
   "metadata": {},
   "source": [
    "The following datasets are required by this notebook. They will be retrieved from the specified location and temporarily stored in INPUT_DIR. They will be deleted following successful completion of the script unless PRESERVE_INPUT_DATA == True."
   ]
  },
  {
   "cell_type": "markdown",
   "id": "85da01ea-fc9e-41d2-b715-11fa170c2ca4",
   "metadata": {},
   "source": [
    "#### Create input data directory"
   ]
  },
  {
   "cell_type": "markdown",
   "id": "ea1ae4d6-e9a3-495e-a339-b7bc598b0926",
   "metadata": {},
   "source": [
    "Create input data directory if it doesn't exist."
   ]
  },
  {
   "cell_type": "code",
   "execution_count": 4,
   "id": "b2c03840-4cb0-4417-b97e-2b21b1363f15",
   "metadata": {},
   "outputs": [],
   "source": [
    "inputDir = os.path.normpath(INPUT_DIR)\n",
    "if not os.path.exists(inputDir):\n",
    "    os.makedirs(inputDir)"
   ]
  },
  {
   "cell_type": "markdown",
   "id": "0ac8737d-5330-40d1-8b06-253918294f23",
   "metadata": {},
   "source": [
    "#### MORPC counties reference data [81]"
   ]
  },
  {
   "cell_type": "markdown",
   "id": "52cbb81a-e893-4ed3-a42e-6cc6b2535f3e",
   "metadata": {},
   "source": [
    "Reference data for counties in the MORPC region will be loaded automatically as a morpc.countyLookup() object (see below)."
   ]
  },
  {
   "cell_type": "markdown",
   "id": "7b89988c-dce5-4ce3-955b-f608c7fe6c8b",
   "metadata": {
    "tags": []
   },
   "source": [
    "#### MORPC combined population facts [286]"
   ]
  },
  {
   "cell_type": "code",
   "execution_count": 5,
   "id": "e29e7a94-010a-468b-afd9-d13fe95d3c5a",
   "metadata": {
    "scrolled": true
   },
   "outputs": [
    {
     "name": "stdout",
     "output_type": "stream",
     "text": [
      "Resource file: ../morpc-pop-collect/output_data/morpc-pop-collect.resource.yaml\n"
     ]
    }
   ],
   "source": [
    "COMBINED_POP_FACTS_RESOURCE_PATH = \"../morpc-pop-collect/output_data/morpc-pop-collect.resource.yaml\"\n",
    "print(\"Resource file: {}\".format(COMBINED_POP_FACTS_RESOURCE_PATH))"
   ]
  },
  {
   "cell_type": "markdown",
   "id": "e9ce209a-4c3f-4783-84e1-4fd6b513d268",
   "metadata": {},
   "source": [
    "#### MORPC geography lookup table [375]"
   ]
  },
  {
   "cell_type": "code",
   "execution_count": 6,
   "id": "70a35e6a-47be-4011-85aa-09e360595dce",
   "metadata": {
    "scrolled": true
   },
   "outputs": [
    {
     "name": "stdout",
     "output_type": "stream",
     "text": [
      "Resource file: ../morpc-geos-collect/output_data/morpc-geos-lookup.resource.yaml\n"
     ]
    }
   ],
   "source": [
    "GEOS_LOOKUP_RESOURCE_PATH = \"../morpc-geos-collect/output_data/morpc-geos-lookup.resource.yaml\"\n",
    "print(\"Resource file: {}\".format(GEOS_LOOKUP_RESOURCE_PATH))"
   ]
  },
  {
   "cell_type": "markdown",
   "id": "3406c4a9-051c-4f0c-8148-504019f37f72",
   "metadata": {
    "tags": []
   },
   "source": [
    "### Define outputs"
   ]
  },
  {
   "cell_type": "markdown",
   "id": "e9356099-b192-4921-9822-8db1cdc42eda",
   "metadata": {
    "tags": []
   },
   "source": [
    "#### Create output data directory"
   ]
  },
  {
   "cell_type": "markdown",
   "id": "892dc452-34c3-4d08-96ab-be3857d36033",
   "metadata": {},
   "source": [
    "Create output data directory if it doesn't exist."
   ]
  },
  {
   "cell_type": "code",
   "execution_count": 7,
   "id": "079addf5-cb85-41a2-afa9-6eb226be1b93",
   "metadata": {},
   "outputs": [],
   "source": [
    "outputDir = os.path.normpath(OUTPUT_DIR)\n",
    "if not os.path.exists(outputDir):\n",
    "    os.makedirs(outputDir)   "
   ]
  },
  {
   "cell_type": "code",
   "execution_count": 8,
   "id": "583acf7f-c378-4647-a8d5-37dc1f5466b0",
   "metadata": {},
   "outputs": [],
   "source": [
    "chartDir = os.path.join(outputDir, CHART_DIRNAME)\n",
    "if not os.path.exists(chartDir):\n",
    "    os.makedirs(chartDir)    "
   ]
  },
  {
   "cell_type": "markdown",
   "id": "151e8310-9385-4c35-8cf2-e3c23de01642",
   "metadata": {
    "tags": []
   },
   "source": [
    "#### Insights total population by year [287]"
   ]
  },
  {
   "cell_type": "code",
   "execution_count": 9,
   "id": "6efb6fda-33d4-4019-9b34-5679f464fd08",
   "metadata": {},
   "outputs": [
    {
     "name": "stdout",
     "output_type": "stream",
     "text": [
      "Data: output_data\\morpc-insights-pop-temporal.csv\n",
      "Schema: output_data\\morpc-insights-pop-temporal.schema.yaml\n",
      "Resource file: output_data\\morpc-insights-pop-temporal.resource.yaml\n"
     ]
    }
   ],
   "source": [
    "INSIGHTS_POP_TABLE_FILENAME = \"morpc-insights-pop-temporal.csv\"\n",
    "INSIGHTS_POP_TABLE_PATH = os.path.join(outputDir, INSIGHTS_POP_TABLE_FILENAME)\n",
    "INSIGHTS_POP_TABLE_SCHEMA_PATH = INSIGHTS_POP_TABLE_PATH.replace(\".csv\",\".schema.yaml\")\n",
    "INSIGHTS_POP_TABLE_RESOURCE_PATH = INSIGHTS_POP_TABLE_PATH.replace(\".csv\",\".resource.yaml\")\n",
    "print(\"Data: {}\".format(INSIGHTS_POP_TABLE_PATH))\n",
    "print(\"Schema: {}\".format(INSIGHTS_POP_TABLE_SCHEMA_PATH))\n",
    "print(\"Resource file: {}\".format(INSIGHTS_POP_TABLE_RESOURCE_PATH))"
   ]
  },
  {
   "cell_type": "markdown",
   "id": "08eedadf-8229-49e7-b553-b2eb396a70e8",
   "metadata": {
    "tags": []
   },
   "source": [
    "## Prepare input data"
   ]
  },
  {
   "cell_type": "markdown",
   "id": "592fd177-fd39-47e6-8290-fc4a72fd4cbc",
   "metadata": {},
   "source": [
    "### Load county reference data"
   ]
  },
  {
   "cell_type": "code",
   "execution_count": 10,
   "id": "13f7ef4a-38c0-47d9-929f-429bb863bc58",
   "metadata": {},
   "outputs": [
    {
     "name": "stdout",
     "output_type": "stream",
     "text": [
      "Loading data for MORPC 15-County region only\n"
     ]
    }
   ],
   "source": [
    "countyLookup = morpc.countyLookup(scope=\"15-County Region\")"
   ]
  },
  {
   "cell_type": "code",
   "execution_count": 11,
   "id": "883c1415-e978-4f0d-b736-abc0c6451ea1",
   "metadata": {},
   "outputs": [
    {
     "data": {
      "text/plain": [
       "'39041,39045,39047,39049,39073,39083,39089,39091,39097,39101,39117,39127,39129,39141,39159'"
      ]
     },
     "execution_count": 11,
     "metadata": {},
     "output_type": "execute_result"
    }
   ],
   "source": [
    "\",\".join(countyLookup.list_ids())"
   ]
  },
  {
   "cell_type": "markdown",
   "id": "2a83ffdb-5303-4a55-abd2-27a81c964ffe",
   "metadata": {},
   "source": [
    "### Combined population facts"
   ]
  },
  {
   "cell_type": "code",
   "execution_count": 12,
   "id": "739fbbf8-cafc-4c07-90e0-01d60b635e4a",
   "metadata": {
    "scrolled": true
   },
   "outputs": [
    {
     "name": "stdout",
     "output_type": "stream",
     "text": [
      "morpc.load_frictionless_data | INFO | Loading Frictionless Resource file at location ..\\morpc-pop-collect\\output_data\\morpc-pop-collect.resource.yaml\n",
      "morpc.load_frictionless_data | INFO | Copying data, resource file, and schema to directory input_data\n",
      "morpc.load_frictionless_data | INFO | --> Data file: input_data\\morpc-pop-collect.csv\n",
      "morpc.load_frictionless_data | INFO | --> Resource file: input_data\\morpc-pop-collect.resource.yaml\n",
      "morpc.load_frictionless_data | INFO | --> Schema file: input_data\\morpc-pop-collect.schema.yaml\n",
      "morpc.load_frictionless_data | INFO | Validating resource including data and schema.\n",
      "morpc.frictionless_validate_resource | INFO | Validating resource on disk (including data and schema). This may take some time.\n",
      "morpc.frictionless_validate_resource | INFO | Resource is valid\n",
      "morpc.load_frictionless_data | INFO | Loading data.\n",
      "frictionless_cast_field_types | INFO | Casting field POP as type integer.\n",
      "frictionless_cast_field_types | WARNING | Failed conversion of fieldname POP to type 'int'.  Trying type 'Int64' instead.\n",
      "frictionless_cast_field_types | INFO | Casting field GEOIDFQ as type string.\n",
      "frictionless_cast_field_types | INFO | Casting field SUMLEVEL as type string.\n",
      "frictionless_cast_field_types | INFO | Casting field REFERENCE_PERIOD as type string.\n",
      "frictionless_cast_field_types | INFO | Casting field REFERENCE_PERIOD_FREQ as type string.\n",
      "frictionless_cast_field_types | INFO | Casting field VINTAGE_PERIOD as type string.\n",
      "frictionless_cast_field_types | INFO | Casting field VINTAGE_PERIOD_FREQ as type string.\n",
      "frictionless_cast_field_types | INFO | Casting field VALUE_TYPE as type string.\n",
      "frictionless_cast_field_types | INFO | Casting field CONF_LEVEL as type number.\n",
      "frictionless_cast_field_types | INFO | Casting field CONF_LIMIT_UPPER as type integer.\n",
      "frictionless_cast_field_types | WARNING | Failed conversion of fieldname CONF_LIMIT_UPPER to type 'int'.  Trying type 'Int64' instead.\n",
      "frictionless_cast_field_types | INFO | Casting field CONF_LIMIT_LOWER as type integer.\n",
      "frictionless_cast_field_types | WARNING | Failed conversion of fieldname CONF_LIMIT_LOWER to type 'int'.  Trying type 'Int64' instead.\n",
      "frictionless_cast_field_types | INFO | Casting field SOURCE as type string.\n",
      "frictionless_cast_field_types | INFO | Casting field LAST_UPDATED as type date.\n"
     ]
    }
   ],
   "source": [
    "(combinedPopRaw, combinedPopResource, combinedPopSchema) = morpc.frictionless_load_data(COMBINED_POP_FACTS_RESOURCE_PATH, archiveDir=inputDir, validate=True, verbose=True)"
   ]
  },
  {
   "cell_type": "code",
   "execution_count": 13,
   "id": "f48744b6-3dda-4fb0-822d-a20a381b74c5",
   "metadata": {},
   "outputs": [],
   "source": [
    "combinedPop = combinedPopRaw.copy()"
   ]
  },
  {
   "cell_type": "code",
   "execution_count": 14,
   "id": "82fc925d-c758-426b-a0f6-e4ea5e7ef1bc",
   "metadata": {},
   "outputs": [],
   "source": [
    "combinedPop[\"GEO_TYPE\"] = combinedPop[\"SUMLEVEL\"].map(morpc.HIERARCHY_STRING_LOOKUP)"
   ]
  },
  {
   "cell_type": "code",
   "execution_count": 15,
   "id": "21c22cf6-59d0-49e6-9bfd-191457ab7ce7",
   "metadata": {},
   "outputs": [],
   "source": [
    "combinedPop = combinedPop.drop(columns=[\"SUMLEVEL\",\"LAST_UPDATED\"]) "
   ]
  },
  {
   "cell_type": "code",
   "execution_count": 16,
   "id": "b2269b18-608d-48fc-9f0c-6d5555a4860c",
   "metadata": {},
   "outputs": [],
   "source": [
    "combinedPop = combinedPop.loc[combinedPop[\"GEO_TYPE\"].isin(GEO_TYPE_LIST)]"
   ]
  },
  {
   "cell_type": "code",
   "execution_count": 17,
   "id": "b73cb5f0-38d9-4d55-84f6-7d0fe2eb9589",
   "metadata": {
    "scrolled": true
   },
   "outputs": [
    {
     "data": {
      "text/html": [
       "<div>\n",
       "<style scoped>\n",
       "    .dataframe tbody tr th:only-of-type {\n",
       "        vertical-align: middle;\n",
       "    }\n",
       "\n",
       "    .dataframe tbody tr th {\n",
       "        vertical-align: top;\n",
       "    }\n",
       "\n",
       "    .dataframe thead th {\n",
       "        text-align: right;\n",
       "    }\n",
       "</style>\n",
       "<table border=\"1\" class=\"dataframe\">\n",
       "  <thead>\n",
       "    <tr style=\"text-align: right;\">\n",
       "      <th></th>\n",
       "      <th>POP</th>\n",
       "      <th>GEOIDFQ</th>\n",
       "      <th>REFERENCE_PERIOD</th>\n",
       "      <th>REFERENCE_PERIOD_FREQ</th>\n",
       "      <th>VINTAGE_PERIOD</th>\n",
       "      <th>VINTAGE_PERIOD_FREQ</th>\n",
       "      <th>VALUE_TYPE</th>\n",
       "      <th>CONF_LEVEL</th>\n",
       "      <th>CONF_LIMIT_UPPER</th>\n",
       "      <th>CONF_LIMIT_LOWER</th>\n",
       "      <th>SOURCE</th>\n",
       "      <th>GEO_TYPE</th>\n",
       "    </tr>\n",
       "  </thead>\n",
       "  <tbody>\n",
       "    <tr>\n",
       "      <th>0</th>\n",
       "      <td>111714</td>\n",
       "      <td>0500000US39041</td>\n",
       "      <td>2000</td>\n",
       "      <td>Y-JUN</td>\n",
       "      <td>2009</td>\n",
       "      <td>&lt;NA&gt;</td>\n",
       "      <td>ESTIMATE</td>\n",
       "      <td>NaN</td>\n",
       "      <td>&lt;NA&gt;</td>\n",
       "      <td>&lt;NA&gt;</td>\n",
       "      <td>CENPEP</td>\n",
       "      <td>COUNTY</td>\n",
       "    </tr>\n",
       "    <tr>\n",
       "      <th>1</th>\n",
       "      <td>111759</td>\n",
       "      <td>0500000US39041</td>\n",
       "      <td>2000</td>\n",
       "      <td>Y-JUN</td>\n",
       "      <td>2012</td>\n",
       "      <td>&lt;NA&gt;</td>\n",
       "      <td>ESTIMATE</td>\n",
       "      <td>NaN</td>\n",
       "      <td>&lt;NA&gt;</td>\n",
       "      <td>&lt;NA&gt;</td>\n",
       "      <td>CENINT</td>\n",
       "      <td>COUNTY</td>\n",
       "    </tr>\n",
       "    <tr>\n",
       "      <th>2</th>\n",
       "      <td>119098</td>\n",
       "      <td>0500000US39041</td>\n",
       "      <td>2001</td>\n",
       "      <td>Y-JUN</td>\n",
       "      <td>2009</td>\n",
       "      <td>&lt;NA&gt;</td>\n",
       "      <td>ESTIMATE</td>\n",
       "      <td>NaN</td>\n",
       "      <td>&lt;NA&gt;</td>\n",
       "      <td>&lt;NA&gt;</td>\n",
       "      <td>CENPEP</td>\n",
       "      <td>COUNTY</td>\n",
       "    </tr>\n",
       "    <tr>\n",
       "      <th>3</th>\n",
       "      <td>118646</td>\n",
       "      <td>0500000US39041</td>\n",
       "      <td>2001</td>\n",
       "      <td>Y-JUN</td>\n",
       "      <td>2012</td>\n",
       "      <td>&lt;NA&gt;</td>\n",
       "      <td>ESTIMATE</td>\n",
       "      <td>NaN</td>\n",
       "      <td>&lt;NA&gt;</td>\n",
       "      <td>&lt;NA&gt;</td>\n",
       "      <td>CENINT</td>\n",
       "      <td>COUNTY</td>\n",
       "    </tr>\n",
       "    <tr>\n",
       "      <th>4</th>\n",
       "      <td>127011</td>\n",
       "      <td>0500000US39041</td>\n",
       "      <td>2002</td>\n",
       "      <td>Y-JUN</td>\n",
       "      <td>2009</td>\n",
       "      <td>&lt;NA&gt;</td>\n",
       "      <td>ESTIMATE</td>\n",
       "      <td>NaN</td>\n",
       "      <td>&lt;NA&gt;</td>\n",
       "      <td>&lt;NA&gt;</td>\n",
       "      <td>CENPEP</td>\n",
       "      <td>COUNTY</td>\n",
       "    </tr>\n",
       "  </tbody>\n",
       "</table>\n",
       "</div>"
      ],
      "text/plain": [
       "      POP         GEOIDFQ REFERENCE_PERIOD REFERENCE_PERIOD_FREQ  \\\n",
       "0  111714  0500000US39041             2000                 Y-JUN   \n",
       "1  111759  0500000US39041             2000                 Y-JUN   \n",
       "2  119098  0500000US39041             2001                 Y-JUN   \n",
       "3  118646  0500000US39041             2001                 Y-JUN   \n",
       "4  127011  0500000US39041             2002                 Y-JUN   \n",
       "\n",
       "  VINTAGE_PERIOD VINTAGE_PERIOD_FREQ VALUE_TYPE  CONF_LEVEL  CONF_LIMIT_UPPER  \\\n",
       "0           2009                <NA>   ESTIMATE         NaN              <NA>   \n",
       "1           2012                <NA>   ESTIMATE         NaN              <NA>   \n",
       "2           2009                <NA>   ESTIMATE         NaN              <NA>   \n",
       "3           2012                <NA>   ESTIMATE         NaN              <NA>   \n",
       "4           2009                <NA>   ESTIMATE         NaN              <NA>   \n",
       "\n",
       "   CONF_LIMIT_LOWER  SOURCE GEO_TYPE  \n",
       "0              <NA>  CENPEP   COUNTY  \n",
       "1              <NA>  CENINT   COUNTY  \n",
       "2              <NA>  CENPEP   COUNTY  \n",
       "3              <NA>  CENINT   COUNTY  \n",
       "4              <NA>  CENPEP   COUNTY  "
      ]
     },
     "execution_count": 17,
     "metadata": {},
     "output_type": "execute_result"
    }
   ],
   "source": [
    "combinedPop.head()"
   ]
  },
  {
   "cell_type": "markdown",
   "id": "9c2f76d3-b0b3-453e-aa5e-462e3b3b1dd2",
   "metadata": {},
   "source": [
    "### Geography lookup table"
   ]
  },
  {
   "cell_type": "code",
   "execution_count": 18,
   "id": "c5435e23-8863-4c8a-86c7-00a2dabba0f3",
   "metadata": {},
   "outputs": [
    {
     "name": "stdout",
     "output_type": "stream",
     "text": [
      "morpc.load_frictionless_data | INFO | Loading Frictionless Resource file at location ..\\morpc-geos-collect\\output_data\\morpc-geos-lookup.resource.yaml\n",
      "morpc.load_frictionless_data | INFO | Copying data, resource file, and schema to directory input_data\n",
      "morpc.load_frictionless_data | INFO | --> Data file: input_data\\morpc-geos-lookup.csv\n",
      "morpc.load_frictionless_data | INFO | --> Resource file: input_data\\morpc-geos-lookup.resource.yaml\n",
      "morpc.load_frictionless_data | INFO | --> Schema file: input_data\\morpc-geos-lookup.schema.yaml\n",
      "morpc.load_frictionless_data | INFO | Validating resource including data and schema.\n",
      "morpc.frictionless_validate_resource | INFO | Validating resource on disk (including data and schema). This may take some time.\n",
      "morpc.frictionless_validate_resource | INFO | Resource is valid\n",
      "morpc.load_frictionless_data | INFO | Loading data.\n",
      "frictionless_cast_field_types | INFO | Casting field GEOIDFQ as type string.\n",
      "frictionless_cast_field_types | INFO | Casting field GEOID as type string.\n",
      "frictionless_cast_field_types | INFO | Casting field SUMLEVEL as type string.\n",
      "frictionless_cast_field_types | INFO | Casting field GEOTYPE as type string.\n",
      "frictionless_cast_field_types | INFO | Casting field NAME as type string.\n",
      "frictionless_cast_field_types | INFO | Casting field SOURCE as type string.\n",
      "frictionless_cast_field_types | INFO | Casting field STATEFP as type string.\n",
      "frictionless_cast_field_types | INFO | Casting field COUNTYFP as type string.\n",
      "frictionless_cast_field_types | INFO | Casting field COUSUBFP as type string.\n",
      "frictionless_cast_field_types | INFO | Casting field PLACEFP as type string.\n",
      "frictionless_cast_field_types | INFO | Casting field TRACTCE as type string.\n",
      "frictionless_cast_field_types | INFO | Casting field CLASSFP as type string.\n",
      "frictionless_cast_field_types | INFO | Casting field MUNITYPE as type string.\n",
      "frictionless_cast_field_types | INFO | Casting field PLACECOMBO as type string.\n"
     ]
    }
   ],
   "source": [
    "(geoLookupRaw, geoLookupResource, geoLookupSchema) = morpc.frictionless_load_data(GEOS_LOOKUP_RESOURCE_PATH, archiveDir=inputDir, validate=True, verbose=True)"
   ]
  },
  {
   "cell_type": "code",
   "execution_count": 19,
   "id": "11348ada-c7e8-4ac1-b4d6-86f2592cd994",
   "metadata": {},
   "outputs": [],
   "source": [
    "geoLookup = geoLookupRaw.copy() \\\n",
    "    .set_index(\"GEOIDFQ\")"
   ]
  },
  {
   "cell_type": "code",
   "execution_count": 20,
   "id": "10faf074-c630-495a-bc48-025ae4c0f6d9",
   "metadata": {},
   "outputs": [
    {
     "data": {
      "text/html": [
       "<div>\n",
       "<style scoped>\n",
       "    .dataframe tbody tr th:only-of-type {\n",
       "        vertical-align: middle;\n",
       "    }\n",
       "\n",
       "    .dataframe tbody tr th {\n",
       "        vertical-align: top;\n",
       "    }\n",
       "\n",
       "    .dataframe thead th {\n",
       "        text-align: right;\n",
       "    }\n",
       "</style>\n",
       "<table border=\"1\" class=\"dataframe\">\n",
       "  <thead>\n",
       "    <tr style=\"text-align: right;\">\n",
       "      <th></th>\n",
       "      <th>GEOID</th>\n",
       "      <th>SUMLEVEL</th>\n",
       "      <th>GEOTYPE</th>\n",
       "      <th>NAME</th>\n",
       "      <th>SOURCE</th>\n",
       "      <th>STATEFP</th>\n",
       "      <th>COUNTYFP</th>\n",
       "      <th>COUSUBFP</th>\n",
       "      <th>PLACEFP</th>\n",
       "      <th>TRACTCE</th>\n",
       "      <th>CLASSFP</th>\n",
       "      <th>MUNITYPE</th>\n",
       "      <th>PLACECOMBO</th>\n",
       "    </tr>\n",
       "    <tr>\n",
       "      <th>GEOIDFQ</th>\n",
       "      <th></th>\n",
       "      <th></th>\n",
       "      <th></th>\n",
       "      <th></th>\n",
       "      <th></th>\n",
       "      <th></th>\n",
       "      <th></th>\n",
       "      <th></th>\n",
       "      <th></th>\n",
       "      <th></th>\n",
       "      <th></th>\n",
       "      <th></th>\n",
       "      <th></th>\n",
       "    </tr>\n",
       "  </thead>\n",
       "  <tbody>\n",
       "    <tr>\n",
       "      <th>0500000US39041</th>\n",
       "      <td>39041</td>\n",
       "      <td>050</td>\n",
       "      <td>COUNTY</td>\n",
       "      <td>Delaware</td>\n",
       "      <td>CENSUS</td>\n",
       "      <td>39</td>\n",
       "      <td>041</td>\n",
       "      <td>&lt;NA&gt;</td>\n",
       "      <td>&lt;NA&gt;</td>\n",
       "      <td>&lt;NA&gt;</td>\n",
       "      <td>H1</td>\n",
       "      <td>&lt;NA&gt;</td>\n",
       "      <td>&lt;NA&gt;</td>\n",
       "    </tr>\n",
       "    <tr>\n",
       "      <th>0500000US39045</th>\n",
       "      <td>39045</td>\n",
       "      <td>050</td>\n",
       "      <td>COUNTY</td>\n",
       "      <td>Fairfield</td>\n",
       "      <td>CENSUS</td>\n",
       "      <td>39</td>\n",
       "      <td>045</td>\n",
       "      <td>&lt;NA&gt;</td>\n",
       "      <td>&lt;NA&gt;</td>\n",
       "      <td>&lt;NA&gt;</td>\n",
       "      <td>H1</td>\n",
       "      <td>&lt;NA&gt;</td>\n",
       "      <td>&lt;NA&gt;</td>\n",
       "    </tr>\n",
       "    <tr>\n",
       "      <th>0500000US39047</th>\n",
       "      <td>39047</td>\n",
       "      <td>050</td>\n",
       "      <td>COUNTY</td>\n",
       "      <td>Fayette</td>\n",
       "      <td>CENSUS</td>\n",
       "      <td>39</td>\n",
       "      <td>047</td>\n",
       "      <td>&lt;NA&gt;</td>\n",
       "      <td>&lt;NA&gt;</td>\n",
       "      <td>&lt;NA&gt;</td>\n",
       "      <td>H1</td>\n",
       "      <td>&lt;NA&gt;</td>\n",
       "      <td>&lt;NA&gt;</td>\n",
       "    </tr>\n",
       "    <tr>\n",
       "      <th>0500000US39049</th>\n",
       "      <td>39049</td>\n",
       "      <td>050</td>\n",
       "      <td>COUNTY</td>\n",
       "      <td>Franklin</td>\n",
       "      <td>CENSUS</td>\n",
       "      <td>39</td>\n",
       "      <td>049</td>\n",
       "      <td>&lt;NA&gt;</td>\n",
       "      <td>&lt;NA&gt;</td>\n",
       "      <td>&lt;NA&gt;</td>\n",
       "      <td>H1</td>\n",
       "      <td>&lt;NA&gt;</td>\n",
       "      <td>&lt;NA&gt;</td>\n",
       "    </tr>\n",
       "    <tr>\n",
       "      <th>0500000US39073</th>\n",
       "      <td>39073</td>\n",
       "      <td>050</td>\n",
       "      <td>COUNTY</td>\n",
       "      <td>Hocking</td>\n",
       "      <td>CENSUS</td>\n",
       "      <td>39</td>\n",
       "      <td>073</td>\n",
       "      <td>&lt;NA&gt;</td>\n",
       "      <td>&lt;NA&gt;</td>\n",
       "      <td>&lt;NA&gt;</td>\n",
       "      <td>H1</td>\n",
       "      <td>&lt;NA&gt;</td>\n",
       "      <td>&lt;NA&gt;</td>\n",
       "    </tr>\n",
       "  </tbody>\n",
       "</table>\n",
       "</div>"
      ],
      "text/plain": [
       "                GEOID SUMLEVEL GEOTYPE       NAME  SOURCE STATEFP COUNTYFP  \\\n",
       "GEOIDFQ                                                                      \n",
       "0500000US39041  39041      050  COUNTY   Delaware  CENSUS      39      041   \n",
       "0500000US39045  39045      050  COUNTY  Fairfield  CENSUS      39      045   \n",
       "0500000US39047  39047      050  COUNTY    Fayette  CENSUS      39      047   \n",
       "0500000US39049  39049      050  COUNTY   Franklin  CENSUS      39      049   \n",
       "0500000US39073  39073      050  COUNTY    Hocking  CENSUS      39      073   \n",
       "\n",
       "               COUSUBFP PLACEFP TRACTCE CLASSFP MUNITYPE PLACECOMBO  \n",
       "GEOIDFQ                                                              \n",
       "0500000US39041     <NA>    <NA>    <NA>      H1     <NA>       <NA>  \n",
       "0500000US39045     <NA>    <NA>    <NA>      H1     <NA>       <NA>  \n",
       "0500000US39047     <NA>    <NA>    <NA>      H1     <NA>       <NA>  \n",
       "0500000US39049     <NA>    <NA>    <NA>      H1     <NA>       <NA>  \n",
       "0500000US39073     <NA>    <NA>    <NA>      H1     <NA>       <NA>  "
      ]
     },
     "execution_count": 20,
     "metadata": {},
     "output_type": "execute_result"
    }
   ],
   "source": [
    "geoLookup.head()"
   ]
  },
  {
   "cell_type": "markdown",
   "id": "2c0f3f69-4f4b-4e73-b786-523eb711e0a4",
   "metadata": {},
   "source": [
    "## Transform data"
   ]
  },
  {
   "cell_type": "markdown",
   "id": "53c39768-0ab4-4c41-b89f-cd62b60b2583",
   "metadata": {},
   "source": [
    "#### Load output schema"
   ]
  },
  {
   "cell_type": "code",
   "execution_count": 21,
   "id": "6ea99434-e6b4-43ff-82e3-94cc0f4f1cf5",
   "metadata": {
    "scrolled": true
   },
   "outputs": [
    {
     "data": {
      "text/plain": [
       "{'fields': [{'name': 'GEOIDFQ',\n",
       "             'type': 'string',\n",
       "             'description': 'Unique identifier for the geography as issued by '\n",
       "                            'MORPC.  These are identical to fully-qualified '\n",
       "                            'Census-issued GEOIDs for Census geographies.'},\n",
       "            {'name': 'Name',\n",
       "             'type': 'string',\n",
       "             'description': 'Name of the geography.'},\n",
       "            {'name': 'Geography type',\n",
       "             'type': 'string',\n",
       "             'description': 'Code which designates the summary level '\n",
       "                            '(geography type) for which the GEOID applies.  '\n",
       "                            'The combination of GEO_TYPE and GEOID uniquely '\n",
       "                            'identify the geography for the record.'},\n",
       "            {'name': 'Date',\n",
       "             'type': 'date',\n",
       "             'description': 'ISO8601-compliant date string that identifies the '\n",
       "                            'reference date for which the estimate applies'},\n",
       "            {'name': 'Historical',\n",
       "             'type': 'integer',\n",
       "             'description': 'The estimated historical population for the '\n",
       "                            'indicated year.'},\n",
       "            {'name': 'Forecast',\n",
       "             'type': 'integer',\n",
       "             'description': 'The forecasted population for the indicated '\n",
       "                            'year.'},\n",
       "            {'name': 'Confidence limit (upper)',\n",
       "             'type': 'integer',\n",
       "             'description': 'The estimated upper confidence limit for the '\n",
       "                            'population value.'},\n",
       "            {'name': 'Confidence limit (lower)',\n",
       "             'type': 'integer',\n",
       "             'description': 'The estimated lower confidence limit for the '\n",
       "                            'population value.'},\n",
       "            {'name': 'Source',\n",
       "             'type': 'string',\n",
       "             'description': 'The source of the estimate or forecast.  May be '\n",
       "                            'Census Intercensal Estimates (CENINT), Census '\n",
       "                            'Population Estimates Program (CENPEP), or MORPC.'},\n",
       "            {'name': 'Vintage year',\n",
       "             'type': 'integer',\n",
       "             'description': 'The year the estimate or forecast was produced.'}],\n",
       " 'missingValues': [''],\n",
       " 'primaryKey': ['GEOIDFQ', 'Date']}"
      ]
     },
     "execution_count": 21,
     "metadata": {},
     "output_type": "execute_result"
    }
   ],
   "source": [
    "insightsPopSchema = morpc.frictionless_load_schema(INSIGHTS_POP_TABLE_SCHEMA_PATH)\n",
    "insightsPopSchema"
   ]
  },
  {
   "cell_type": "markdown",
   "id": "5a71fdd9-4622-4e55-acc4-ee0dfeb9ca84",
   "metadata": {},
   "source": [
    "### Create list to collect extracted data"
   ]
  },
  {
   "cell_type": "code",
   "execution_count": 22,
   "id": "3c03ba21-1479-4d06-9692-182e7cc0c679",
   "metadata": {},
   "outputs": [],
   "source": [
    "extractedData = []"
   ]
  },
  {
   "cell_type": "markdown",
   "id": "14553053-7b89-4f1f-b9d6-08033744294e",
   "metadata": {},
   "source": [
    "### Extract decennial census counts (NOT IMPLEMENTED)"
   ]
  },
  {
   "cell_type": "markdown",
   "id": "9f953d19-1790-4e37-9fab-4b15158afb78",
   "metadata": {},
   "source": [
    "### Extract intercensal estimates"
   ]
  },
  {
   "cell_type": "markdown",
   "id": "99e133f5-758e-48be-8bad-58b378ad6568",
   "metadata": {},
   "source": [
    "Create list of years from user-specified range."
   ]
  },
  {
   "cell_type": "code",
   "execution_count": 23,
   "id": "e57e4c3f-d95f-40f7-bc4b-d7ea813029f5",
   "metadata": {},
   "outputs": [
    {
     "name": "stdout",
     "output_type": "stream",
     "text": [
      "Including intercensal estimates for years: 2000, 2001, 2002, 2003, 2004, 2005, 2006, 2007, 2008, 2009, 2010, 2011, 2012, 2013, 2014, 2015, 2016, 2017, 2018, 2019\n"
     ]
    }
   ],
   "source": [
    "intercensalRange = list(range(INTERCENSAL_YEAR_RANGE[0], INTERCENSAL_YEAR_RANGE[1]+1))\n",
    "print(\"Including intercensal estimates for years: {}\".format(\", \".join([str(x) for x in intercensalRange])))"
   ]
  },
  {
   "cell_type": "markdown",
   "id": "37222e9b-db1c-4aa5-a110-62e89877542d",
   "metadata": {},
   "source": [
    "Extract intercensal data from combined table."
   ]
  },
  {
   "cell_type": "code",
   "execution_count": 24,
   "id": "a30b33a3-5354-4864-8e7b-4e237ac7ef42",
   "metadata": {},
   "outputs": [],
   "source": [
    "intercensal = combinedPop.loc[combinedPop[\"SOURCE\"] == \"CENINT\"].copy()"
   ]
  },
  {
   "cell_type": "markdown",
   "id": "0b6bfb2a-ccf4-4f58-9e5d-21aab5d14cc6",
   "metadata": {},
   "source": [
    "Reference period and vintage period were stored as strings, but for intercensal estimates we can treat them as integers. Convert them now."
   ]
  },
  {
   "cell_type": "code",
   "execution_count": 25,
   "id": "8ee6f18c-59b5-4529-b0e8-362116a58487",
   "metadata": {},
   "outputs": [],
   "source": [
    "intercensal = intercensal.astype({\n",
    "    \"REFERENCE_PERIOD\":\"int\",\n",
    "    \"VINTAGE_PERIOD\":\"int\"\n",
    "})"
   ]
  },
  {
   "cell_type": "markdown",
   "id": "39321204-c89e-4048-a6f6-6b31bd912082",
   "metadata": {},
   "source": [
    "Verify that data is available for the specified years."
   ]
  },
  {
   "cell_type": "code",
   "execution_count": 26,
   "id": "9fc7cbbc-e717-43aa-ae10-696974bc08ad",
   "metadata": {},
   "outputs": [
    {
     "name": "stdout",
     "output_type": "stream",
     "text": [
      "INFO | Intercensal data is available for all years in specified range.\n"
     ]
    }
   ],
   "source": [
    "if(not set(intercensalRange).issubset(set(intercensal[\"REFERENCE_PERIOD\"]))):\n",
    "    print(\"ERROR | Set of intercensal years for which data is available does not match set derived from specified range.\")\n",
    "    print(\"Specified range: {}\".format(INTERCENSAL_YEAR_RANGE))\n",
    "    print(\"Specified set: {}\".format(set(intercensalRange)))\n",
    "    print(\"Available set: {}\".format(set(intercensal[\"REFERENCE_PERIOD\"])))\n",
    "    raise RuntimeError\n",
    "else:\n",
    "    print(\"INFO | Intercensal data is available for all years in specified range.\")"
   ]
  },
  {
   "cell_type": "markdown",
   "id": "3ad1a7e2-10e2-4fb0-bf80-564c89487c9e",
   "metadata": {},
   "source": [
    "Extract only the estimates for the specified years."
   ]
  },
  {
   "cell_type": "code",
   "execution_count": 27,
   "id": "1b947e55-5db4-488f-be9f-a51ae8ac056e",
   "metadata": {},
   "outputs": [],
   "source": [
    "intercensal = morpc.extract_vintage(intercensal, refPeriods=intercensalRange)"
   ]
  },
  {
   "cell_type": "markdown",
   "id": "64aebcde-529f-4496-bb93-a46a3ad068eb",
   "metadata": {},
   "source": [
    "Verify that all reference periods are present and that there is only a single vintage for each reference period."
   ]
  },
  {
   "cell_type": "code",
   "execution_count": 28,
   "id": "96f4dbc0-65b8-4fcf-90cc-ab28b652f35d",
   "metadata": {},
   "outputs": [
    {
     "name": "stdout",
     "output_type": "stream",
     "text": [
      "2000: 2012\n",
      "2001: 2012\n",
      "2002: 2012\n",
      "2003: 2012\n",
      "2004: 2012\n",
      "2005: 2012\n",
      "2006: 2012\n",
      "2007: 2012\n",
      "2008: 2012\n",
      "2009: 2012\n",
      "2010: 2024\n",
      "2011: 2024\n",
      "2012: 2024\n",
      "2013: 2024\n",
      "2014: 2024\n",
      "2015: 2024\n",
      "2016: 2024\n",
      "2017: 2024\n",
      "2018: 2024\n",
      "2019: 2024\n"
     ]
    }
   ],
   "source": [
    "for year in intercensal[\"REFERENCE_PERIOD\"].unique():\n",
    "    temp = intercensal.loc[intercensal[\"REFERENCE_PERIOD\"] == year]\n",
    "    print(\"{0}: {1}\".format(year, \",\".join(temp[\"VINTAGE_PERIOD\"].unique().astype(\"str\"))))"
   ]
  },
  {
   "cell_type": "markdown",
   "id": "23fd0a79-1dcf-43d3-a672-2ff2c1c8954f",
   "metadata": {},
   "source": [
    "Construct DATE field from reference period and reference period frequency."
   ]
  },
  {
   "cell_type": "code",
   "execution_count": 29,
   "id": "be4b2b45-027f-4c1f-9f7e-64949be825cc",
   "metadata": {},
   "outputs": [
    {
     "name": "stdout",
     "output_type": "stream",
     "text": [
      "INFO | Detected reference period frequency Y-JUN\n",
      "WARNING | Error occurred when attempting to create period index using 'Y-' format. Trying legacy 'A-' format.\n"
     ]
    }
   ],
   "source": [
    "if(intercensal[\"REFERENCE_PERIOD_FREQ\"].unique().shape[0] == 1):\n",
    "    freq = intercensal[\"REFERENCE_PERIOD_FREQ\"].iat[0]\n",
    "    print(\"INFO | Detected reference period frequency {}\".format(freq))\n",
    "else:\n",
    "    print(\"ERROR | Multiple reference period frequencies are not supported.\")\n",
    "    raise RuntimeError\n",
    "\n",
    "try:\n",
    "    # Hopefully this works properly with newer versions of pandas, but it has not been tested\n",
    "    periodIndex = pd.PeriodIndex(intercensal[\"REFERENCE_PERIOD\"]+1, freq=freq)\n",
    "except:\n",
    "    # This works with older versions of pandas. Note the +1 offset. For whatever reason, pandas converts 2000 Y-JUN (for example)\n",
    "    # to a timestamp of 1999-07-01 so we add one year to the reference period so the timestamp becomes 2000-07-01.\n",
    "    print(\"WARNING | Error occurred when attempting to create period index using 'Y-' format. Trying legacy 'A-' format.\")\n",
    "    periodIndex = pd.PeriodIndex(intercensal[\"REFERENCE_PERIOD\"]+1, freq=freq.replace(\"Y-\",\"A-\"))\n",
    "intercensal[\"DATE\"] = periodIndex.to_timestamp()"
   ]
  },
  {
   "cell_type": "markdown",
   "id": "c822fa4e-60af-448d-87c3-d3fb3f82ad4f",
   "metadata": {},
   "source": [
    "Show the data."
   ]
  },
  {
   "cell_type": "code",
   "execution_count": 30,
   "id": "cb420e90-7d78-401f-ba80-12bd080d246e",
   "metadata": {
    "scrolled": true
   },
   "outputs": [
    {
     "data": {
      "text/html": [
       "<div>\n",
       "<style scoped>\n",
       "    .dataframe tbody tr th:only-of-type {\n",
       "        vertical-align: middle;\n",
       "    }\n",
       "\n",
       "    .dataframe tbody tr th {\n",
       "        vertical-align: top;\n",
       "    }\n",
       "\n",
       "    .dataframe thead th {\n",
       "        text-align: right;\n",
       "    }\n",
       "</style>\n",
       "<table border=\"1\" class=\"dataframe\">\n",
       "  <thead>\n",
       "    <tr style=\"text-align: right;\">\n",
       "      <th></th>\n",
       "      <th>POP</th>\n",
       "      <th>GEOIDFQ</th>\n",
       "      <th>REFERENCE_PERIOD</th>\n",
       "      <th>REFERENCE_PERIOD_FREQ</th>\n",
       "      <th>VINTAGE_PERIOD</th>\n",
       "      <th>VINTAGE_PERIOD_FREQ</th>\n",
       "      <th>VALUE_TYPE</th>\n",
       "      <th>CONF_LEVEL</th>\n",
       "      <th>CONF_LIMIT_UPPER</th>\n",
       "      <th>CONF_LIMIT_LOWER</th>\n",
       "      <th>SOURCE</th>\n",
       "      <th>GEO_TYPE</th>\n",
       "      <th>DATE</th>\n",
       "    </tr>\n",
       "  </thead>\n",
       "  <tbody>\n",
       "    <tr>\n",
       "      <th>1</th>\n",
       "      <td>111759</td>\n",
       "      <td>0500000US39041</td>\n",
       "      <td>2000</td>\n",
       "      <td>Y-JUN</td>\n",
       "      <td>2012</td>\n",
       "      <td>&lt;NA&gt;</td>\n",
       "      <td>ESTIMATE</td>\n",
       "      <td>NaN</td>\n",
       "      <td>&lt;NA&gt;</td>\n",
       "      <td>&lt;NA&gt;</td>\n",
       "      <td>CENINT</td>\n",
       "      <td>COUNTY</td>\n",
       "      <td>2000-07-01</td>\n",
       "    </tr>\n",
       "    <tr>\n",
       "      <th>62</th>\n",
       "      <td>123485</td>\n",
       "      <td>0500000US39045</td>\n",
       "      <td>2000</td>\n",
       "      <td>Y-JUN</td>\n",
       "      <td>2012</td>\n",
       "      <td>&lt;NA&gt;</td>\n",
       "      <td>ESTIMATE</td>\n",
       "      <td>NaN</td>\n",
       "      <td>&lt;NA&gt;</td>\n",
       "      <td>&lt;NA&gt;</td>\n",
       "      <td>CENINT</td>\n",
       "      <td>COUNTY</td>\n",
       "      <td>2000-07-01</td>\n",
       "    </tr>\n",
       "    <tr>\n",
       "      <th>123</th>\n",
       "      <td>28495</td>\n",
       "      <td>0500000US39047</td>\n",
       "      <td>2000</td>\n",
       "      <td>Y-JUN</td>\n",
       "      <td>2012</td>\n",
       "      <td>&lt;NA&gt;</td>\n",
       "      <td>ESTIMATE</td>\n",
       "      <td>NaN</td>\n",
       "      <td>&lt;NA&gt;</td>\n",
       "      <td>&lt;NA&gt;</td>\n",
       "      <td>CENINT</td>\n",
       "      <td>COUNTY</td>\n",
       "      <td>2000-07-01</td>\n",
       "    </tr>\n",
       "    <tr>\n",
       "      <th>184</th>\n",
       "      <td>1072018</td>\n",
       "      <td>0500000US39049</td>\n",
       "      <td>2000</td>\n",
       "      <td>Y-JUN</td>\n",
       "      <td>2012</td>\n",
       "      <td>&lt;NA&gt;</td>\n",
       "      <td>ESTIMATE</td>\n",
       "      <td>NaN</td>\n",
       "      <td>&lt;NA&gt;</td>\n",
       "      <td>&lt;NA&gt;</td>\n",
       "      <td>CENINT</td>\n",
       "      <td>COUNTY</td>\n",
       "      <td>2000-07-01</td>\n",
       "    </tr>\n",
       "    <tr>\n",
       "      <th>245</th>\n",
       "      <td>28262</td>\n",
       "      <td>0500000US39073</td>\n",
       "      <td>2000</td>\n",
       "      <td>Y-JUN</td>\n",
       "      <td>2012</td>\n",
       "      <td>&lt;NA&gt;</td>\n",
       "      <td>ESTIMATE</td>\n",
       "      <td>NaN</td>\n",
       "      <td>&lt;NA&gt;</td>\n",
       "      <td>&lt;NA&gt;</td>\n",
       "      <td>CENINT</td>\n",
       "      <td>COUNTY</td>\n",
       "      <td>2000-07-01</td>\n",
       "    </tr>\n",
       "  </tbody>\n",
       "</table>\n",
       "</div>"
      ],
      "text/plain": [
       "         POP         GEOIDFQ  REFERENCE_PERIOD REFERENCE_PERIOD_FREQ  \\\n",
       "1     111759  0500000US39041              2000                 Y-JUN   \n",
       "62    123485  0500000US39045              2000                 Y-JUN   \n",
       "123    28495  0500000US39047              2000                 Y-JUN   \n",
       "184  1072018  0500000US39049              2000                 Y-JUN   \n",
       "245    28262  0500000US39073              2000                 Y-JUN   \n",
       "\n",
       "     VINTAGE_PERIOD VINTAGE_PERIOD_FREQ VALUE_TYPE  CONF_LEVEL  \\\n",
       "1              2012                <NA>   ESTIMATE         NaN   \n",
       "62             2012                <NA>   ESTIMATE         NaN   \n",
       "123            2012                <NA>   ESTIMATE         NaN   \n",
       "184            2012                <NA>   ESTIMATE         NaN   \n",
       "245            2012                <NA>   ESTIMATE         NaN   \n",
       "\n",
       "     CONF_LIMIT_UPPER  CONF_LIMIT_LOWER  SOURCE GEO_TYPE       DATE  \n",
       "1                <NA>              <NA>  CENINT   COUNTY 2000-07-01  \n",
       "62               <NA>              <NA>  CENINT   COUNTY 2000-07-01  \n",
       "123              <NA>              <NA>  CENINT   COUNTY 2000-07-01  \n",
       "184              <NA>              <NA>  CENINT   COUNTY 2000-07-01  \n",
       "245              <NA>              <NA>  CENINT   COUNTY 2000-07-01  "
      ]
     },
     "execution_count": 30,
     "metadata": {},
     "output_type": "execute_result"
    }
   ],
   "source": [
    "intercensal.head()"
   ]
  },
  {
   "cell_type": "code",
   "execution_count": 31,
   "id": "c3880dc1-9014-4dbd-9d03-02ab01c897cf",
   "metadata": {},
   "outputs": [],
   "source": [
    "extractedData.append(intercensal)"
   ]
  },
  {
   "cell_type": "markdown",
   "id": "48a82171-6443-48d2-96d2-1eb603e2ab0d",
   "metadata": {},
   "source": [
    "### Extract PEP estimates"
   ]
  },
  {
   "cell_type": "markdown",
   "id": "dada31ff-eb1e-47f7-b5c0-55cdae5507fc",
   "metadata": {},
   "source": [
    "Create list of years from user-specified range."
   ]
  },
  {
   "cell_type": "code",
   "execution_count": 32,
   "id": "9289e48d-cf71-466f-95bd-31cb0f1a3b5e",
   "metadata": {},
   "outputs": [
    {
     "name": "stdout",
     "output_type": "stream",
     "text": [
      "Including PEP estimates for years: 2020, 2021, 2022, 2023\n"
     ]
    }
   ],
   "source": [
    "pepRange = list(range(PEP_YEAR_RANGE[0], PEP_YEAR_RANGE[1]+1))\n",
    "print(\"Including PEP estimates for years: {}\".format(\", \".join([str(x) for x in pepRange])))"
   ]
  },
  {
   "cell_type": "markdown",
   "id": "22618e91-fb3b-4376-964d-ab7703f95ce9",
   "metadata": {},
   "source": [
    "Extract PEP estimates from combined table."
   ]
  },
  {
   "cell_type": "code",
   "execution_count": 33,
   "id": "dd2f9024-6736-403f-994f-249b119d441c",
   "metadata": {},
   "outputs": [],
   "source": [
    "pep = combinedPop.loc[combinedPop[\"SOURCE\"] == \"CENPEP\"].copy()"
   ]
  },
  {
   "cell_type": "markdown",
   "id": "3048b4f9-ae9f-4ad7-9840-9e9714850169",
   "metadata": {},
   "source": [
    "Reference period and vintage period were stored as strings, but for Census PEP estimates we can treat them as integers. Convert them now."
   ]
  },
  {
   "cell_type": "code",
   "execution_count": 34,
   "id": "a72218b9-420b-49ad-8b0d-5869f0ab7b1c",
   "metadata": {},
   "outputs": [],
   "source": [
    "pep = pep.astype({\n",
    "    \"REFERENCE_PERIOD\":\"int\",\n",
    "    \"VINTAGE_PERIOD\":\"int\"\n",
    "})"
   ]
  },
  {
   "cell_type": "markdown",
   "id": "67cedaf3-6427-4382-95a7-eef7b048840a",
   "metadata": {},
   "source": [
    "Verify that data is available for the specified years."
   ]
  },
  {
   "cell_type": "code",
   "execution_count": 35,
   "id": "d5fdc864-3c5b-42a2-ac99-ae22730d47b2",
   "metadata": {},
   "outputs": [
    {
     "name": "stdout",
     "output_type": "stream",
     "text": [
      "INFO | PEP data is available for all years in specified range.\n"
     ]
    }
   ],
   "source": [
    "if(not set(pepRange).issubset(set(pep[\"REFERENCE_PERIOD\"]))):\n",
    "    print(\"ERROR | Set of Census PEP years for which data is available does not match set derived from specified range.\")\n",
    "    print(\"Specified range: {}\".format(PEP_YEAR_RANGE))\n",
    "    print(\"Specified set: {}\".format(set(pepRange)))\n",
    "    print(\"Available set: {}\".format(set(pep[\"REFERENCE_PERIOD\"])))\n",
    "    raise RuntimeError\n",
    "else:\n",
    "    print(\"INFO | PEP data is available for all years in specified range.\")"
   ]
  },
  {
   "cell_type": "markdown",
   "id": "8e92a030-814e-41b1-94c9-e1dbfeecb516",
   "metadata": {},
   "source": [
    "Extract only the estimates for the specified years."
   ]
  },
  {
   "cell_type": "code",
   "execution_count": 36,
   "id": "2f39d999-08cf-4b7e-96ce-7e08a1288fba",
   "metadata": {},
   "outputs": [],
   "source": [
    "pep = morpc.extract_vintage(pep, refPeriods=pepRange)"
   ]
  },
  {
   "cell_type": "markdown",
   "id": "7991917a-967f-4071-b93c-61831221b57b",
   "metadata": {},
   "source": [
    "Verify that all reference periods are present and that there is only a single vintage for each reference period."
   ]
  },
  {
   "cell_type": "code",
   "execution_count": 37,
   "id": "fad56fe2-a50a-4773-b902-e3a530572ead",
   "metadata": {},
   "outputs": [
    {
     "name": "stdout",
     "output_type": "stream",
     "text": [
      "2020: 2023\n",
      "2021: 2023\n",
      "2022: 2023\n",
      "2023: 2023\n"
     ]
    }
   ],
   "source": [
    "for year in pep[\"REFERENCE_PERIOD\"].unique():\n",
    "    temp = pep.loc[pep[\"REFERENCE_PERIOD\"] == year]\n",
    "    print(\"{0}: {1}\".format(year, \",\".join(temp[\"VINTAGE_PERIOD\"].unique().astype(\"str\"))))"
   ]
  },
  {
   "cell_type": "markdown",
   "id": "491b4895-9bdd-497a-a7ba-844b2d3caf4e",
   "metadata": {},
   "source": [
    "Construct DATE field from reference period and reference period frequency."
   ]
  },
  {
   "cell_type": "code",
   "execution_count": 38,
   "id": "9ff3c906-6e60-4427-b100-6367427565d1",
   "metadata": {},
   "outputs": [
    {
     "name": "stdout",
     "output_type": "stream",
     "text": [
      "INFO | Detected reference period frequency Y-JUN\n",
      "WARNING | Error occurred when attempting to create period index using 'Y-' format. Trying legacy 'A-' format.\n"
     ]
    }
   ],
   "source": [
    "if(pep[\"REFERENCE_PERIOD_FREQ\"].unique().shape[0] == 1):\n",
    "    freq = pep[\"REFERENCE_PERIOD_FREQ\"].iat[0]\n",
    "    print(\"INFO | Detected reference period frequency {}\".format(freq))\n",
    "else:\n",
    "    print(\"ERROR | Multiple reference period frequencies are not supported.\")\n",
    "    raise RuntimeError\n",
    "\n",
    "try:\n",
    "    # Hopefully this works properly with newer versions of pandas, but it has not been tested\n",
    "    periodIndex = pd.PeriodIndex(pep[\"REFERENCE_PERIOD\"]+1, freq=freq)\n",
    "except:\n",
    "    # This works with older versions of pandas. Note the +1 offset. For whatever reason, pandas converts 2000 Y-JUN (for example)\n",
    "    # to a timestamp of 1999-07-01 so we add one year to the reference period so the timestamp becomes 2000-07-01.\n",
    "    print(\"WARNING | Error occurred when attempting to create period index using 'Y-' format. Trying legacy 'A-' format.\")\n",
    "    periodIndex = pd.PeriodIndex(pep[\"REFERENCE_PERIOD\"]+1, freq=freq.replace(\"Y-\",\"A-\"))\n",
    "pep[\"DATE\"] = periodIndex.to_timestamp()"
   ]
  },
  {
   "cell_type": "markdown",
   "id": "9a166db0-e265-4ada-bfa9-b14c4ac35f46",
   "metadata": {},
   "source": [
    "Show the data."
   ]
  },
  {
   "cell_type": "code",
   "execution_count": 39,
   "id": "2130e38f-d6c4-48b6-932d-1c9a05882f22",
   "metadata": {
    "scrolled": true
   },
   "outputs": [
    {
     "data": {
      "text/html": [
       "<div>\n",
       "<style scoped>\n",
       "    .dataframe tbody tr th:only-of-type {\n",
       "        vertical-align: middle;\n",
       "    }\n",
       "\n",
       "    .dataframe tbody tr th {\n",
       "        vertical-align: top;\n",
       "    }\n",
       "\n",
       "    .dataframe thead th {\n",
       "        text-align: right;\n",
       "    }\n",
       "</style>\n",
       "<table border=\"1\" class=\"dataframe\">\n",
       "  <thead>\n",
       "    <tr style=\"text-align: right;\">\n",
       "      <th></th>\n",
       "      <th>POP</th>\n",
       "      <th>GEOIDFQ</th>\n",
       "      <th>REFERENCE_PERIOD</th>\n",
       "      <th>REFERENCE_PERIOD_FREQ</th>\n",
       "      <th>VINTAGE_PERIOD</th>\n",
       "      <th>VINTAGE_PERIOD_FREQ</th>\n",
       "      <th>VALUE_TYPE</th>\n",
       "      <th>CONF_LEVEL</th>\n",
       "      <th>CONF_LIMIT_UPPER</th>\n",
       "      <th>CONF_LIMIT_LOWER</th>\n",
       "      <th>SOURCE</th>\n",
       "      <th>GEO_TYPE</th>\n",
       "      <th>DATE</th>\n",
       "    </tr>\n",
       "  </thead>\n",
       "  <tbody>\n",
       "    <tr>\n",
       "      <th>43</th>\n",
       "      <td>215166</td>\n",
       "      <td>0500000US39041</td>\n",
       "      <td>2020</td>\n",
       "      <td>Y-JUN</td>\n",
       "      <td>2023</td>\n",
       "      <td>&lt;NA&gt;</td>\n",
       "      <td>ESTIMATE</td>\n",
       "      <td>NaN</td>\n",
       "      <td>&lt;NA&gt;</td>\n",
       "      <td>&lt;NA&gt;</td>\n",
       "      <td>CENPEP</td>\n",
       "      <td>COUNTY</td>\n",
       "      <td>2020-07-01</td>\n",
       "    </tr>\n",
       "    <tr>\n",
       "      <th>104</th>\n",
       "      <td>159448</td>\n",
       "      <td>0500000US39045</td>\n",
       "      <td>2020</td>\n",
       "      <td>Y-JUN</td>\n",
       "      <td>2023</td>\n",
       "      <td>&lt;NA&gt;</td>\n",
       "      <td>ESTIMATE</td>\n",
       "      <td>NaN</td>\n",
       "      <td>&lt;NA&gt;</td>\n",
       "      <td>&lt;NA&gt;</td>\n",
       "      <td>CENPEP</td>\n",
       "      <td>COUNTY</td>\n",
       "      <td>2020-07-01</td>\n",
       "    </tr>\n",
       "    <tr>\n",
       "      <th>165</th>\n",
       "      <td>28975</td>\n",
       "      <td>0500000US39047</td>\n",
       "      <td>2020</td>\n",
       "      <td>Y-JUN</td>\n",
       "      <td>2023</td>\n",
       "      <td>&lt;NA&gt;</td>\n",
       "      <td>ESTIMATE</td>\n",
       "      <td>NaN</td>\n",
       "      <td>&lt;NA&gt;</td>\n",
       "      <td>&lt;NA&gt;</td>\n",
       "      <td>CENPEP</td>\n",
       "      <td>COUNTY</td>\n",
       "      <td>2020-07-01</td>\n",
       "    </tr>\n",
       "    <tr>\n",
       "      <th>226</th>\n",
       "      <td>1324441</td>\n",
       "      <td>0500000US39049</td>\n",
       "      <td>2020</td>\n",
       "      <td>Y-JUN</td>\n",
       "      <td>2023</td>\n",
       "      <td>&lt;NA&gt;</td>\n",
       "      <td>ESTIMATE</td>\n",
       "      <td>NaN</td>\n",
       "      <td>&lt;NA&gt;</td>\n",
       "      <td>&lt;NA&gt;</td>\n",
       "      <td>CENPEP</td>\n",
       "      <td>COUNTY</td>\n",
       "      <td>2020-07-01</td>\n",
       "    </tr>\n",
       "    <tr>\n",
       "      <th>287</th>\n",
       "      <td>28040</td>\n",
       "      <td>0500000US39073</td>\n",
       "      <td>2020</td>\n",
       "      <td>Y-JUN</td>\n",
       "      <td>2023</td>\n",
       "      <td>&lt;NA&gt;</td>\n",
       "      <td>ESTIMATE</td>\n",
       "      <td>NaN</td>\n",
       "      <td>&lt;NA&gt;</td>\n",
       "      <td>&lt;NA&gt;</td>\n",
       "      <td>CENPEP</td>\n",
       "      <td>COUNTY</td>\n",
       "      <td>2020-07-01</td>\n",
       "    </tr>\n",
       "  </tbody>\n",
       "</table>\n",
       "</div>"
      ],
      "text/plain": [
       "         POP         GEOIDFQ  REFERENCE_PERIOD REFERENCE_PERIOD_FREQ  \\\n",
       "43    215166  0500000US39041              2020                 Y-JUN   \n",
       "104   159448  0500000US39045              2020                 Y-JUN   \n",
       "165    28975  0500000US39047              2020                 Y-JUN   \n",
       "226  1324441  0500000US39049              2020                 Y-JUN   \n",
       "287    28040  0500000US39073              2020                 Y-JUN   \n",
       "\n",
       "     VINTAGE_PERIOD VINTAGE_PERIOD_FREQ VALUE_TYPE  CONF_LEVEL  \\\n",
       "43             2023                <NA>   ESTIMATE         NaN   \n",
       "104            2023                <NA>   ESTIMATE         NaN   \n",
       "165            2023                <NA>   ESTIMATE         NaN   \n",
       "226            2023                <NA>   ESTIMATE         NaN   \n",
       "287            2023                <NA>   ESTIMATE         NaN   \n",
       "\n",
       "     CONF_LIMIT_UPPER  CONF_LIMIT_LOWER  SOURCE GEO_TYPE       DATE  \n",
       "43               <NA>              <NA>  CENPEP   COUNTY 2020-07-01  \n",
       "104              <NA>              <NA>  CENPEP   COUNTY 2020-07-01  \n",
       "165              <NA>              <NA>  CENPEP   COUNTY 2020-07-01  \n",
       "226              <NA>              <NA>  CENPEP   COUNTY 2020-07-01  \n",
       "287              <NA>              <NA>  CENPEP   COUNTY 2020-07-01  "
      ]
     },
     "execution_count": 39,
     "metadata": {},
     "output_type": "execute_result"
    }
   ],
   "source": [
    "pep.head()"
   ]
  },
  {
   "cell_type": "code",
   "execution_count": 40,
   "id": "c27cc43e-5990-40c3-a8ac-007e58e306d0",
   "metadata": {},
   "outputs": [],
   "source": [
    "extractedData.append(pep)"
   ]
  },
  {
   "cell_type": "markdown",
   "id": "cf539ea7-aaff-4fae-9cd8-fb4302612f5f",
   "metadata": {},
   "source": [
    "### Extract MORPC county estimates"
   ]
  },
  {
   "cell_type": "markdown",
   "id": "689d2a39-7291-464c-8ce8-6e740f2a352f",
   "metadata": {},
   "source": [
    "Because county estimates and sub-county estimates are generated (and regenerated) at different times, it is necessary to process each separately. Start with county estimates."
   ]
  },
  {
   "cell_type": "markdown",
   "id": "1fa76b50-0a15-4508-ae2b-057543b72393",
   "metadata": {},
   "source": [
    "Create list of years from user-specified range."
   ]
  },
  {
   "cell_type": "code",
   "execution_count": 41,
   "id": "7ab9e531-a671-43b4-b259-dc2935908e33",
   "metadata": {},
   "outputs": [
    {
     "name": "stdout",
     "output_type": "stream",
     "text": [
      "Including MORPC estimates for years: 2024\n"
     ]
    }
   ],
   "source": [
    "morpcEstimatesRange = list(range(MORPC_ESTIMATE_YEAR_RANGE[0], MORPC_ESTIMATE_YEAR_RANGE[1]+1))\n",
    "print(\"Including MORPC estimates for years: {}\".format(\", \".join([str(x) for x in morpcEstimatesRange])))"
   ]
  },
  {
   "cell_type": "markdown",
   "id": "079300e6-f29a-49b2-a1ee-4074bfb4036f",
   "metadata": {},
   "source": [
    "Extract MORPC county estimates from combined table."
   ]
  },
  {
   "cell_type": "code",
   "execution_count": 42,
   "id": "5c64f915-7fb2-4b5f-9a48-d2174b0ed770",
   "metadata": {},
   "outputs": [],
   "source": [
    "morpcCountyEstimates = combinedPop.loc[\n",
    "    (combinedPop[\"SOURCE\"] == \"MORPC\") & \n",
    "    (combinedPop[\"VALUE_TYPE\"] == \"ESTIMATE\") &\n",
    "    (combinedPop[\"GEO_TYPE\"] == \"COUNTY\")\n",
    "].copy()"
   ]
  },
  {
   "cell_type": "markdown",
   "id": "8942de3f-d902-4a2e-9b16-934add103612",
   "metadata": {},
   "source": [
    "Reference period and vintage period were stored as strings, but for MORPC estimates we can treat them as integers. Convert them now."
   ]
  },
  {
   "cell_type": "code",
   "execution_count": 43,
   "id": "6d7ae42a-9944-4d0b-8fcd-62bb1c2652af",
   "metadata": {},
   "outputs": [],
   "source": [
    "morpcCountyEstimates = morpcCountyEstimates.astype({\n",
    "    \"REFERENCE_PERIOD\":\"int\",\n",
    "    \"VINTAGE_PERIOD\":\"int\"\n",
    "})"
   ]
  },
  {
   "cell_type": "markdown",
   "id": "f135e698-ceff-42f7-92ac-fec103ddce08",
   "metadata": {},
   "source": [
    "Verify that data is available for the specified years."
   ]
  },
  {
   "cell_type": "code",
   "execution_count": 44,
   "id": "6dc78cc5-2dfa-4e86-a555-a9860cd4c232",
   "metadata": {},
   "outputs": [
    {
     "name": "stdout",
     "output_type": "stream",
     "text": [
      "INFO | MORPC county estimates data is available for all years in specified range.\n"
     ]
    }
   ],
   "source": [
    "if(not set(morpcEstimatesRange).issubset(set(morpcCountyEstimates[\"REFERENCE_PERIOD\"]))):\n",
    "    print(\"ERROR | Set of MORPC estimate years for which data is available does not match set derived from specified range.\")\n",
    "    print(\"Specified range: {}\".format(MORPC_ESTIMATE_YEAR_RANGE))\n",
    "    print(\"Specified set: {}\".format(set(morpcEstimatesRange)))\n",
    "    print(\"Available set: {}\".format(set(morpcCountyEstimates[\"REFERENCE_PERIOD\"])))\n",
    "    raise RuntimeError\n",
    "else:\n",
    "    print(\"INFO | MORPC county estimates data is available for all years in specified range.\")"
   ]
  },
  {
   "cell_type": "markdown",
   "id": "c35004d6-7c85-44c4-aaa0-5cfd0c22b5c2",
   "metadata": {},
   "source": [
    "Extract only the estimates for the specified years."
   ]
  },
  {
   "cell_type": "code",
   "execution_count": 45,
   "id": "4bef8084-6266-460a-a8a2-b14ad367ad00",
   "metadata": {},
   "outputs": [],
   "source": [
    "morpcCountyEstimates = morpc.extract_vintage(morpcCountyEstimates, refPeriods=morpcEstimatesRange)"
   ]
  },
  {
   "cell_type": "markdown",
   "id": "0e30f60e-949b-4b72-8b2b-ae071fc555d9",
   "metadata": {},
   "source": [
    "Verify that all reference periods are present and that there is only a single vintage for each reference period."
   ]
  },
  {
   "cell_type": "code",
   "execution_count": 46,
   "id": "2e504aa8-f343-4010-a18a-2fea3b4e62b1",
   "metadata": {},
   "outputs": [
    {
     "name": "stdout",
     "output_type": "stream",
     "text": [
      "2024: 2024\n"
     ]
    }
   ],
   "source": [
    "for year in morpcCountyEstimates[\"REFERENCE_PERIOD\"].unique():\n",
    "    temp = morpcCountyEstimates.loc[morpcCountyEstimates[\"REFERENCE_PERIOD\"] == year]\n",
    "    print(\"{0}: {1}\".format(year, \",\".join(temp[\"VINTAGE_PERIOD\"].unique().astype(\"str\"))))"
   ]
  },
  {
   "cell_type": "markdown",
   "id": "e8591ee3-30e1-4132-a39f-3d446eb74962",
   "metadata": {},
   "source": [
    "Construct DATE field from reference period and reference period frequency."
   ]
  },
  {
   "cell_type": "code",
   "execution_count": 47,
   "id": "591aa9f4-f19c-4f81-9f85-60bd57909dc3",
   "metadata": {},
   "outputs": [
    {
     "name": "stdout",
     "output_type": "stream",
     "text": [
      "INFO | Detected reference period frequency Y-DEC\n",
      "WARNING | Error occurred when attempting to create period index using 'Y-' format. Trying legacy 'A-' format.\n"
     ]
    }
   ],
   "source": [
    "if(morpcCountyEstimates[\"REFERENCE_PERIOD_FREQ\"].unique().shape[0] == 1):\n",
    "    freq = morpcCountyEstimates[\"REFERENCE_PERIOD_FREQ\"].iat[0]\n",
    "    print(\"INFO | Detected reference period frequency {}\".format(freq))\n",
    "else:\n",
    "    print(\"ERROR | Multiple reference period frequencies are not supported.\")\n",
    "    raise RuntimeError\n",
    "\n",
    "try:\n",
    "    # Hopefully this works properly with newer versions of pandas, but it has not been tested\n",
    "    periodIndex = pd.PeriodIndex(morpcCountyEstimates[\"REFERENCE_PERIOD\"], freq=freq)\n",
    "except:\n",
    "    # This works with older versions of pandas.\n",
    "    print(\"WARNING | Error occurred when attempting to create period index using 'Y-' format. Trying legacy 'A-' format.\")\n",
    "    periodIndex = pd.PeriodIndex(morpcCountyEstimates[\"REFERENCE_PERIOD\"], freq=freq.replace(\"Y-\",\"A-\"))\n",
    "morpcCountyEstimates[\"DATE\"] = periodIndex.to_timestamp()"
   ]
  },
  {
   "cell_type": "markdown",
   "id": "9ee3210e-0072-4da5-b4df-028e32ccee5c",
   "metadata": {},
   "source": [
    "Show the data."
   ]
  },
  {
   "cell_type": "code",
   "execution_count": 48,
   "id": "8a6e602e-6a02-438c-979e-4733ab23fdb7",
   "metadata": {},
   "outputs": [
    {
     "data": {
      "text/html": [
       "<div>\n",
       "<style scoped>\n",
       "    .dataframe tbody tr th:only-of-type {\n",
       "        vertical-align: middle;\n",
       "    }\n",
       "\n",
       "    .dataframe tbody tr th {\n",
       "        vertical-align: top;\n",
       "    }\n",
       "\n",
       "    .dataframe thead th {\n",
       "        text-align: right;\n",
       "    }\n",
       "</style>\n",
       "<table border=\"1\" class=\"dataframe\">\n",
       "  <thead>\n",
       "    <tr style=\"text-align: right;\">\n",
       "      <th></th>\n",
       "      <th>POP</th>\n",
       "      <th>GEOIDFQ</th>\n",
       "      <th>REFERENCE_PERIOD</th>\n",
       "      <th>REFERENCE_PERIOD_FREQ</th>\n",
       "      <th>VINTAGE_PERIOD</th>\n",
       "      <th>VINTAGE_PERIOD_FREQ</th>\n",
       "      <th>VALUE_TYPE</th>\n",
       "      <th>CONF_LEVEL</th>\n",
       "      <th>CONF_LIMIT_UPPER</th>\n",
       "      <th>CONF_LIMIT_LOWER</th>\n",
       "      <th>SOURCE</th>\n",
       "      <th>GEO_TYPE</th>\n",
       "      <th>DATE</th>\n",
       "    </tr>\n",
       "  </thead>\n",
       "  <tbody>\n",
       "    <tr>\n",
       "      <th>54</th>\n",
       "      <td>234305</td>\n",
       "      <td>0500000US39041</td>\n",
       "      <td>2024</td>\n",
       "      <td>Y-DEC</td>\n",
       "      <td>2024</td>\n",
       "      <td>Y-DEC</td>\n",
       "      <td>ESTIMATE</td>\n",
       "      <td>NaN</td>\n",
       "      <td>&lt;NA&gt;</td>\n",
       "      <td>&lt;NA&gt;</td>\n",
       "      <td>MORPC</td>\n",
       "      <td>COUNTY</td>\n",
       "      <td>2024-01-01</td>\n",
       "    </tr>\n",
       "    <tr>\n",
       "      <th>115</th>\n",
       "      <td>166534</td>\n",
       "      <td>0500000US39045</td>\n",
       "      <td>2024</td>\n",
       "      <td>Y-DEC</td>\n",
       "      <td>2024</td>\n",
       "      <td>Y-DEC</td>\n",
       "      <td>ESTIMATE</td>\n",
       "      <td>NaN</td>\n",
       "      <td>&lt;NA&gt;</td>\n",
       "      <td>&lt;NA&gt;</td>\n",
       "      <td>MORPC</td>\n",
       "      <td>COUNTY</td>\n",
       "      <td>2024-01-01</td>\n",
       "    </tr>\n",
       "    <tr>\n",
       "      <th>176</th>\n",
       "      <td>28792</td>\n",
       "      <td>0500000US39047</td>\n",
       "      <td>2024</td>\n",
       "      <td>Y-DEC</td>\n",
       "      <td>2024</td>\n",
       "      <td>Y-DEC</td>\n",
       "      <td>ESTIMATE</td>\n",
       "      <td>NaN</td>\n",
       "      <td>&lt;NA&gt;</td>\n",
       "      <td>&lt;NA&gt;</td>\n",
       "      <td>MORPC</td>\n",
       "      <td>COUNTY</td>\n",
       "      <td>2024-01-01</td>\n",
       "    </tr>\n",
       "    <tr>\n",
       "      <th>237</th>\n",
       "      <td>1328013</td>\n",
       "      <td>0500000US39049</td>\n",
       "      <td>2024</td>\n",
       "      <td>Y-DEC</td>\n",
       "      <td>2024</td>\n",
       "      <td>Y-DEC</td>\n",
       "      <td>ESTIMATE</td>\n",
       "      <td>NaN</td>\n",
       "      <td>&lt;NA&gt;</td>\n",
       "      <td>&lt;NA&gt;</td>\n",
       "      <td>MORPC</td>\n",
       "      <td>COUNTY</td>\n",
       "      <td>2024-01-01</td>\n",
       "    </tr>\n",
       "    <tr>\n",
       "      <th>298</th>\n",
       "      <td>27505</td>\n",
       "      <td>0500000US39073</td>\n",
       "      <td>2024</td>\n",
       "      <td>Y-DEC</td>\n",
       "      <td>2024</td>\n",
       "      <td>Y-DEC</td>\n",
       "      <td>ESTIMATE</td>\n",
       "      <td>NaN</td>\n",
       "      <td>&lt;NA&gt;</td>\n",
       "      <td>&lt;NA&gt;</td>\n",
       "      <td>MORPC</td>\n",
       "      <td>COUNTY</td>\n",
       "      <td>2024-01-01</td>\n",
       "    </tr>\n",
       "  </tbody>\n",
       "</table>\n",
       "</div>"
      ],
      "text/plain": [
       "         POP         GEOIDFQ  REFERENCE_PERIOD REFERENCE_PERIOD_FREQ  \\\n",
       "54    234305  0500000US39041              2024                 Y-DEC   \n",
       "115   166534  0500000US39045              2024                 Y-DEC   \n",
       "176    28792  0500000US39047              2024                 Y-DEC   \n",
       "237  1328013  0500000US39049              2024                 Y-DEC   \n",
       "298    27505  0500000US39073              2024                 Y-DEC   \n",
       "\n",
       "     VINTAGE_PERIOD VINTAGE_PERIOD_FREQ VALUE_TYPE  CONF_LEVEL  \\\n",
       "54             2024               Y-DEC   ESTIMATE         NaN   \n",
       "115            2024               Y-DEC   ESTIMATE         NaN   \n",
       "176            2024               Y-DEC   ESTIMATE         NaN   \n",
       "237            2024               Y-DEC   ESTIMATE         NaN   \n",
       "298            2024               Y-DEC   ESTIMATE         NaN   \n",
       "\n",
       "     CONF_LIMIT_UPPER  CONF_LIMIT_LOWER SOURCE GEO_TYPE       DATE  \n",
       "54               <NA>              <NA>  MORPC   COUNTY 2024-01-01  \n",
       "115              <NA>              <NA>  MORPC   COUNTY 2024-01-01  \n",
       "176              <NA>              <NA>  MORPC   COUNTY 2024-01-01  \n",
       "237              <NA>              <NA>  MORPC   COUNTY 2024-01-01  \n",
       "298              <NA>              <NA>  MORPC   COUNTY 2024-01-01  "
      ]
     },
     "execution_count": 48,
     "metadata": {},
     "output_type": "execute_result"
    }
   ],
   "source": [
    "morpcCountyEstimates.head()"
   ]
  },
  {
   "cell_type": "code",
   "execution_count": 49,
   "id": "f84aca41-bf1d-4076-ac02-4b361a6b9a04",
   "metadata": {},
   "outputs": [],
   "source": [
    "extractedData.append(morpcCountyEstimates)"
   ]
  },
  {
   "cell_type": "markdown",
   "id": "bc9368cc-95a5-4441-a9a9-ecbb7200e251",
   "metadata": {},
   "source": [
    "### Extract MORPC sub-county estimates"
   ]
  },
  {
   "cell_type": "markdown",
   "id": "d6db1839-c5d1-451a-90ad-58f76fcc8ce3",
   "metadata": {},
   "source": [
    "Because county estimates and sub-county estimates are generated (and regenerated) at different times, it is necessary to process each separately."
   ]
  },
  {
   "cell_type": "markdown",
   "id": "58a93e15-4940-4f32-b980-3c7866757638",
   "metadata": {},
   "source": [
    "Create list of years from user-specified range."
   ]
  },
  {
   "cell_type": "code",
   "execution_count": 50,
   "id": "58befcae-3a1d-4ee4-ad01-9daf86d4310b",
   "metadata": {},
   "outputs": [
    {
     "name": "stdout",
     "output_type": "stream",
     "text": [
      "Including MORPC estimates for years: 2024\n"
     ]
    }
   ],
   "source": [
    "morpcEstimatesRange = list(range(MORPC_ESTIMATE_YEAR_RANGE[0], MORPC_ESTIMATE_YEAR_RANGE[1]+1))\n",
    "print(\"Including MORPC estimates for years: {}\".format(\", \".join([str(x) for x in morpcEstimatesRange])))"
   ]
  },
  {
   "cell_type": "markdown",
   "id": "171c0af9-cfb0-44ab-920c-7204213152c7",
   "metadata": {},
   "source": [
    "Extract MORPC county estimates from combined table."
   ]
  },
  {
   "cell_type": "code",
   "execution_count": 51,
   "id": "f78bbcb8-efdc-4b4b-a4fe-793c4e17b639",
   "metadata": {},
   "outputs": [],
   "source": [
    "morpcSubCountyEstimates = combinedPop.loc[\n",
    "    (combinedPop[\"SOURCE\"] == \"MORPC\") & \n",
    "    (combinedPop[\"VALUE_TYPE\"] == \"ESTIMATE\") &\n",
    "    (combinedPop[\"GEO_TYPE\"] != \"COUNTY\")\n",
    "].copy()"
   ]
  },
  {
   "cell_type": "markdown",
   "id": "dbca40cd-cd09-429b-96af-d4a474793ce9",
   "metadata": {},
   "source": [
    "Reference period and vintage period were stored as strings, but for MORPC estimates we can treat them as integers. Convert them now."
   ]
  },
  {
   "cell_type": "code",
   "execution_count": 52,
   "id": "8511f3af-e1de-4b80-85f5-b443b961e188",
   "metadata": {},
   "outputs": [],
   "source": [
    "morpcSubCountyEstimates = morpcSubCountyEstimates.astype({\n",
    "    \"REFERENCE_PERIOD\":\"int\",\n",
    "    \"VINTAGE_PERIOD\":\"int\"\n",
    "})"
   ]
  },
  {
   "cell_type": "markdown",
   "id": "db4d9d08-5d91-4502-9f11-c846dd2e6b5a",
   "metadata": {},
   "source": [
    "Verify that data is available for the specified years."
   ]
  },
  {
   "cell_type": "code",
   "execution_count": 53,
   "id": "066a6f81-01cc-43e5-88fd-f48297b2dc2d",
   "metadata": {},
   "outputs": [
    {
     "name": "stdout",
     "output_type": "stream",
     "text": [
      "INFO | MORPC sub-county estimates data is available for all years in specified range.\n"
     ]
    }
   ],
   "source": [
    "if(not set(morpcEstimatesRange).issubset(set(morpcSubCountyEstimates[\"REFERENCE_PERIOD\"]))):\n",
    "    print(\"ERROR | Set of MORPC estimate years for which data is available does not match set derived from specified range.\")\n",
    "    print(\"Specified range: {}\".format(MORPC_ESTIMATE_YEAR_RANGE))\n",
    "    print(\"Specified set: {}\".format(set(morpcEstimatesRange)))\n",
    "    print(\"Available set: {}\".format(set(morpcSubCountyEstimates[\"REFERENCE_PERIOD\"])))\n",
    "    raise RuntimeError\n",
    "else:\n",
    "    print(\"INFO | MORPC sub-county estimates data is available for all years in specified range.\")"
   ]
  },
  {
   "cell_type": "markdown",
   "id": "8a6300e2-f233-4bb5-83ec-a7a79d93921e",
   "metadata": {},
   "source": [
    "Extract only the estimates for the specified years."
   ]
  },
  {
   "cell_type": "code",
   "execution_count": 54,
   "id": "a17afe2c-f7e3-4d6b-b96a-e94f0ad8c3b1",
   "metadata": {},
   "outputs": [],
   "source": [
    "morpcSubCountyEstimates = morpc.extract_vintage(morpcSubCountyEstimates, refPeriods=morpcEstimatesRange)"
   ]
  },
  {
   "cell_type": "markdown",
   "id": "37438ea5-738f-48df-a077-238a9e41df7a",
   "metadata": {},
   "source": [
    "Verify that all reference periods are present and that there is only a single vintage for each reference period."
   ]
  },
  {
   "cell_type": "code",
   "execution_count": 55,
   "id": "62469fd1-5d5f-43e0-955e-6650f1902566",
   "metadata": {},
   "outputs": [
    {
     "name": "stdout",
     "output_type": "stream",
     "text": [
      "2024: 2024\n"
     ]
    }
   ],
   "source": [
    "for year in morpcSubCountyEstimates[\"REFERENCE_PERIOD\"].unique():\n",
    "    temp = morpcSubCountyEstimates.loc[morpcSubCountyEstimates[\"REFERENCE_PERIOD\"] == year]\n",
    "    print(\"{0}: {1}\".format(year, \",\".join(temp[\"VINTAGE_PERIOD\"].unique().astype(\"str\"))))"
   ]
  },
  {
   "cell_type": "markdown",
   "id": "bf640742-b83b-4601-9ba1-449a94fa9172",
   "metadata": {},
   "source": [
    "Construct DATE field from reference period and reference period frequency."
   ]
  },
  {
   "cell_type": "code",
   "execution_count": 56,
   "id": "b61f8beb-b3ec-4d42-939c-dd669a199a41",
   "metadata": {},
   "outputs": [
    {
     "name": "stdout",
     "output_type": "stream",
     "text": [
      "INFO | Detected reference period frequency Y-DEC\n",
      "WARNING | Error occurred when attempting to create period index using 'Y-' format. Trying legacy 'A-' format.\n"
     ]
    }
   ],
   "source": [
    "if(morpcSubCountyEstimates[\"REFERENCE_PERIOD_FREQ\"].unique().shape[0] == 1):\n",
    "    freq = morpcSubCountyEstimates[\"REFERENCE_PERIOD_FREQ\"].iat[0]\n",
    "    print(\"INFO | Detected reference period frequency {}\".format(freq))\n",
    "else:\n",
    "    print(\"ERROR | Multiple reference period frequencies are not supported.\")\n",
    "    raise RuntimeError\n",
    "\n",
    "try:\n",
    "    # Hopefully this works properly with newer versions of pandas, but it has not been tested\n",
    "    periodIndex = pd.PeriodIndex(morpcSubCountyEstimates[\"REFERENCE_PERIOD\"], freq=freq)\n",
    "except:\n",
    "    # This works with older versions of pandas.\n",
    "    print(\"WARNING | Error occurred when attempting to create period index using 'Y-' format. Trying legacy 'A-' format.\")\n",
    "    periodIndex = pd.PeriodIndex(morpcSubCountyEstimates[\"REFERENCE_PERIOD\"], freq=freq.replace(\"Y-\",\"A-\"))\n",
    "morpcSubCountyEstimates[\"DATE\"] = periodIndex.to_timestamp()"
   ]
  },
  {
   "cell_type": "markdown",
   "id": "5e6fd069-1fc5-4e47-be7d-9a9eae0cacc2",
   "metadata": {},
   "source": [
    "Show the data."
   ]
  },
  {
   "cell_type": "code",
   "execution_count": 57,
   "id": "0f311e13-035a-4e0a-b392-512f9ab1d79b",
   "metadata": {},
   "outputs": [
    {
     "data": {
      "text/html": [
       "<div>\n",
       "<style scoped>\n",
       "    .dataframe tbody tr th:only-of-type {\n",
       "        vertical-align: middle;\n",
       "    }\n",
       "\n",
       "    .dataframe tbody tr th {\n",
       "        vertical-align: top;\n",
       "    }\n",
       "\n",
       "    .dataframe thead th {\n",
       "        text-align: right;\n",
       "    }\n",
       "</style>\n",
       "<table border=\"1\" class=\"dataframe\">\n",
       "  <thead>\n",
       "    <tr style=\"text-align: right;\">\n",
       "      <th></th>\n",
       "      <th>POP</th>\n",
       "      <th>GEOIDFQ</th>\n",
       "      <th>REFERENCE_PERIOD</th>\n",
       "      <th>REFERENCE_PERIOD_FREQ</th>\n",
       "      <th>VINTAGE_PERIOD</th>\n",
       "      <th>VINTAGE_PERIOD_FREQ</th>\n",
       "      <th>VALUE_TYPE</th>\n",
       "      <th>CONF_LEVEL</th>\n",
       "      <th>CONF_LIMIT_UPPER</th>\n",
       "      <th>CONF_LIMIT_LOWER</th>\n",
       "      <th>SOURCE</th>\n",
       "      <th>GEO_TYPE</th>\n",
       "      <th>DATE</th>\n",
       "    </tr>\n",
       "  </thead>\n",
       "  <tbody>\n",
       "    <tr>\n",
       "      <th>13680</th>\n",
       "      <td>6367</td>\n",
       "      <td>0700000US390410577499999</td>\n",
       "      <td>2024</td>\n",
       "      <td>Y-DEC</td>\n",
       "      <td>2024</td>\n",
       "      <td>Y-DEC</td>\n",
       "      <td>ESTIMATE</td>\n",
       "      <td>NaN</td>\n",
       "      <td>&lt;NA&gt;</td>\n",
       "      <td>&lt;NA&gt;</td>\n",
       "      <td>MORPC</td>\n",
       "      <td>COUNTY-TOWNSHIP-REMAINDER</td>\n",
       "      <td>2024-01-01</td>\n",
       "    </tr>\n",
       "    <tr>\n",
       "      <th>13690</th>\n",
       "      <td>9414</td>\n",
       "      <td>0700000US390410578899999</td>\n",
       "      <td>2024</td>\n",
       "      <td>Y-DEC</td>\n",
       "      <td>2024</td>\n",
       "      <td>Y-DEC</td>\n",
       "      <td>ESTIMATE</td>\n",
       "      <td>NaN</td>\n",
       "      <td>&lt;NA&gt;</td>\n",
       "      <td>&lt;NA&gt;</td>\n",
       "      <td>MORPC</td>\n",
       "      <td>COUNTY-TOWNSHIP-REMAINDER</td>\n",
       "      <td>2024-01-01</td>\n",
       "    </tr>\n",
       "    <tr>\n",
       "      <th>13700</th>\n",
       "      <td>1467</td>\n",
       "      <td>0700000US390410942899999</td>\n",
       "      <td>2024</td>\n",
       "      <td>Y-DEC</td>\n",
       "      <td>2024</td>\n",
       "      <td>Y-DEC</td>\n",
       "      <td>ESTIMATE</td>\n",
       "      <td>NaN</td>\n",
       "      <td>&lt;NA&gt;</td>\n",
       "      <td>&lt;NA&gt;</td>\n",
       "      <td>MORPC</td>\n",
       "      <td>COUNTY-TOWNSHIP-REMAINDER</td>\n",
       "      <td>2024-01-01</td>\n",
       "    </tr>\n",
       "    <tr>\n",
       "      <th>13710</th>\n",
       "      <td>12489</td>\n",
       "      <td>0700000US390411814099999</td>\n",
       "      <td>2024</td>\n",
       "      <td>Y-DEC</td>\n",
       "      <td>2024</td>\n",
       "      <td>Y-DEC</td>\n",
       "      <td>ESTIMATE</td>\n",
       "      <td>NaN</td>\n",
       "      <td>&lt;NA&gt;</td>\n",
       "      <td>&lt;NA&gt;</td>\n",
       "      <td>MORPC</td>\n",
       "      <td>COUNTY-TOWNSHIP-REMAINDER</td>\n",
       "      <td>2024-01-01</td>\n",
       "    </tr>\n",
       "    <tr>\n",
       "      <th>13720</th>\n",
       "      <td>2225</td>\n",
       "      <td>0700000US390412144899999</td>\n",
       "      <td>2024</td>\n",
       "      <td>Y-DEC</td>\n",
       "      <td>2024</td>\n",
       "      <td>Y-DEC</td>\n",
       "      <td>ESTIMATE</td>\n",
       "      <td>NaN</td>\n",
       "      <td>&lt;NA&gt;</td>\n",
       "      <td>&lt;NA&gt;</td>\n",
       "      <td>MORPC</td>\n",
       "      <td>COUNTY-TOWNSHIP-REMAINDER</td>\n",
       "      <td>2024-01-01</td>\n",
       "    </tr>\n",
       "  </tbody>\n",
       "</table>\n",
       "</div>"
      ],
      "text/plain": [
       "         POP                   GEOIDFQ  REFERENCE_PERIOD  \\\n",
       "13680   6367  0700000US390410577499999              2024   \n",
       "13690   9414  0700000US390410578899999              2024   \n",
       "13700   1467  0700000US390410942899999              2024   \n",
       "13710  12489  0700000US390411814099999              2024   \n",
       "13720   2225  0700000US390412144899999              2024   \n",
       "\n",
       "      REFERENCE_PERIOD_FREQ  VINTAGE_PERIOD VINTAGE_PERIOD_FREQ VALUE_TYPE  \\\n",
       "13680                 Y-DEC            2024               Y-DEC   ESTIMATE   \n",
       "13690                 Y-DEC            2024               Y-DEC   ESTIMATE   \n",
       "13700                 Y-DEC            2024               Y-DEC   ESTIMATE   \n",
       "13710                 Y-DEC            2024               Y-DEC   ESTIMATE   \n",
       "13720                 Y-DEC            2024               Y-DEC   ESTIMATE   \n",
       "\n",
       "       CONF_LEVEL  CONF_LIMIT_UPPER  CONF_LIMIT_LOWER SOURCE  \\\n",
       "13680         NaN              <NA>              <NA>  MORPC   \n",
       "13690         NaN              <NA>              <NA>  MORPC   \n",
       "13700         NaN              <NA>              <NA>  MORPC   \n",
       "13710         NaN              <NA>              <NA>  MORPC   \n",
       "13720         NaN              <NA>              <NA>  MORPC   \n",
       "\n",
       "                        GEO_TYPE       DATE  \n",
       "13680  COUNTY-TOWNSHIP-REMAINDER 2024-01-01  \n",
       "13690  COUNTY-TOWNSHIP-REMAINDER 2024-01-01  \n",
       "13700  COUNTY-TOWNSHIP-REMAINDER 2024-01-01  \n",
       "13710  COUNTY-TOWNSHIP-REMAINDER 2024-01-01  \n",
       "13720  COUNTY-TOWNSHIP-REMAINDER 2024-01-01  "
      ]
     },
     "execution_count": 57,
     "metadata": {},
     "output_type": "execute_result"
    }
   ],
   "source": [
    "morpcSubCountyEstimates.head()"
   ]
  },
  {
   "cell_type": "code",
   "execution_count": 58,
   "id": "c820c7ae-479b-45d3-9536-d2927f3fbf7f",
   "metadata": {},
   "outputs": [],
   "source": [
    "extractedData.append(morpcSubCountyEstimates)"
   ]
  },
  {
   "cell_type": "markdown",
   "id": "676841d4-b8a0-499f-b3be-3b10c3df0165",
   "metadata": {},
   "source": [
    "### Extract MORPC forecasts"
   ]
  },
  {
   "cell_type": "markdown",
   "id": "a40c97aa-e754-4f0f-bc93-4594c9160d5e",
   "metadata": {},
   "source": [
    "Create list of years from user-specified range."
   ]
  },
  {
   "cell_type": "code",
   "execution_count": 59,
   "id": "66c4cb8e-b304-4411-ada5-e20d7a40a3de",
   "metadata": {},
   "outputs": [
    {
     "name": "stdout",
     "output_type": "stream",
     "text": [
      "Including MORPC forecasts for years: 2025, 2030, 2035, 2040, 2045, 2050\n"
     ]
    }
   ],
   "source": [
    "morpcForecastsRange = list(range(MORPC_FORECAST_YEAR_RANGE[0], MORPC_FORECAST_YEAR_RANGE[1]+1, MORPC_FORECAST_YEAR_INTERVAL))\n",
    "print(\"Including MORPC forecasts for years: {}\".format(\", \".join([str(x) for x in morpcForecastsRange])))"
   ]
  },
  {
   "cell_type": "markdown",
   "id": "1e6a0a53-fee2-4cb9-9160-f66919544122",
   "metadata": {},
   "source": [
    "Extract MORPC forecasts from combined table."
   ]
  },
  {
   "cell_type": "code",
   "execution_count": 60,
   "id": "e50575a5-771b-4d1c-bd9b-7c4851398586",
   "metadata": {},
   "outputs": [],
   "source": [
    "morpcForecasts = combinedPop.loc[(combinedPop[\"SOURCE\"] == \"MORPC\") & (combinedPop[\"VALUE_TYPE\"] == \"FORECAST\")].copy()"
   ]
  },
  {
   "cell_type": "markdown",
   "id": "61dbed50-a132-4d36-8cf3-0aba1ded94c3",
   "metadata": {},
   "source": [
    "Reference period and vintage period were stored as strings, but for MORPC forecasts we can treat them as integers. Convert them now."
   ]
  },
  {
   "cell_type": "code",
   "execution_count": 61,
   "id": "e0199fd4-9e9a-40eb-a51f-393a4efe8da0",
   "metadata": {},
   "outputs": [],
   "source": [
    "morpcForecasts = morpcForecasts.astype({\n",
    "    \"REFERENCE_PERIOD\":\"int\",\n",
    "    \"VINTAGE_PERIOD\":\"int\"\n",
    "})"
   ]
  },
  {
   "cell_type": "markdown",
   "id": "9b322323-2ec9-468c-9691-6b63975392bf",
   "metadata": {},
   "source": [
    "Verify that data is available for the specified years."
   ]
  },
  {
   "cell_type": "code",
   "execution_count": 62,
   "id": "12b08bca-45d0-4999-91f0-ac6e5b82be8f",
   "metadata": {},
   "outputs": [
    {
     "name": "stdout",
     "output_type": "stream",
     "text": [
      "INFO | MORPC forecasts data is available for all years in specified range.\n"
     ]
    }
   ],
   "source": [
    "if(not set(morpcForecastsRange).issubset(set(morpcForecasts[\"REFERENCE_PERIOD\"]))):\n",
    "    print(\"ERROR | Set of MORPC forecast years for which data is available does not match set derived from specified range.\")\n",
    "    print(\"Specified range: {}\".format(MORPC_FORECAST_YEAR_RANGE))\n",
    "    print(\"Specified set: {}\".format(set(morpcForecastsRange)))\n",
    "    print(\"Available set: {}\".format(set(morpcForecasts[\"REFERENCE_PERIOD\"])))\n",
    "    raise RuntimeError\n",
    "else:\n",
    "    print(\"INFO | MORPC forecasts data is available for all years in specified range.\")"
   ]
  },
  {
   "cell_type": "markdown",
   "id": "27cb31a2-e02b-4379-a56b-8c6d2ceedd86",
   "metadata": {},
   "source": [
    "Extract only the estimates for the specified years.  The forecasts for different geographies come from different sources, so it is necessary to extract the latest vintage separately for each geography type."
   ]
  },
  {
   "cell_type": "code",
   "execution_count": 63,
   "id": "ddf0d13e-f105-4cb6-b25e-609ebf12def9",
   "metadata": {},
   "outputs": [],
   "source": [
    "extractIndex = []\n",
    "for group in morpcForecasts[\"GEO_TYPE\"].unique():\n",
    "    temp = morpcForecasts.loc[morpcForecasts[\"GEO_TYPE\"] == group].copy()\n",
    "    temp = morpc.extract_vintage(temp, refPeriods=morpcForecastsRange)\n",
    "    extractIndex += list(temp.index)\n",
    "morpcForecasts = morpcForecasts.loc[extractIndex].copy()"
   ]
  },
  {
   "cell_type": "markdown",
   "id": "578f3bb5-c9e9-42b9-8cb3-f2c8eab68298",
   "metadata": {},
   "source": [
    "For each geography type, verify that all reference periods are present and that there is only a single vintage for each reference period."
   ]
  },
  {
   "cell_type": "code",
   "execution_count": 64,
   "id": "616b8131-53b7-4c34-b003-63068bdf79b2",
   "metadata": {},
   "outputs": [
    {
     "name": "stdout",
     "output_type": "stream",
     "text": [
      "COUNTY\n",
      "2025: 2023\n",
      "2030: 2023\n",
      "2035: 2023\n",
      "2040: 2023\n",
      "2045: 2023\n",
      "2050: 2023\n",
      "COUNTY-TOWNSHIP-REMAINDER\n",
      "2025: 2024\n",
      "2030: 2024\n",
      "2035: 2024\n",
      "2040: 2024\n",
      "2045: 2024\n",
      "2050: 2024\n",
      "PLACE\n",
      "2025: 2024\n",
      "2030: 2024\n",
      "2035: 2024\n",
      "2040: 2024\n",
      "2045: 2024\n",
      "2050: 2024\n"
     ]
    }
   ],
   "source": [
    "for group in morpcForecasts[\"GEO_TYPE\"].unique():\n",
    "    print(group)\n",
    "    for year in morpcForecasts[\"REFERENCE_PERIOD\"].unique():\n",
    "        temp = morpcForecasts.loc[(morpcForecasts[\"REFERENCE_PERIOD\"] == year) & (morpcForecasts[\"GEO_TYPE\"] == group)]\n",
    "        print(\"{0}: {1}\".format(year, \",\".join(temp[\"VINTAGE_PERIOD\"].unique().astype(\"str\"))))"
   ]
  },
  {
   "cell_type": "markdown",
   "id": "0c59aa7e-d1e7-4a9b-aa0d-6a578f911b4a",
   "metadata": {},
   "source": [
    "Construct DATE field from reference period and reference period frequency."
   ]
  },
  {
   "cell_type": "code",
   "execution_count": 65,
   "id": "5fb17065-f3fa-4c67-b9bc-45e5b564ce42",
   "metadata": {},
   "outputs": [
    {
     "name": "stdout",
     "output_type": "stream",
     "text": [
      "INFO | Detected reference period frequency Y-JUN\n",
      "WARNING | Error occurred when attempting to create period index using 'Y-' format. Trying legacy 'A-' format.\n"
     ]
    }
   ],
   "source": [
    "if(morpcForecasts[\"REFERENCE_PERIOD_FREQ\"].unique().shape[0] == 1):\n",
    "    freq = morpcForecasts[\"REFERENCE_PERIOD_FREQ\"].iat[0]\n",
    "    print(\"INFO | Detected reference period frequency {}\".format(freq))\n",
    "else:\n",
    "    print(\"ERROR | Multiple reference period frequencies are not supported.\")\n",
    "    raise RuntimeError\n",
    "\n",
    "try:\n",
    "    # Hopefully this works properly with newer versions of pandas, but it has not been tested\n",
    "    periodIndex = pd.PeriodIndex(morpcForecasts[\"REFERENCE_PERIOD\"]+1, freq=freq)\n",
    "except:\n",
    "    # This works with older versions of pandas. Note the +1 offset. For whatever reason, pandas converts 2000 Y-JUN (for example)\n",
    "    # to a timestamp of 1999-07-01 so we add one year to the reference period so the timestamp becomes 2000-07-01.\n",
    "    print(\"WARNING | Error occurred when attempting to create period index using 'Y-' format. Trying legacy 'A-' format.\")\n",
    "    periodIndex = pd.PeriodIndex(morpcForecasts[\"REFERENCE_PERIOD\"]+1, freq=freq.replace(\"Y-\",\"A-\"))\n",
    "morpcForecasts[\"DATE\"] = periodIndex.to_timestamp()"
   ]
  },
  {
   "cell_type": "markdown",
   "id": "e8bf5c08-c776-4eab-9042-2f1612911b8c",
   "metadata": {},
   "source": [
    "Show the data."
   ]
  },
  {
   "cell_type": "code",
   "execution_count": 66,
   "id": "67d2c497-00ca-452c-a0b6-bdff1558c562",
   "metadata": {},
   "outputs": [
    {
     "data": {
      "text/html": [
       "<div>\n",
       "<style scoped>\n",
       "    .dataframe tbody tr th:only-of-type {\n",
       "        vertical-align: middle;\n",
       "    }\n",
       "\n",
       "    .dataframe tbody tr th {\n",
       "        vertical-align: top;\n",
       "    }\n",
       "\n",
       "    .dataframe thead th {\n",
       "        text-align: right;\n",
       "    }\n",
       "</style>\n",
       "<table border=\"1\" class=\"dataframe\">\n",
       "  <thead>\n",
       "    <tr style=\"text-align: right;\">\n",
       "      <th></th>\n",
       "      <th>POP</th>\n",
       "      <th>GEOIDFQ</th>\n",
       "      <th>REFERENCE_PERIOD</th>\n",
       "      <th>REFERENCE_PERIOD_FREQ</th>\n",
       "      <th>VINTAGE_PERIOD</th>\n",
       "      <th>VINTAGE_PERIOD_FREQ</th>\n",
       "      <th>VALUE_TYPE</th>\n",
       "      <th>CONF_LEVEL</th>\n",
       "      <th>CONF_LIMIT_UPPER</th>\n",
       "      <th>CONF_LIMIT_LOWER</th>\n",
       "      <th>SOURCE</th>\n",
       "      <th>GEO_TYPE</th>\n",
       "      <th>DATE</th>\n",
       "    </tr>\n",
       "  </thead>\n",
       "  <tbody>\n",
       "    <tr>\n",
       "      <th>55</th>\n",
       "      <td>247016</td>\n",
       "      <td>0500000US39041</td>\n",
       "      <td>2025</td>\n",
       "      <td>Y-JUN</td>\n",
       "      <td>2023</td>\n",
       "      <td>&lt;NA&gt;</td>\n",
       "      <td>FORECAST</td>\n",
       "      <td>0.8</td>\n",
       "      <td>248441</td>\n",
       "      <td>238464</td>\n",
       "      <td>MORPC</td>\n",
       "      <td>COUNTY</td>\n",
       "      <td>2025-07-01</td>\n",
       "    </tr>\n",
       "    <tr>\n",
       "      <th>116</th>\n",
       "      <td>169183</td>\n",
       "      <td>0500000US39045</td>\n",
       "      <td>2025</td>\n",
       "      <td>Y-JUN</td>\n",
       "      <td>2023</td>\n",
       "      <td>&lt;NA&gt;</td>\n",
       "      <td>FORECAST</td>\n",
       "      <td>0.8</td>\n",
       "      <td>171704</td>\n",
       "      <td>163990</td>\n",
       "      <td>MORPC</td>\n",
       "      <td>COUNTY</td>\n",
       "      <td>2025-07-01</td>\n",
       "    </tr>\n",
       "    <tr>\n",
       "      <th>177</th>\n",
       "      <td>29419</td>\n",
       "      <td>0500000US39047</td>\n",
       "      <td>2025</td>\n",
       "      <td>Y-JUN</td>\n",
       "      <td>2023</td>\n",
       "      <td>&lt;NA&gt;</td>\n",
       "      <td>FORECAST</td>\n",
       "      <td>0.8</td>\n",
       "      <td>29855</td>\n",
       "      <td>28912</td>\n",
       "      <td>MORPC</td>\n",
       "      <td>COUNTY</td>\n",
       "      <td>2025-07-01</td>\n",
       "    </tr>\n",
       "    <tr>\n",
       "      <th>238</th>\n",
       "      <td>1390127</td>\n",
       "      <td>0500000US39049</td>\n",
       "      <td>2025</td>\n",
       "      <td>Y-JUN</td>\n",
       "      <td>2023</td>\n",
       "      <td>&lt;NA&gt;</td>\n",
       "      <td>FORECAST</td>\n",
       "      <td>0.8</td>\n",
       "      <td>1409654</td>\n",
       "      <td>1333445</td>\n",
       "      <td>MORPC</td>\n",
       "      <td>COUNTY</td>\n",
       "      <td>2025-07-01</td>\n",
       "    </tr>\n",
       "    <tr>\n",
       "      <th>299</th>\n",
       "      <td>27965</td>\n",
       "      <td>0500000US39073</td>\n",
       "      <td>2025</td>\n",
       "      <td>Y-JUN</td>\n",
       "      <td>2023</td>\n",
       "      <td>&lt;NA&gt;</td>\n",
       "      <td>FORECAST</td>\n",
       "      <td>0.8</td>\n",
       "      <td>28660</td>\n",
       "      <td>27122</td>\n",
       "      <td>MORPC</td>\n",
       "      <td>COUNTY</td>\n",
       "      <td>2025-07-01</td>\n",
       "    </tr>\n",
       "  </tbody>\n",
       "</table>\n",
       "</div>"
      ],
      "text/plain": [
       "         POP         GEOIDFQ  REFERENCE_PERIOD REFERENCE_PERIOD_FREQ  \\\n",
       "55    247016  0500000US39041              2025                 Y-JUN   \n",
       "116   169183  0500000US39045              2025                 Y-JUN   \n",
       "177    29419  0500000US39047              2025                 Y-JUN   \n",
       "238  1390127  0500000US39049              2025                 Y-JUN   \n",
       "299    27965  0500000US39073              2025                 Y-JUN   \n",
       "\n",
       "     VINTAGE_PERIOD VINTAGE_PERIOD_FREQ VALUE_TYPE  CONF_LEVEL  \\\n",
       "55             2023                <NA>   FORECAST         0.8   \n",
       "116            2023                <NA>   FORECAST         0.8   \n",
       "177            2023                <NA>   FORECAST         0.8   \n",
       "238            2023                <NA>   FORECAST         0.8   \n",
       "299            2023                <NA>   FORECAST         0.8   \n",
       "\n",
       "     CONF_LIMIT_UPPER  CONF_LIMIT_LOWER SOURCE GEO_TYPE       DATE  \n",
       "55             248441            238464  MORPC   COUNTY 2025-07-01  \n",
       "116            171704            163990  MORPC   COUNTY 2025-07-01  \n",
       "177             29855             28912  MORPC   COUNTY 2025-07-01  \n",
       "238           1409654           1333445  MORPC   COUNTY 2025-07-01  \n",
       "299             28660             27122  MORPC   COUNTY 2025-07-01  "
      ]
     },
     "execution_count": 66,
     "metadata": {},
     "output_type": "execute_result"
    }
   ],
   "source": [
    "morpcForecasts.head()"
   ]
  },
  {
   "cell_type": "code",
   "execution_count": 67,
   "id": "ebc7ec01-d5e0-48b9-a1b6-72eb46a13180",
   "metadata": {},
   "outputs": [],
   "source": [
    "extractedData.append(morpcForecasts)"
   ]
  },
  {
   "cell_type": "markdown",
   "id": "3bda147f-d58c-4e18-b422-03168036959e",
   "metadata": {},
   "source": [
    "### Combine extracted data"
   ]
  },
  {
   "cell_type": "code",
   "execution_count": 68,
   "id": "28d91aec-cd58-465d-8f10-ba44de05d9de",
   "metadata": {},
   "outputs": [],
   "source": [
    "combinedData = pd.concat(extractedData, axis=\"index\")"
   ]
  },
  {
   "cell_type": "code",
   "execution_count": 69,
   "id": "83f425b6-bf82-4dc1-987c-003d74672313",
   "metadata": {
    "scrolled": true
   },
   "outputs": [
    {
     "data": {
      "text/html": [
       "<div>\n",
       "<style scoped>\n",
       "    .dataframe tbody tr th:only-of-type {\n",
       "        vertical-align: middle;\n",
       "    }\n",
       "\n",
       "    .dataframe tbody tr th {\n",
       "        vertical-align: top;\n",
       "    }\n",
       "\n",
       "    .dataframe thead th {\n",
       "        text-align: right;\n",
       "    }\n",
       "</style>\n",
       "<table border=\"1\" class=\"dataframe\">\n",
       "  <thead>\n",
       "    <tr style=\"text-align: right;\">\n",
       "      <th></th>\n",
       "      <th>POP</th>\n",
       "      <th>GEOIDFQ</th>\n",
       "      <th>REFERENCE_PERIOD</th>\n",
       "      <th>REFERENCE_PERIOD_FREQ</th>\n",
       "      <th>VINTAGE_PERIOD</th>\n",
       "      <th>VINTAGE_PERIOD_FREQ</th>\n",
       "      <th>VALUE_TYPE</th>\n",
       "      <th>CONF_LEVEL</th>\n",
       "      <th>CONF_LIMIT_UPPER</th>\n",
       "      <th>CONF_LIMIT_LOWER</th>\n",
       "      <th>SOURCE</th>\n",
       "      <th>GEO_TYPE</th>\n",
       "      <th>DATE</th>\n",
       "    </tr>\n",
       "  </thead>\n",
       "  <tbody>\n",
       "    <tr>\n",
       "      <th>1</th>\n",
       "      <td>111759</td>\n",
       "      <td>0500000US39041</td>\n",
       "      <td>2000</td>\n",
       "      <td>Y-JUN</td>\n",
       "      <td>2012</td>\n",
       "      <td>&lt;NA&gt;</td>\n",
       "      <td>ESTIMATE</td>\n",
       "      <td>NaN</td>\n",
       "      <td>&lt;NA&gt;</td>\n",
       "      <td>&lt;NA&gt;</td>\n",
       "      <td>CENINT</td>\n",
       "      <td>COUNTY</td>\n",
       "      <td>2000-07-01</td>\n",
       "    </tr>\n",
       "    <tr>\n",
       "      <th>62</th>\n",
       "      <td>123485</td>\n",
       "      <td>0500000US39045</td>\n",
       "      <td>2000</td>\n",
       "      <td>Y-JUN</td>\n",
       "      <td>2012</td>\n",
       "      <td>&lt;NA&gt;</td>\n",
       "      <td>ESTIMATE</td>\n",
       "      <td>NaN</td>\n",
       "      <td>&lt;NA&gt;</td>\n",
       "      <td>&lt;NA&gt;</td>\n",
       "      <td>CENINT</td>\n",
       "      <td>COUNTY</td>\n",
       "      <td>2000-07-01</td>\n",
       "    </tr>\n",
       "    <tr>\n",
       "      <th>123</th>\n",
       "      <td>28495</td>\n",
       "      <td>0500000US39047</td>\n",
       "      <td>2000</td>\n",
       "      <td>Y-JUN</td>\n",
       "      <td>2012</td>\n",
       "      <td>&lt;NA&gt;</td>\n",
       "      <td>ESTIMATE</td>\n",
       "      <td>NaN</td>\n",
       "      <td>&lt;NA&gt;</td>\n",
       "      <td>&lt;NA&gt;</td>\n",
       "      <td>CENINT</td>\n",
       "      <td>COUNTY</td>\n",
       "      <td>2000-07-01</td>\n",
       "    </tr>\n",
       "    <tr>\n",
       "      <th>184</th>\n",
       "      <td>1072018</td>\n",
       "      <td>0500000US39049</td>\n",
       "      <td>2000</td>\n",
       "      <td>Y-JUN</td>\n",
       "      <td>2012</td>\n",
       "      <td>&lt;NA&gt;</td>\n",
       "      <td>ESTIMATE</td>\n",
       "      <td>NaN</td>\n",
       "      <td>&lt;NA&gt;</td>\n",
       "      <td>&lt;NA&gt;</td>\n",
       "      <td>CENINT</td>\n",
       "      <td>COUNTY</td>\n",
       "      <td>2000-07-01</td>\n",
       "    </tr>\n",
       "    <tr>\n",
       "      <th>245</th>\n",
       "      <td>28262</td>\n",
       "      <td>0500000US39073</td>\n",
       "      <td>2000</td>\n",
       "      <td>Y-JUN</td>\n",
       "      <td>2012</td>\n",
       "      <td>&lt;NA&gt;</td>\n",
       "      <td>ESTIMATE</td>\n",
       "      <td>NaN</td>\n",
       "      <td>&lt;NA&gt;</td>\n",
       "      <td>&lt;NA&gt;</td>\n",
       "      <td>CENINT</td>\n",
       "      <td>COUNTY</td>\n",
       "      <td>2000-07-01</td>\n",
       "    </tr>\n",
       "    <tr>\n",
       "      <th>...</th>\n",
       "      <td>...</td>\n",
       "      <td>...</td>\n",
       "      <td>...</td>\n",
       "      <td>...</td>\n",
       "      <td>...</td>\n",
       "      <td>...</td>\n",
       "      <td>...</td>\n",
       "      <td>...</td>\n",
       "      <td>...</td>\n",
       "      <td>...</td>\n",
       "      <td>...</td>\n",
       "      <td>...</td>\n",
       "      <td>...</td>\n",
       "    </tr>\n",
       "    <tr>\n",
       "      <th>30534</th>\n",
       "      <td>5338</td>\n",
       "      <td>1600000US3983580</td>\n",
       "      <td>2050</td>\n",
       "      <td>Y-JUN</td>\n",
       "      <td>2024</td>\n",
       "      <td>&lt;NA&gt;</td>\n",
       "      <td>FORECAST</td>\n",
       "      <td>NaN</td>\n",
       "      <td>&lt;NA&gt;</td>\n",
       "      <td>&lt;NA&gt;</td>\n",
       "      <td>MORPC</td>\n",
       "      <td>PLACE</td>\n",
       "      <td>2050-07-01</td>\n",
       "    </tr>\n",
       "    <tr>\n",
       "      <th>30684</th>\n",
       "      <td>210</td>\n",
       "      <td>1600000US3984182</td>\n",
       "      <td>2050</td>\n",
       "      <td>Y-JUN</td>\n",
       "      <td>2024</td>\n",
       "      <td>&lt;NA&gt;</td>\n",
       "      <td>FORECAST</td>\n",
       "      <td>NaN</td>\n",
       "      <td>&lt;NA&gt;</td>\n",
       "      <td>&lt;NA&gt;</td>\n",
       "      <td>MORPC</td>\n",
       "      <td>PLACE</td>\n",
       "      <td>2050-07-01</td>\n",
       "    </tr>\n",
       "    <tr>\n",
       "      <th>30738</th>\n",
       "      <td>23060</td>\n",
       "      <td>1600000US3984742</td>\n",
       "      <td>2050</td>\n",
       "      <td>Y-JUN</td>\n",
       "      <td>2024</td>\n",
       "      <td>&lt;NA&gt;</td>\n",
       "      <td>FORECAST</td>\n",
       "      <td>NaN</td>\n",
       "      <td>&lt;NA&gt;</td>\n",
       "      <td>&lt;NA&gt;</td>\n",
       "      <td>MORPC</td>\n",
       "      <td>PLACE</td>\n",
       "      <td>2050-07-01</td>\n",
       "    </tr>\n",
       "    <tr>\n",
       "      <th>30792</th>\n",
       "      <td>1032</td>\n",
       "      <td>1600000US3985414</td>\n",
       "      <td>2050</td>\n",
       "      <td>Y-JUN</td>\n",
       "      <td>2024</td>\n",
       "      <td>&lt;NA&gt;</td>\n",
       "      <td>FORECAST</td>\n",
       "      <td>NaN</td>\n",
       "      <td>&lt;NA&gt;</td>\n",
       "      <td>&lt;NA&gt;</td>\n",
       "      <td>MORPC</td>\n",
       "      <td>PLACE</td>\n",
       "      <td>2050-07-01</td>\n",
       "    </tr>\n",
       "    <tr>\n",
       "      <th>30846</th>\n",
       "      <td>15551</td>\n",
       "      <td>1600000US3986604</td>\n",
       "      <td>2050</td>\n",
       "      <td>Y-JUN</td>\n",
       "      <td>2024</td>\n",
       "      <td>&lt;NA&gt;</td>\n",
       "      <td>FORECAST</td>\n",
       "      <td>NaN</td>\n",
       "      <td>&lt;NA&gt;</td>\n",
       "      <td>&lt;NA&gt;</td>\n",
       "      <td>MORPC</td>\n",
       "      <td>PLACE</td>\n",
       "      <td>2050-07-01</td>\n",
       "    </tr>\n",
       "  </tbody>\n",
       "</table>\n",
       "<p>5965 rows × 13 columns</p>\n",
       "</div>"
      ],
      "text/plain": [
       "           POP           GEOIDFQ  REFERENCE_PERIOD REFERENCE_PERIOD_FREQ  \\\n",
       "1       111759    0500000US39041              2000                 Y-JUN   \n",
       "62      123485    0500000US39045              2000                 Y-JUN   \n",
       "123      28495    0500000US39047              2000                 Y-JUN   \n",
       "184    1072018    0500000US39049              2000                 Y-JUN   \n",
       "245      28262    0500000US39073              2000                 Y-JUN   \n",
       "...        ...               ...               ...                   ...   \n",
       "30534     5338  1600000US3983580              2050                 Y-JUN   \n",
       "30684      210  1600000US3984182              2050                 Y-JUN   \n",
       "30738    23060  1600000US3984742              2050                 Y-JUN   \n",
       "30792     1032  1600000US3985414              2050                 Y-JUN   \n",
       "30846    15551  1600000US3986604              2050                 Y-JUN   \n",
       "\n",
       "       VINTAGE_PERIOD VINTAGE_PERIOD_FREQ VALUE_TYPE  CONF_LEVEL  \\\n",
       "1                2012                <NA>   ESTIMATE         NaN   \n",
       "62               2012                <NA>   ESTIMATE         NaN   \n",
       "123              2012                <NA>   ESTIMATE         NaN   \n",
       "184              2012                <NA>   ESTIMATE         NaN   \n",
       "245              2012                <NA>   ESTIMATE         NaN   \n",
       "...               ...                 ...        ...         ...   \n",
       "30534            2024                <NA>   FORECAST         NaN   \n",
       "30684            2024                <NA>   FORECAST         NaN   \n",
       "30738            2024                <NA>   FORECAST         NaN   \n",
       "30792            2024                <NA>   FORECAST         NaN   \n",
       "30846            2024                <NA>   FORECAST         NaN   \n",
       "\n",
       "       CONF_LIMIT_UPPER  CONF_LIMIT_LOWER  SOURCE GEO_TYPE       DATE  \n",
       "1                  <NA>              <NA>  CENINT   COUNTY 2000-07-01  \n",
       "62                 <NA>              <NA>  CENINT   COUNTY 2000-07-01  \n",
       "123                <NA>              <NA>  CENINT   COUNTY 2000-07-01  \n",
       "184                <NA>              <NA>  CENINT   COUNTY 2000-07-01  \n",
       "245                <NA>              <NA>  CENINT   COUNTY 2000-07-01  \n",
       "...                 ...               ...     ...      ...        ...  \n",
       "30534              <NA>              <NA>   MORPC    PLACE 2050-07-01  \n",
       "30684              <NA>              <NA>   MORPC    PLACE 2050-07-01  \n",
       "30738              <NA>              <NA>   MORPC    PLACE 2050-07-01  \n",
       "30792              <NA>              <NA>   MORPC    PLACE 2050-07-01  \n",
       "30846              <NA>              <NA>   MORPC    PLACE 2050-07-01  \n",
       "\n",
       "[5965 rows x 13 columns]"
      ]
     },
     "execution_count": 69,
     "metadata": {},
     "output_type": "execute_result"
    }
   ],
   "source": [
    "combinedData"
   ]
  },
  {
   "cell_type": "markdown",
   "id": "14bf139e-6f98-40f0-b8ae-4062705f1791",
   "metadata": {},
   "source": [
    "### Compute totals for 15-county region"
   ]
  },
  {
   "cell_type": "code",
   "execution_count": 70,
   "id": "5ea42a00-995d-46ff-a936-366b47cde4c4",
   "metadata": {},
   "outputs": [
    {
     "data": {
      "text/html": [
       "<div>\n",
       "<style scoped>\n",
       "    .dataframe tbody tr th:only-of-type {\n",
       "        vertical-align: middle;\n",
       "    }\n",
       "\n",
       "    .dataframe tbody tr th {\n",
       "        vertical-align: top;\n",
       "    }\n",
       "\n",
       "    .dataframe thead th {\n",
       "        text-align: right;\n",
       "    }\n",
       "</style>\n",
       "<table border=\"1\" class=\"dataframe\">\n",
       "  <thead>\n",
       "    <tr style=\"text-align: right;\">\n",
       "      <th></th>\n",
       "      <th>REFERENCE_PERIOD</th>\n",
       "      <th>DATE</th>\n",
       "      <th>POP</th>\n",
       "      <th>REFERENCE_PERIOD_FREQ</th>\n",
       "      <th>VINTAGE_PERIOD</th>\n",
       "      <th>VINTAGE_PERIOD_FREQ</th>\n",
       "      <th>VALUE_TYPE</th>\n",
       "      <th>CONF_LIMIT_UPPER</th>\n",
       "      <th>CONF_LIMIT_LOWER</th>\n",
       "      <th>GEOIDFQ</th>\n",
       "      <th>GEO_TYPE</th>\n",
       "      <th>SOURCE</th>\n",
       "      <th>CONF_LEVEL</th>\n",
       "    </tr>\n",
       "  </thead>\n",
       "  <tbody>\n",
       "    <tr>\n",
       "      <th>0</th>\n",
       "      <td>2000</td>\n",
       "      <td>2000-07-01</td>\n",
       "      <td>1950805</td>\n",
       "      <td>Y-JUN</td>\n",
       "      <td>2012</td>\n",
       "      <td>&lt;NA&gt;</td>\n",
       "      <td>ESTIMATE</td>\n",
       "      <td>&lt;NA&gt;</td>\n",
       "      <td>&lt;NA&gt;</td>\n",
       "      <td>M010000US001</td>\n",
       "      <td>REGION15</td>\n",
       "      <td>MORPC</td>\n",
       "      <td>NaN</td>\n",
       "    </tr>\n",
       "    <tr>\n",
       "      <th>1</th>\n",
       "      <td>2001</td>\n",
       "      <td>2001-07-01</td>\n",
       "      <td>1976410</td>\n",
       "      <td>Y-JUN</td>\n",
       "      <td>2012</td>\n",
       "      <td>&lt;NA&gt;</td>\n",
       "      <td>ESTIMATE</td>\n",
       "      <td>&lt;NA&gt;</td>\n",
       "      <td>&lt;NA&gt;</td>\n",
       "      <td>M010000US001</td>\n",
       "      <td>REGION15</td>\n",
       "      <td>MORPC</td>\n",
       "      <td>NaN</td>\n",
       "    </tr>\n",
       "    <tr>\n",
       "      <th>2</th>\n",
       "      <td>2002</td>\n",
       "      <td>2002-07-01</td>\n",
       "      <td>1997739</td>\n",
       "      <td>Y-JUN</td>\n",
       "      <td>2012</td>\n",
       "      <td>&lt;NA&gt;</td>\n",
       "      <td>ESTIMATE</td>\n",
       "      <td>&lt;NA&gt;</td>\n",
       "      <td>&lt;NA&gt;</td>\n",
       "      <td>M010000US001</td>\n",
       "      <td>REGION15</td>\n",
       "      <td>MORPC</td>\n",
       "      <td>NaN</td>\n",
       "    </tr>\n",
       "    <tr>\n",
       "      <th>3</th>\n",
       "      <td>2003</td>\n",
       "      <td>2003-07-01</td>\n",
       "      <td>2022581</td>\n",
       "      <td>Y-JUN</td>\n",
       "      <td>2012</td>\n",
       "      <td>&lt;NA&gt;</td>\n",
       "      <td>ESTIMATE</td>\n",
       "      <td>&lt;NA&gt;</td>\n",
       "      <td>&lt;NA&gt;</td>\n",
       "      <td>M010000US001</td>\n",
       "      <td>REGION15</td>\n",
       "      <td>MORPC</td>\n",
       "      <td>NaN</td>\n",
       "    </tr>\n",
       "    <tr>\n",
       "      <th>4</th>\n",
       "      <td>2004</td>\n",
       "      <td>2004-07-01</td>\n",
       "      <td>2043896</td>\n",
       "      <td>Y-JUN</td>\n",
       "      <td>2012</td>\n",
       "      <td>&lt;NA&gt;</td>\n",
       "      <td>ESTIMATE</td>\n",
       "      <td>&lt;NA&gt;</td>\n",
       "      <td>&lt;NA&gt;</td>\n",
       "      <td>M010000US001</td>\n",
       "      <td>REGION15</td>\n",
       "      <td>MORPC</td>\n",
       "      <td>NaN</td>\n",
       "    </tr>\n",
       "  </tbody>\n",
       "</table>\n",
       "</div>"
      ],
      "text/plain": [
       "   REFERENCE_PERIOD       DATE      POP REFERENCE_PERIOD_FREQ  VINTAGE_PERIOD  \\\n",
       "0              2000 2000-07-01  1950805                 Y-JUN            2012   \n",
       "1              2001 2001-07-01  1976410                 Y-JUN            2012   \n",
       "2              2002 2002-07-01  1997739                 Y-JUN            2012   \n",
       "3              2003 2003-07-01  2022581                 Y-JUN            2012   \n",
       "4              2004 2004-07-01  2043896                 Y-JUN            2012   \n",
       "\n",
       "  VINTAGE_PERIOD_FREQ VALUE_TYPE  CONF_LIMIT_UPPER  CONF_LIMIT_LOWER  \\\n",
       "0                <NA>   ESTIMATE              <NA>              <NA>   \n",
       "1                <NA>   ESTIMATE              <NA>              <NA>   \n",
       "2                <NA>   ESTIMATE              <NA>              <NA>   \n",
       "3                <NA>   ESTIMATE              <NA>              <NA>   \n",
       "4                <NA>   ESTIMATE              <NA>              <NA>   \n",
       "\n",
       "        GEOIDFQ  GEO_TYPE SOURCE  CONF_LEVEL  \n",
       "0  M010000US001  REGION15  MORPC         NaN  \n",
       "1  M010000US001  REGION15  MORPC         NaN  \n",
       "2  M010000US001  REGION15  MORPC         NaN  \n",
       "3  M010000US001  REGION15  MORPC         NaN  \n",
       "4  M010000US001  REGION15  MORPC         NaN  "
      ]
     },
     "execution_count": 70,
     "metadata": {},
     "output_type": "execute_result"
    }
   ],
   "source": [
    "regionTotals = combinedData.copy()\n",
    "regionTotals[\"SUMLEVEL\"] = regionTotals[\"GEOIDFQ\"].apply(lambda x:x[0:3])\n",
    "regionTotals = regionTotals.loc[regionTotals[\"SUMLEVEL\"] == morpc.SUMLEVEL_LOOKUP[\"COUNTY\"]].copy().drop(columns=\"SUMLEVEL\")\n",
    "regionTotals = regionTotals.drop(columns=[\"GEOIDFQ\",\"GEO_TYPE\",\"SOURCE\",\"CONF_LEVEL\"]).groupby([\"REFERENCE_PERIOD\",\"DATE\"]).agg({\n",
    "    \"POP\":\"sum\",\n",
    "    \"REFERENCE_PERIOD_FREQ\":\"first\",\n",
    "    \"VINTAGE_PERIOD\":\"first\",\n",
    "    \"VINTAGE_PERIOD_FREQ\":\"first\",\n",
    "    \"VALUE_TYPE\":\"first\",\n",
    "    \"CONF_LIMIT_UPPER\":\"sum\",\n",
    "    \"CONF_LIMIT_LOWER\":\"sum\"\n",
    "}).reset_index()\n",
    "regionTotals[\"GEOIDFQ\"] = \"M010000US001\"\n",
    "regionTotals[\"GEO_TYPE\"] = morpc.HIERARCHY_STRING_LOOKUP[\"M01\"]\n",
    "regionTotals[\"SOURCE\"] = \"MORPC\"\n",
    "regionTotals.loc[regionTotals[\"VALUE_TYPE\"] == \"ESTIMATE\", [\"CONF_LIMIT_UPPER\",\"CONF_LIMIT_LOWER\"]] = None\n",
    "regionTotals[\"CONF_LEVEL\"] = None\n",
    "regionTotals[\"CONF_LEVEL\"] = regionTotals[\"CONF_LEVEL\"].astype(\"float\")\n",
    "regionTotals.head()"
   ]
  },
  {
   "cell_type": "code",
   "execution_count": 71,
   "id": "b7b82ebe-90d0-43b9-99ca-9b16e49eb8f7",
   "metadata": {},
   "outputs": [],
   "source": [
    "combinedData = pd.concat([combinedData, regionTotals], axis=\"index\")"
   ]
  },
  {
   "cell_type": "markdown",
   "id": "79187ac1-6a8d-45df-876d-8cca918b0c3b",
   "metadata": {},
   "source": [
    "### Reformat combined data for output"
   ]
  },
  {
   "cell_type": "markdown",
   "id": "9aca51c0-2fda-4a24-b627-d492b603e9f9",
   "metadata": {},
   "source": [
    "Create a working dataframe to prepare for export."
   ]
  },
  {
   "cell_type": "code",
   "execution_count": 72,
   "id": "4ff6444a-a1ae-4e61-96d4-202d8d38ad83",
   "metadata": {},
   "outputs": [],
   "source": [
    "insightsPop = combinedData.copy()"
   ]
  },
  {
   "cell_type": "markdown",
   "id": "0cc7299d-d889-4a9a-83e7-cd12011e1947",
   "metadata": {},
   "source": [
    "Merge the geography name and the class FIPS code from the geography lookup table, aligning on fully-qualified GEOID."
   ]
  },
  {
   "cell_type": "code",
   "execution_count": 73,
   "id": "378c3a03-9b91-4cb6-84db-e7b3fd263c28",
   "metadata": {},
   "outputs": [],
   "source": [
    "insightsPop = insightsPop.merge(geoLookup.reset_index()[[\"GEOIDFQ\",\"NAME\",\"SUMLEVEL\"]], on=\"GEOIDFQ\")"
   ]
  },
  {
   "cell_type": "code",
   "execution_count": 74,
   "id": "c92d1798-dd92-4314-8359-edeca0795884",
   "metadata": {},
   "outputs": [],
   "source": [
    "townshipsTemp = insightsPop.loc[insightsPop[\"SUMLEVEL\"] == morpc.SUMLEVEL_LOOKUP[\"COUNTY-TOWNSHIP-REMAINDER\"]].copy()\n",
    "townshipsTemp[\"NAME\"] = townshipsTemp[\"NAME\"] + \" Township\"\n",
    "insightsPop.update(townshipsTemp, overwrite=True)"
   ]
  },
  {
   "cell_type": "code",
   "execution_count": 75,
   "id": "bc78979f-653d-46e2-8f04-8ddcefda904a",
   "metadata": {},
   "outputs": [],
   "source": [
    "countyTemp = insightsPop.loc[insightsPop[\"SUMLEVEL\"] == morpc.SUMLEVEL_LOOKUP[\"COUNTY\"]].copy()\n",
    "countyTemp[\"NAME\"] = countyTemp[\"NAME\"] + \" County\"\n",
    "insightsPop.update(countyTemp, overwrite=True)"
   ]
  },
  {
   "cell_type": "code",
   "execution_count": 76,
   "id": "f3a72908-782e-4c09-844b-3b2ba95d2e37",
   "metadata": {},
   "outputs": [],
   "source": [
    "insightsPop = insightsPop.filter(items=[\"POP\",\"GEOIDFQ\",\"GEO_TYPE\",\"NAME\",\"DATE\",\"VALUE_TYPE\",\"CONF_LIMIT_UPPER\",\"CONF_LIMIT_LOWER\",\"SOURCE\",\"VINTAGE_PERIOD\"], axis=\"columns\")"
   ]
  },
  {
   "cell_type": "code",
   "execution_count": 77,
   "id": "1ac7e34e-9200-459f-ae79-822fb87c01a2",
   "metadata": {},
   "outputs": [],
   "source": [
    "insightsPop = insightsPop.pivot(index=[\"GEOIDFQ\",\"GEO_TYPE\",\"NAME\",\"DATE\",\"CONF_LIMIT_UPPER\",\"CONF_LIMIT_LOWER\",\"SOURCE\",\"VINTAGE_PERIOD\"], columns=\"VALUE_TYPE\", values=\"POP\").reset_index()"
   ]
  },
  {
   "cell_type": "code",
   "execution_count": 78,
   "id": "c8486c09-f2b1-4964-a29f-c33565994037",
   "metadata": {},
   "outputs": [],
   "source": [
    "insightsPop = insightsPop.rename(columns={\n",
    "    \"NAME\":\"Name\",\n",
    "    \"GEO_TYPE\":\"Geography type\",\n",
    "    \"DATE\":\"Date\",\n",
    "    \"ESTIMATE\":\"Historical\",\n",
    "    \"FORECAST\":\"Forecast\",\n",
    "    \"CONF_LIMIT_UPPER\":\"Confidence limit (upper)\",\n",
    "    \"CONF_LIMIT_LOWER\":\"Confidence limit (lower)\",\n",
    "    \"SOURCE\":\"Source\",\n",
    "    \"VINTAGE_PERIOD\":\"Vintage year\"\n",
    "})"
   ]
  },
  {
   "cell_type": "code",
   "execution_count": 79,
   "id": "600200a0-196c-456b-82db-0388f755bac5",
   "metadata": {},
   "outputs": [],
   "source": [
    "insightsPop = insightsPop.filter(items=insightsPopSchema.field_names, axis=\"columns\")"
   ]
  },
  {
   "cell_type": "code",
   "execution_count": 80,
   "id": "49f7ebbb-4a59-49d5-ad56-348d51348d31",
   "metadata": {
    "scrolled": true
   },
   "outputs": [
    {
     "name": "stdout",
     "output_type": "stream",
     "text": [
      "frictionless_cast_field_types | INFO | Casting field GEOIDFQ as type string.\n",
      "frictionless_cast_field_types | INFO | Casting field Name as type string.\n",
      "frictionless_cast_field_types | INFO | Casting field Geography type as type string.\n",
      "frictionless_cast_field_types | INFO | Casting field Date as type date.\n",
      "frictionless_cast_field_types | INFO | Casting field Historical as type integer.\n",
      "frictionless_cast_field_types | WARNING | Failed conversion of fieldname Historical to type 'int'.  Trying type 'Int64' instead.\n",
      "frictionless_cast_field_types | INFO | Casting field Forecast as type integer.\n",
      "frictionless_cast_field_types | WARNING | Failed conversion of fieldname Forecast to type 'int'.  Trying type 'Int64' instead.\n",
      "frictionless_cast_field_types | INFO | Casting field Confidence limit (upper) as type integer.\n",
      "frictionless_cast_field_types | WARNING | Failed conversion of fieldname Confidence limit (upper) to type 'int'.  Trying type 'Int64' instead.\n",
      "frictionless_cast_field_types | INFO | Casting field Confidence limit (lower) as type integer.\n",
      "frictionless_cast_field_types | WARNING | Failed conversion of fieldname Confidence limit (lower) to type 'int'.  Trying type 'Int64' instead.\n",
      "frictionless_cast_field_types | INFO | Casting field Source as type string.\n",
      "frictionless_cast_field_types | INFO | Casting field Vintage year as type integer.\n",
      "frictionless_cast_field_types | WARNING | Failed conversion of fieldname Vintage year to type 'int'.  Trying type 'Int64' instead.\n"
     ]
    }
   ],
   "source": [
    "insightsPop = morpc.cast_field_types(insightsPop, insightsPopSchema)"
   ]
  },
  {
   "cell_type": "code",
   "execution_count": 81,
   "id": "d8d76454-6ced-461c-9af1-ab007244d160",
   "metadata": {},
   "outputs": [
    {
     "data": {
      "text/html": [
       "<div>\n",
       "<style scoped>\n",
       "    .dataframe tbody tr th:only-of-type {\n",
       "        vertical-align: middle;\n",
       "    }\n",
       "\n",
       "    .dataframe tbody tr th {\n",
       "        vertical-align: top;\n",
       "    }\n",
       "\n",
       "    .dataframe thead th {\n",
       "        text-align: right;\n",
       "    }\n",
       "</style>\n",
       "<table border=\"1\" class=\"dataframe\">\n",
       "  <thead>\n",
       "    <tr style=\"text-align: right;\">\n",
       "      <th></th>\n",
       "      <th>GEOIDFQ</th>\n",
       "      <th>Name</th>\n",
       "      <th>Geography type</th>\n",
       "      <th>Date</th>\n",
       "      <th>Historical</th>\n",
       "      <th>Forecast</th>\n",
       "      <th>Confidence limit (upper)</th>\n",
       "      <th>Confidence limit (lower)</th>\n",
       "      <th>Source</th>\n",
       "      <th>Vintage year</th>\n",
       "    </tr>\n",
       "  </thead>\n",
       "  <tbody>\n",
       "    <tr>\n",
       "      <th>0</th>\n",
       "      <td>0500000US39041</td>\n",
       "      <td>Delaware County</td>\n",
       "      <td>COUNTY</td>\n",
       "      <td>2000-07-01</td>\n",
       "      <td>111759</td>\n",
       "      <td>&lt;NA&gt;</td>\n",
       "      <td>&lt;NA&gt;</td>\n",
       "      <td>&lt;NA&gt;</td>\n",
       "      <td>CENINT</td>\n",
       "      <td>2012</td>\n",
       "    </tr>\n",
       "    <tr>\n",
       "      <th>1</th>\n",
       "      <td>0500000US39041</td>\n",
       "      <td>Delaware County</td>\n",
       "      <td>COUNTY</td>\n",
       "      <td>2001-07-01</td>\n",
       "      <td>118646</td>\n",
       "      <td>&lt;NA&gt;</td>\n",
       "      <td>&lt;NA&gt;</td>\n",
       "      <td>&lt;NA&gt;</td>\n",
       "      <td>CENINT</td>\n",
       "      <td>2012</td>\n",
       "    </tr>\n",
       "    <tr>\n",
       "      <th>2</th>\n",
       "      <td>0500000US39041</td>\n",
       "      <td>Delaware County</td>\n",
       "      <td>COUNTY</td>\n",
       "      <td>2002-07-01</td>\n",
       "      <td>126172</td>\n",
       "      <td>&lt;NA&gt;</td>\n",
       "      <td>&lt;NA&gt;</td>\n",
       "      <td>&lt;NA&gt;</td>\n",
       "      <td>CENINT</td>\n",
       "      <td>2012</td>\n",
       "    </tr>\n",
       "    <tr>\n",
       "      <th>3</th>\n",
       "      <td>0500000US39041</td>\n",
       "      <td>Delaware County</td>\n",
       "      <td>COUNTY</td>\n",
       "      <td>2003-07-01</td>\n",
       "      <td>133842</td>\n",
       "      <td>&lt;NA&gt;</td>\n",
       "      <td>&lt;NA&gt;</td>\n",
       "      <td>&lt;NA&gt;</td>\n",
       "      <td>CENINT</td>\n",
       "      <td>2012</td>\n",
       "    </tr>\n",
       "    <tr>\n",
       "      <th>4</th>\n",
       "      <td>0500000US39041</td>\n",
       "      <td>Delaware County</td>\n",
       "      <td>COUNTY</td>\n",
       "      <td>2004-07-01</td>\n",
       "      <td>141348</td>\n",
       "      <td>&lt;NA&gt;</td>\n",
       "      <td>&lt;NA&gt;</td>\n",
       "      <td>&lt;NA&gt;</td>\n",
       "      <td>CENINT</td>\n",
       "      <td>2012</td>\n",
       "    </tr>\n",
       "  </tbody>\n",
       "</table>\n",
       "</div>"
      ],
      "text/plain": [
       "          GEOIDFQ             Name Geography type       Date  Historical  \\\n",
       "0  0500000US39041  Delaware County         COUNTY 2000-07-01      111759   \n",
       "1  0500000US39041  Delaware County         COUNTY 2001-07-01      118646   \n",
       "2  0500000US39041  Delaware County         COUNTY 2002-07-01      126172   \n",
       "3  0500000US39041  Delaware County         COUNTY 2003-07-01      133842   \n",
       "4  0500000US39041  Delaware County         COUNTY 2004-07-01      141348   \n",
       "\n",
       "   Forecast  Confidence limit (upper)  Confidence limit (lower)  Source  \\\n",
       "0      <NA>                      <NA>                      <NA>  CENINT   \n",
       "1      <NA>                      <NA>                      <NA>  CENINT   \n",
       "2      <NA>                      <NA>                      <NA>  CENINT   \n",
       "3      <NA>                      <NA>                      <NA>  CENINT   \n",
       "4      <NA>                      <NA>                      <NA>  CENINT   \n",
       "\n",
       "   Vintage year  \n",
       "0          2012  \n",
       "1          2012  \n",
       "2          2012  \n",
       "3          2012  \n",
       "4          2012  "
      ]
     },
     "execution_count": 81,
     "metadata": {},
     "output_type": "execute_result"
    }
   ],
   "source": [
    "insightsPop.head()"
   ]
  },
  {
   "cell_type": "code",
   "execution_count": 82,
   "id": "5a7a6342-405d-42b0-a59a-d1e3a4c77962",
   "metadata": {},
   "outputs": [],
   "source": [
    "insightsPop = insightsPop.sort_values([\"Geography type\",\"Name\",\"Date\"])"
   ]
  },
  {
   "cell_type": "markdown",
   "id": "72e66244-d106-41c3-8d79-b6f65447f329",
   "metadata": {},
   "source": [
    "## Export data"
   ]
  },
  {
   "cell_type": "code",
   "execution_count": 83,
   "id": "4e1b1d14-ab49-4199-b810-ca79d39b07be",
   "metadata": {},
   "outputs": [],
   "source": [
    "insightsPop.to_csv(INSIGHTS_POP_TABLE_PATH, index=False)"
   ]
  },
  {
   "cell_type": "markdown",
   "id": "1c09adba-8c2e-46b7-9e18-0f5fcfa638e2",
   "metadata": {},
   "source": [
    "## Create resource file for exported data"
   ]
  },
  {
   "cell_type": "code",
   "execution_count": 84,
   "id": "a2088636-e051-4cd3-8227-20bfcc428294",
   "metadata": {
    "scrolled": true
   },
   "outputs": [
    {
     "name": "stdout",
     "output_type": "stream",
     "text": [
      "morpc.frictionless_create_resource | INFO | Format not specified. Using format derived from data file extension: csv\n",
      "morpc.frictionless_create_resource | INFO | Schema path not specified. Using path derived from data file path: morpc-insights-pop-temporal.schema.yaml\n",
      "morpc.frictionless_create_resource | INFO | Writing Frictionless Resource file to output_data\\morpc-insights-pop-temporal.resource.yaml\n",
      "morpc.frictionless_create_resource | INFO | Validating resource on disk.\n",
      "morpc.frictionless_validate_resource | INFO | Validating resource on disk (including data and schema). This may take some time.\n",
      "morpc.frictionless_validate_resource | INFO | Resource is valid\n"
     ]
    }
   ],
   "source": [
    "insightsPopResource = morpc.frictionless_create_resource(INSIGHTS_POP_TABLE_FILENAME, \n",
    "    resourcePath=INSIGHTS_POP_TABLE_RESOURCE_PATH,\n",
    "    title=\"MORPC Insights | Historic and Forecasted Population by Year\", \n",
    "    name=\"morpc_insights_pop_temporal\", \n",
    "    description=\"This dataset provides the best available historical and forecasted population estimates for the Central Ohio region and the counties and communities therein.  Estimates are compiled from a variety of sources including the following: {}.  Note that different sources provide estimates as of different days throughout the year, so be sure to note the entire date in the REFERENCE_PERIOD field.  The VINTAGE_PERIOD field refers to the time that the estimate was produced or released.  Earlier and (perhaps) later vintages may be available from the original sources.\".format(\", \".join([\"{1} ({0})\".format(value, key) for key, value in SOURCE_MAP.items()])),\n",
    "    writeResource=True,\n",
    "    validate=True\n",
    ")"
   ]
  },
  {
   "cell_type": "markdown",
   "id": "b2699bb8-ca10-462d-bbee-ed63737db7f9",
   "metadata": {},
   "source": [
    "## Generate static charts"
   ]
  },
  {
   "cell_type": "code",
   "execution_count": 91,
   "id": "0a662d8a-a266-4ecf-bfcd-3c579162d193",
   "metadata": {},
   "outputs": [
    {
     "name": "stdout",
     "output_type": "stream",
     "text": [
      "0\n",
      "0\n"
     ]
    }
   ],
   "source": [
    "%matplotlib agg\n",
    "\n",
    "for f in os.scandir(chartDir):\n",
    "    os.remove(f)\n",
    "\n",
    "for geoid in insightsPop[\"GEOIDFQ\"].unique():\n",
    "    temp = insightsPop.loc[insightsPop[\"GEOIDFQ\"] == geoid].copy()\n",
    "    temp['year'] = temp[\"Date\"].dt.year\n",
    "    #temp = temp.loc[(temp['year'] % 5 == 0) | (temp['year'].isin(range(MORPC_ESTIMATE_YEAR_RANGE[0], MORPC_ESTIMATE_YEAR_RANGE[1]+1)))]\n",
    "    forecastVintages = list(temp.loc[temp[\"Forecast\"].notna(), \"Vintage year\"].unique())\n",
    "    if(len(forecastVintages) > 1):\n",
    "        forecastVintage = \"multiple\"\n",
    "    elif(len(forecastVintages) == 0):\n",
    "        forecastVintage = None\n",
    "    else: \n",
    "        forecastVintage = forecastVintages[0]\n",
    "    maxPop = temp[[\"Historical\",\"Forecast\",\"Confidence limit (upper)\"]].max().max()\n",
    "    minPop = temp[[\"Historical\",\"Forecast\",\"Confidence limit (upper)\"]].min().min()\n",
    "    if(temp.shape[0] == 1):\n",
    "        continue\n",
    "    if(maxPop < MAX_POP_THRESHOLD):\n",
    "        continue\n",
    "    if(minPop < MIN_POP_THRESHOLD):\n",
    "        print(minPop)\n",
    "        continue\n",
    "    geoName = temp.iloc[0][\"Name\"]\n",
    "    geoType = temp.iloc[0][\"Geography type\"]\n",
    "    geoLabel = \"Population - {}{}\".format(geoName, GEO_TYPE_LABELS[geoType]) \n",
    "    PLOTWIDTH = 8\n",
    "    fig,ax = plt.subplots(figsize=(PLOTWIDTH,PLOTWIDTH/16*9))\n",
    "    if(not temp[\"Confidence limit (upper)\"].isnull().all()):\n",
    "        temp.plot(ax=ax, x=\"Date\", y=\"Confidence limit (upper)\", label=\"Confidence limit\", color=\"grey\")\n",
    "        temp.plot(ax=ax, x=\"Date\", y=\"Confidence limit (lower)\", legend=False, color=\"grey\")\n",
    "    temp.plot(ax=ax, x=\"Date\", y=\"Historical\", marker=\"o\", color=morpc.CONST_MORPC_COLORS[\"darkblue\"], label=\"Historical best estimate\")\n",
    "    if(forecastVintage != None):\n",
    "        temp.plot(ax=ax, x=\"Date\", y=\"Forecast\", marker=\"o\", color=morpc.CONST_MORPC_COLORS[\"darkgreen\"])\n",
    "    ax.set_title(geoLabel, fontsize=14)\n",
    "    ax.set_xlabel(None)\n",
    "    ax.set_ylabel(None)\n",
    "    ax.grid(visible=True, color=\"lightgrey\")\n",
    "    ax.set_ylim(ymin=0, ymax=maxPop*1.1)\n",
    "    ax.get_yaxis().set_major_formatter(matplotlib.ticker.FuncFormatter(lambda x, p: format(int(x), ',')))\n",
    "    ax.figure.savefig(os.path.join(chartDir, \"{}.svg\".format(geoid)))\n",
    "    plt.close(ax.figure)\n",
    "\n",
    "%matplotlib inline"
   ]
  },
  {
   "cell_type": "markdown",
   "id": "e9c111be-9d8b-4437-bd5a-c931918885c4",
   "metadata": {},
   "source": [
    "## Generate Insights catalog content"
   ]
  },
  {
   "cell_type": "code",
   "execution_count": null,
   "id": "705a5acc-c92a-4978-8c2e-6d9b43821881",
   "metadata": {},
   "outputs": [],
   "source": [
    "columnNames=[\"TileID\",\"TilesetID\",\"GeographyType\",\"GeographyName\",\"Category\",\"Headline\",\"Commentary\",\"ThumbnailURL\",\"Contributor\",\"Vintage\",\"UpdateInterval\",\"ShareURL\",\"DataProductURL\",\"MoreInformationURL\"]"
   ]
  },
  {
   "cell_type": "code",
   "execution_count": null,
   "id": "5b810ea8-1bf1-4031-92b6-782cd62b3ea6",
   "metadata": {},
   "outputs": [],
   "source": [
    "catalog = insightsPop[[\"GEOIDFQ\",\"Name\",\"Geography type\"]].copy() \\\n",
    "    .groupby(\"GEOIDFQ\").first() \\\n",
    "    .reset_index() \\\n",
    "    .rename(columns={\"Name\":\"GeographyName\",\"Geography type\":\"GeographyType\"})\n",
    "catalog[\"GeographyType\"] = catalog[\"GeographyType\"].map({\n",
    "    \"REGION15\":\"Region\",\n",
    "    \"COUNTY\":\"County\",\n",
    "    \"COUNTY-TOWNSHIP-REMAINDER\":\"Community\",\n",
    "    \"PLACE\":\"Community\"\n",
    "})\n",
    "catalog[\"TileID\"] = None\n",
    "catalog[\"TilesetID\"] = None\n",
    "catalog[\"Category\"] = None\n",
    "catalog[\"Headline\"] = \"TBD\"\n",
    "catalog[\"Commentary\"] = \"TBD\"\n",
    "catalog[\"ThumbnailURL\"] = catalog[\"GEOIDFQ\"].apply(lambda geoid:\"https://raw.githubusercontent.com/morpc-insights/pop-temporal/refs/heads/main/output_data/charts/{}.svg\".format(geoid))\n",
    "catalog[\"Contributor\"] = \"Mid-Ohio Regional Planning Commission\"\n",
    "catalog[\"Vintage\"] = str(datetime.date.today().year)\n",
    "catalog[\"UpdateInterval\"] = \"annually\"\n",
    "catalog[\"ShareURL\"] = None\n",
    "catalog[\"DataProductURL\"] = catalog[\"GeographyName\"].apply(lambda GeographyName:\"https://morpc.maps.arcgis.com/apps/dashboards/d1291225631545438293bdfcfffaef6b#region={}\".format(GeographyName.replace(\" \",\"%20\")))\n",
    "temp[\"MoreInformationURL\"] = \"https://raw.githubusercontent.com/morpc-insights/pop-temporal/refs/heads/main/fact_sheets/population.pdf\"\n",
    "temp = catalog.loc[catalog[\"GeographyType\"].isin([\"COUNTY\",\"REGION15\"])].copy()\n",
    "temp[\"MoreInformationURL\"] = temp[\"GEOIDFQ\"].apply(lambda geoid:\"https://raw.githubusercontent.com/morpc-insights/pop-temporal/refs/heads/main/fact_sheets/{}.pdf\".format(geoid))\n",
    "catalog.update(temp)\n",
    "catalog = catalog.filter(items=columnNames, axis=\"columns\")\n",
    "catalog.head()"
   ]
  },
  {
   "cell_type": "code",
   "execution_count": null,
   "id": "2ee70116-719e-474b-b936-709206a92963",
   "metadata": {},
   "outputs": [],
   "source": [
    "catalog.to_excel(\"catalog.xlsx\", index=False)"
   ]
  }
 ],
 "metadata": {
  "kernelspec": {
   "display_name": "Python 3 (ipykernel)",
   "language": "python",
   "name": "python3"
  },
  "language_info": {
   "codemirror_mode": {
    "name": "ipython",
    "version": 3
   },
   "file_extension": ".py",
   "mimetype": "text/x-python",
   "name": "python",
   "nbconvert_exporter": "python",
   "pygments_lexer": "ipython3",
   "version": "3.10.4"
  }
 },
 "nbformat": 4,
 "nbformat_minor": 5
}
