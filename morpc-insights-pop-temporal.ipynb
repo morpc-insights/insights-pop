{
 "cells": [
  {
   "cell_type": "markdown",
   "id": "a81791ad-8f58-4124-bba3-f857c73262b3",
   "metadata": {},
   "source": [
    "# Insights - Total population by year"
   ]
  },
  {
   "cell_type": "markdown",
   "id": "317fdc10-a19b-4e68-befc-08a712f7ee28",
   "metadata": {
    "tags": []
   },
   "source": [
    "## Introduction"
   ]
  },
  {
   "cell_type": "markdown",
   "id": "8c6b8908-2b9f-4931-b6b3-9ecd24d118eb",
   "metadata": {},
   "source": [
    "This process is dependent on upstream processes. See the \"Prerequisites\" section below.\n",
    "\n",
    "The workflow defined herein is identified as workflow ID #90 in the the [Data Team Master Document List](https://morpc1.sharepoint.com/:x:/s/GISteam/EfC4j3HhohZCrSZzxJdyt5cBFEqVD7zHick8ZW0INqgCYA?e=0WhrAI). References to document list identifiers are denoted by a number in brackets, e.g. [90]."
   ]
  },
  {
   "cell_type": "markdown",
   "id": "fa05b048-045c-402d-bb52-708110691f09",
   "metadata": {
    "tags": []
   },
   "source": [
    "## Process outline\n",
    "\n",
    "  1. Load input dataset\n",
    "  2. Extract required population facts\n",
    "  3. Transform population facts to comply with output schema\n",
    "  4. Export output dataset\n",
    "  5. Create resource file"
   ]
  },
  {
   "cell_type": "markdown",
   "id": "df5c214d-69e7-4112-b7bb-3e9d377a594e",
   "metadata": {},
   "source": [
    "## Prerequisites and usage notes"
   ]
  },
  {
   "cell_type": "markdown",
   "id": "db2e9d1d-aa32-4ec2-a42e-5c44e39c694f",
   "metadata": {},
   "source": [
    "  - Outputs of one or more upstream workflows must be available at the indicated paths. Make sure that those outputs are up to date prior to running this script. \n",
    "  - This script includes several intentional RuntimeError instances that may be triggered to alert the user to conditions that may require their attention. If the script triggers one of these errors, review the error, verify that the condition is acceptable or resolve any issues, then proceed."
   ]
  },
  {
   "cell_type": "markdown",
   "id": "5b4ee0c6-4158-4a98-bc7f-179022f48ff8",
   "metadata": {},
   "source": [
    "## Setup"
   ]
  },
  {
   "cell_type": "markdown",
   "id": "3cd65147-7804-4778-8def-493d8f2f3542",
   "metadata": {},
   "source": [
    "### Import required packages"
   ]
  },
  {
   "cell_type": "code",
   "execution_count": null,
   "id": "a2e771b4-c162-47ad-8d76-ee12dddd594f",
   "metadata": {},
   "outputs": [],
   "source": [
    "import os\n",
    "import shutil\n",
    "import sys\n",
    "import pandas as pd\n",
    "import frictionless\n",
    "import datetime\n",
    "import matplotlib\n",
    "from matplotlib import pyplot as plt\n",
    "sys.path.append(os.path.normpath(\"../morpc-common\"))\n",
    "import morpc\n",
    "import morpcCensus"
   ]
  },
  {
   "cell_type": "markdown",
   "id": "a5ed7156-7d69-400e-92e8-be275d318067",
   "metadata": {},
   "source": [
    "### User-specified parameters"
   ]
  },
  {
   "cell_type": "code",
   "execution_count": null,
   "id": "29c907f2-fcdc-4f84-b8c5-22097daf822d",
   "metadata": {},
   "outputs": [],
   "source": [
    "MORPC_ESTIMATE_YEAR_RANGE = [2024, 2024]\n",
    "\n",
    "MORPC_FORECAST_VINTAGE = 2023\n",
    "MORPC_FORECAST_YEAR_RANGE = [2025, 2050]\n",
    "MORPC_FORECAST_YEAR_INTERVAL = 5\n",
    "\n",
    "DECENNIAL_YEAR_RANGE = [1980, 2020]\n",
    "INTERCENSAL_YEAR_RANGE = [2000, 2019]\n",
    "\n",
    "PEP_YEAR_RANGE = [INTERCENSAL_YEAR_RANGE[1]+1, MORPC_ESTIMATE_YEAR_RANGE[0]-1]\n",
    "\n",
    "FORECAST_POP_THRESHOLD = 2000\n",
    "INCLUSION_POP_THRESHOLD = 100\n",
    "\n",
    "# When STALE_DATA_INTERRUPT == True, the script will produce a RuntimeError in certain situations where the input \n",
    "# data may be stale and updates might be required prior to running the script.  Otherwise, a warning will be generated \n",
    "# but script execution will continue.  Regardless of whether an error or warning occurs, be sure to verify the readiness \n",
    "# of all input data.\n",
    "STALE_DATA_INTERRUPT = True\n",
    "\n",
    "# You can change where the input data is sourced and archived by changing the following directory and file names.  \n",
    "# This typically is not necessary and may break other scripts that depend on outputs from this one. Source data \n",
    "# will be copied to this location.  Input data will be deleted following successful completion of the script \n",
    "# unless PRESERVE_INPUT_DATA == True.\n",
    "INPUT_DIR = \"./input_data\"\n",
    "\n",
    "# You can change where the output data is stored by changing the following directory and file names.  This \n",
    "# typically is not necessary and may break other scripts that depend on outputs from this one.\n",
    "OUTPUT_DIR = \"./output_data\""
   ]
  },
  {
   "cell_type": "markdown",
   "id": "401c0fde-7773-4ffc-b47c-f1b40f283def",
   "metadata": {},
   "source": [
    "### Static parameters"
   ]
  },
  {
   "cell_type": "markdown",
   "id": "47ff884d-88a6-46ae-8071-8edf0ab2efab",
   "metadata": {},
   "source": [
    "Create a map to convert human-readable source descriptions to shortened codes to save space."
   ]
  },
  {
   "cell_type": "code",
   "execution_count": null,
   "id": "cb91036c-5429-4814-acf8-816f4a04c0e4",
   "metadata": {},
   "outputs": [],
   "source": [
    "GEO_TYPE_LIST = [\"COUNTY\",\"PLACE\",\"COUNTY-TOWNSHIP-REMAINDER\"]\n",
    "\n",
    "SOURCE_MAP = {\n",
    "    \"Census Intercensal Estimates\":\"CENINT\",\n",
    "    \"Census Population Estimates Program\":\"CENPEP\",\n",
    "    \"Mid-Ohio Regional Planning Commission\":\"MORPC\"\n",
    "}\n",
    "\n",
    "SOURCE_MAP_REVERSED = {value: key for key, value in SOURCE_MAP.items()}\n",
    "\n",
    "GEO_TYPE_LABELS = {\n",
    "    \"REGION15\":\"\",\n",
    "    \"COUNTY\":\"\",\n",
    "    \"COUNTY-TOWNSHIP-REMAINDER\":\" (unincorporated)\",\n",
    "    \"PLACE\":\"\"\n",
    "}\n",
    "\n",
    "CHART_DIRNAME = \"charts\""
   ]
  },
  {
   "cell_type": "markdown",
   "id": "b0004e0a-e241-4757-b5bd-c9819d943514",
   "metadata": {},
   "source": [
    "### Define inputs"
   ]
  },
  {
   "cell_type": "markdown",
   "id": "ab663116-d72d-4f63-8b4c-ba40212d3715",
   "metadata": {},
   "source": [
    "The following datasets are required by this notebook. They will be retrieved from the specified location and temporarily stored in INPUT_DIR. They will be deleted following successful completion of the script unless PRESERVE_INPUT_DATA == True."
   ]
  },
  {
   "cell_type": "markdown",
   "id": "85da01ea-fc9e-41d2-b715-11fa170c2ca4",
   "metadata": {},
   "source": [
    "#### Create input data directory"
   ]
  },
  {
   "cell_type": "markdown",
   "id": "ea1ae4d6-e9a3-495e-a339-b7bc598b0926",
   "metadata": {},
   "source": [
    "Create input data directory if it doesn't exist."
   ]
  },
  {
   "cell_type": "code",
   "execution_count": null,
   "id": "b2c03840-4cb0-4417-b97e-2b21b1363f15",
   "metadata": {},
   "outputs": [],
   "source": [
    "inputDir = os.path.normpath(INPUT_DIR)\n",
    "if not os.path.exists(inputDir):\n",
    "    os.makedirs(inputDir)"
   ]
  },
  {
   "cell_type": "markdown",
   "id": "0ac8737d-5330-40d1-8b06-253918294f23",
   "metadata": {},
   "source": [
    "#### MORPC counties reference data [81]"
   ]
  },
  {
   "cell_type": "markdown",
   "id": "52cbb81a-e893-4ed3-a42e-6cc6b2535f3e",
   "metadata": {},
   "source": [
    "Reference data for counties in the MORPC region will be loaded automatically as a morpc.countyLookup() object (see below)."
   ]
  },
  {
   "cell_type": "markdown",
   "id": "7b89988c-dce5-4ce3-955b-f608c7fe6c8b",
   "metadata": {
    "tags": []
   },
   "source": [
    "#### MORPC combined population facts [286]"
   ]
  },
  {
   "cell_type": "code",
   "execution_count": null,
   "id": "e29e7a94-010a-468b-afd9-d13fe95d3c5a",
   "metadata": {
    "scrolled": true
   },
   "outputs": [],
   "source": [
    "COMBINED_POP_FACTS_RESOURCE_PATH = \"../morpc-pop-collect/output_data/morpc-pop-collect.resource.yaml\"\n",
    "print(\"Resource file: {}\".format(COMBINED_POP_FACTS_RESOURCE_PATH))"
   ]
  },
  {
   "cell_type": "markdown",
   "id": "e9ce209a-4c3f-4783-84e1-4fd6b513d268",
   "metadata": {},
   "source": [
    "#### MORPC geography lookup table [375]"
   ]
  },
  {
   "cell_type": "code",
   "execution_count": null,
   "id": "70a35e6a-47be-4011-85aa-09e360595dce",
   "metadata": {
    "scrolled": true
   },
   "outputs": [],
   "source": [
    "GEOS_LOOKUP_RESOURCE_PATH = \"../morpc-geos-collect/output_data/morpc-geos-lookup.resource.yaml\"\n",
    "print(\"Resource file: {}\".format(GEOS_LOOKUP_RESOURCE_PATH))"
   ]
  },
  {
   "cell_type": "markdown",
   "id": "254f8295-cf14-489f-be09-7fd19bf59377",
   "metadata": {},
   "source": [
    "#### MORPC member list [122]"
   ]
  },
  {
   "cell_type": "code",
   "execution_count": null,
   "id": "a32776d5-eb28-43f6-851b-7a08842ad867",
   "metadata": {},
   "outputs": [],
   "source": [
    "MEMBERS_DATA_PATH = \"../morpc-lookup/Member_List.xlsx\"\n",
    "MEMBERS_SHEET = \"Current Year Members\"\n",
    "MEMBERS_SCHEMA_PATH = \"../morpc-lookup/Member_List_schema.json\"\n",
    "print(\"Data: {}, sheet '{}'\".format(MEMBERS_DATA_PATH, MEMBERS_SHEET))\n",
    "print(\"Schema: {}\".format(MEMBERS_SCHEMA_PATH))"
   ]
  },
  {
   "cell_type": "markdown",
   "id": "3406c4a9-051c-4f0c-8148-504019f37f72",
   "metadata": {
    "tags": []
   },
   "source": [
    "### Define outputs"
   ]
  },
  {
   "cell_type": "markdown",
   "id": "e9356099-b192-4921-9822-8db1cdc42eda",
   "metadata": {
    "tags": []
   },
   "source": [
    "#### Create output data directory"
   ]
  },
  {
   "cell_type": "markdown",
   "id": "892dc452-34c3-4d08-96ab-be3857d36033",
   "metadata": {},
   "source": [
    "Create output data directory if it doesn't exist."
   ]
  },
  {
   "cell_type": "code",
   "execution_count": null,
   "id": "079addf5-cb85-41a2-afa9-6eb226be1b93",
   "metadata": {},
   "outputs": [],
   "source": [
    "outputDir = os.path.normpath(OUTPUT_DIR)\n",
    "if not os.path.exists(outputDir):\n",
    "    os.makedirs(outputDir)   "
   ]
  },
  {
   "cell_type": "code",
   "execution_count": null,
   "id": "583acf7f-c378-4647-a8d5-37dc1f5466b0",
   "metadata": {},
   "outputs": [],
   "source": [
    "chartDir = os.path.join(outputDir, CHART_DIRNAME)\n",
    "if not os.path.exists(chartDir):\n",
    "    os.makedirs(chartDir)    "
   ]
  },
  {
   "cell_type": "markdown",
   "id": "151e8310-9385-4c35-8cf2-e3c23de01642",
   "metadata": {
    "tags": []
   },
   "source": [
    "#### Insights total population by year [287]"
   ]
  },
  {
   "cell_type": "code",
   "execution_count": null,
   "id": "6efb6fda-33d4-4019-9b34-5679f464fd08",
   "metadata": {},
   "outputs": [],
   "source": [
    "INSIGHTS_POP_TABLE_FILENAME = \"morpc-insights-pop-temporal.csv\"\n",
    "INSIGHTS_POP_TABLE_PATH = os.path.join(outputDir, INSIGHTS_POP_TABLE_FILENAME)\n",
    "INSIGHTS_POP_TABLE_SCHEMA_PATH = INSIGHTS_POP_TABLE_PATH.replace(\".csv\",\".schema.yaml\")\n",
    "INSIGHTS_POP_TABLE_RESOURCE_PATH = INSIGHTS_POP_TABLE_PATH.replace(\".csv\",\".resource.yaml\")\n",
    "print(\"Data: {}\".format(INSIGHTS_POP_TABLE_PATH))\n",
    "print(\"Schema: {}\".format(INSIGHTS_POP_TABLE_SCHEMA_PATH))\n",
    "print(\"Resource file: {}\".format(INSIGHTS_POP_TABLE_RESOURCE_PATH))"
   ]
  },
  {
   "cell_type": "markdown",
   "id": "08eedadf-8229-49e7-b553-b2eb396a70e8",
   "metadata": {
    "tags": []
   },
   "source": [
    "## Prepare input data"
   ]
  },
  {
   "cell_type": "markdown",
   "id": "592fd177-fd39-47e6-8290-fc4a72fd4cbc",
   "metadata": {},
   "source": [
    "### Load county reference data"
   ]
  },
  {
   "cell_type": "code",
   "execution_count": null,
   "id": "13f7ef4a-38c0-47d9-929f-429bb863bc58",
   "metadata": {},
   "outputs": [],
   "source": [
    "countyLookup = morpc.countyLookup(scope=\"15-County Region\")"
   ]
  },
  {
   "cell_type": "code",
   "execution_count": null,
   "id": "883c1415-e978-4f0d-b736-abc0c6451ea1",
   "metadata": {},
   "outputs": [],
   "source": [
    "\",\".join(countyLookup.list_ids())"
   ]
  },
  {
   "cell_type": "markdown",
   "id": "2a83ffdb-5303-4a55-abd2-27a81c964ffe",
   "metadata": {},
   "source": [
    "### Combined population facts"
   ]
  },
  {
   "cell_type": "code",
   "execution_count": null,
   "id": "739fbbf8-cafc-4c07-90e0-01d60b635e4a",
   "metadata": {
    "scrolled": true
   },
   "outputs": [],
   "source": [
    "(combinedPopRaw, combinedPopResource, combinedPopSchema) = morpc.frictionless_load_data(COMBINED_POP_FACTS_RESOURCE_PATH, archiveDir=inputDir, validate=True, verbose=True)"
   ]
  },
  {
   "cell_type": "code",
   "execution_count": null,
   "id": "f48744b6-3dda-4fb0-822d-a20a381b74c5",
   "metadata": {},
   "outputs": [],
   "source": [
    "combinedPop = combinedPopRaw.copy()"
   ]
  },
  {
   "cell_type": "code",
   "execution_count": null,
   "id": "82fc925d-c758-426b-a0f6-e4ea5e7ef1bc",
   "metadata": {},
   "outputs": [],
   "source": [
    "combinedPop[\"GEO_TYPE\"] = combinedPop[\"SUMLEVEL\"].map(morpc.HIERARCHY_STRING_LOOKUP)"
   ]
  },
  {
   "cell_type": "code",
   "execution_count": null,
   "id": "21c22cf6-59d0-49e6-9bfd-191457ab7ce7",
   "metadata": {},
   "outputs": [],
   "source": [
    "combinedPop = combinedPop.drop(columns=[\"SUMLEVEL\",\"LAST_UPDATED\"]) "
   ]
  },
  {
   "cell_type": "code",
   "execution_count": null,
   "id": "b2269b18-608d-48fc-9f0c-6d5555a4860c",
   "metadata": {},
   "outputs": [],
   "source": [
    "combinedPop = combinedPop.loc[combinedPop[\"GEO_TYPE\"].isin(GEO_TYPE_LIST)]"
   ]
  },
  {
   "cell_type": "code",
   "execution_count": null,
   "id": "b73cb5f0-38d9-4d55-84f6-7d0fe2eb9589",
   "metadata": {
    "scrolled": true
   },
   "outputs": [],
   "source": [
    "combinedPop.head()"
   ]
  },
  {
   "cell_type": "markdown",
   "id": "9c2f76d3-b0b3-453e-aa5e-462e3b3b1dd2",
   "metadata": {},
   "source": [
    "### Geography lookup table"
   ]
  },
  {
   "cell_type": "code",
   "execution_count": null,
   "id": "c5435e23-8863-4c8a-86c7-00a2dabba0f3",
   "metadata": {},
   "outputs": [],
   "source": [
    "(geoLookupRaw, geoLookupResource, geoLookupSchema) = morpc.frictionless_load_data(GEOS_LOOKUP_RESOURCE_PATH, archiveDir=inputDir, validate=True, verbose=True)"
   ]
  },
  {
   "cell_type": "code",
   "execution_count": null,
   "id": "11348ada-c7e8-4ac1-b4d6-86f2592cd994",
   "metadata": {},
   "outputs": [],
   "source": [
    "geoLookup = geoLookupRaw.copy() \\\n",
    "    .set_index(\"GEOIDFQ\")"
   ]
  },
  {
   "cell_type": "code",
   "execution_count": null,
   "id": "10faf074-c630-495a-bc48-025ae4c0f6d9",
   "metadata": {},
   "outputs": [],
   "source": [
    "geoLookup.head()"
   ]
  },
  {
   "cell_type": "markdown",
   "id": "155a2352-933a-47d3-be7d-47f572ff4887",
   "metadata": {},
   "source": [
    "### MORPC member list"
   ]
  },
  {
   "cell_type": "markdown",
   "id": "343f71e0-3ea0-4ddd-a722-58fb8a68513e",
   "metadata": {},
   "source": [
    "The output data will include all communities for whom data has not been suppressed, however we will only show data for MORPC members in the platform."
   ]
  },
  {
   "cell_type": "markdown",
   "id": "5b82519d-922c-46d4-a50e-69051184efba",
   "metadata": {},
   "source": [
    "Load the member table."
   ]
  },
  {
   "cell_type": "code",
   "execution_count": null,
   "id": "8c75471a-84d1-46ee-bbbe-05f061f21341",
   "metadata": {},
   "outputs": [],
   "source": [
    "membersRaw = pd.read_excel(MEMBERS_DATA_PATH, sheet_name=MEMBERS_SHEET)\n",
    "membersRaw.head()"
   ]
  },
  {
   "cell_type": "markdown",
   "id": "2307a042-55ab-45d9-88db-daf1ff848115",
   "metadata": {},
   "source": [
    "Load the schema."
   ]
  },
  {
   "cell_type": "code",
   "execution_count": null,
   "id": "2bcecabb-1f8f-4281-ad85-967bedf2444e",
   "metadata": {},
   "outputs": [],
   "source": [
    "membersSchema = morpc.load_avro_schema(MEMBERS_SCHEMA_PATH)"
   ]
  },
  {
   "cell_type": "markdown",
   "id": "da8f4c6a-1e46-4aab-a403-e64a99c99d98",
   "metadata": {},
   "source": [
    "Verify that the fields are all the expected types."
   ]
  },
  {
   "cell_type": "code",
   "execution_count": null,
   "id": "d8051a2b-f916-422f-bd4c-11b2a77e6c83",
   "metadata": {
    "scrolled": true
   },
   "outputs": [],
   "source": [
    "members = morpc.cast_field_types(membersRaw, membersSchema)"
   ]
  },
  {
   "cell_type": "markdown",
   "id": "2edb2992-f8d8-4d24-90c3-839f1731e5a4",
   "metadata": {},
   "source": [
    "Extract only the communities which are themselves a member."
   ]
  },
  {
   "cell_type": "code",
   "execution_count": null,
   "id": "15e1aae9-d80a-49b7-9fdf-9e438a85ec62",
   "metadata": {},
   "outputs": [],
   "source": [
    "members = members.loc[members[\"Local Member\"] == True].copy()"
   ]
  },
  {
   "cell_type": "markdown",
   "id": "27c6c29e-10b3-4674-b77e-bc3fdbb77a51",
   "metadata": {},
   "source": [
    "The records in the member table are all county parts.  For places we need to subsitute the GEOID for the full place rather than the county part."
   ]
  },
  {
   "cell_type": "code",
   "execution_count": null,
   "id": "74d7022e-ddcf-4381-90c3-bd1df4df6749",
   "metadata": {},
   "outputs": [],
   "source": [
    "members[\"PLACEFP\"] = members[\"GEOID\"].apply(lambda x:x[11:16])\n",
    "members[\"COUSUBFP\"] = members[\"GEOID\"].apply(lambda x:x[14:19])\n",
    "members[\"COUNTYID\"] = members[\"County\"].map(morpc.CONST_COUNTY_NAME_TO_ID)\n",
    "members[\"GEOIDFQ\"] = None\n",
    "temp = members.loc[members[\"GovType\"] == \"Township\"].copy()\n",
    "temp[\"GEOIDFQ\"] = temp[\"GEOID\"]\n",
    "members.update(temp)\n",
    "temp = members.loc[members[\"GovType\"] != \"Township\"].copy()\n",
    "temp[\"GEOIDFQ\"] = \"1600000US39\" + temp[\"PLACEFP\"]\n",
    "members.update(temp)"
   ]
  },
  {
   "cell_type": "markdown",
   "id": "6d77d2f8-6260-4a80-a67d-8afe929fd140",
   "metadata": {},
   "source": [
    "Now extract just the list of member GEOIDs.  The steps above likely produced duplicate records for places, so extract only the unique GEOIDs."
   ]
  },
  {
   "cell_type": "code",
   "execution_count": null,
   "id": "797cfe8c-e171-4e4c-bdd3-20d131877c6d",
   "metadata": {},
   "outputs": [],
   "source": [
    "memberList = list(members[\"GEOIDFQ\"].unique())"
   ]
  },
  {
   "cell_type": "markdown",
   "id": "6bc5ef9c-2655-4e61-81b9-988186344b76",
   "metadata": {},
   "source": [
    "We also need to append the list of counties.  We will include data for all counties regardless of membership status."
   ]
  },
  {
   "cell_type": "code",
   "execution_count": null,
   "id": "faa01dd9-a48c-412f-a1e5-f34607c66bcb",
   "metadata": {},
   "outputs": [],
   "source": [
    "memberList += [\"0500000US{}\".format(morpc.CONST_COUNTY_NAME_TO_ID[x]) for x in morpc.CONST_REGIONS['REGION15']]"
   ]
  },
  {
   "cell_type": "markdown",
   "id": "b0c5b0a0-04ba-4c10-b92a-9a4173496a1c",
   "metadata": {},
   "source": [
    "Finally we need to append the ID for the MORPC region."
   ]
  },
  {
   "cell_type": "code",
   "execution_count": null,
   "id": "8ec928db-40e0-41b8-9409-6a0404be420c",
   "metadata": {},
   "outputs": [],
   "source": [
    "memberList.append(\"M010000US001\")"
   ]
  },
  {
   "cell_type": "markdown",
   "id": "2c0f3f69-4f4b-4e73-b786-523eb711e0a4",
   "metadata": {},
   "source": [
    "## Transform data"
   ]
  },
  {
   "cell_type": "markdown",
   "id": "53c39768-0ab4-4c41-b89f-cd62b60b2583",
   "metadata": {},
   "source": [
    "#### Load output schema"
   ]
  },
  {
   "cell_type": "code",
   "execution_count": null,
   "id": "6ea99434-e6b4-43ff-82e3-94cc0f4f1cf5",
   "metadata": {
    "scrolled": true
   },
   "outputs": [],
   "source": [
    "insightsPopSchema = morpc.frictionless_load_schema(INSIGHTS_POP_TABLE_SCHEMA_PATH)\n",
    "insightsPopSchema"
   ]
  },
  {
   "cell_type": "markdown",
   "id": "5a71fdd9-4622-4e55-acc4-ee0dfeb9ca84",
   "metadata": {},
   "source": [
    "### Create list to collect extracted data"
   ]
  },
  {
   "cell_type": "code",
   "execution_count": null,
   "id": "3c03ba21-1479-4d06-9692-182e7cc0c679",
   "metadata": {},
   "outputs": [],
   "source": [
    "extractedData = []"
   ]
  },
  {
   "cell_type": "markdown",
   "id": "14553053-7b89-4f1f-b9d6-08033744294e",
   "metadata": {},
   "source": [
    "### Extract decennial census counts (NOT IMPLEMENTED)"
   ]
  },
  {
   "cell_type": "markdown",
   "id": "9f953d19-1790-4e37-9fab-4b15158afb78",
   "metadata": {},
   "source": [
    "### Extract intercensal estimates"
   ]
  },
  {
   "cell_type": "markdown",
   "id": "99e133f5-758e-48be-8bad-58b378ad6568",
   "metadata": {},
   "source": [
    "Create list of years from user-specified range."
   ]
  },
  {
   "cell_type": "code",
   "execution_count": null,
   "id": "e57e4c3f-d95f-40f7-bc4b-d7ea813029f5",
   "metadata": {},
   "outputs": [],
   "source": [
    "intercensalRange = list(range(INTERCENSAL_YEAR_RANGE[0], INTERCENSAL_YEAR_RANGE[1]+1))\n",
    "print(\"Including intercensal estimates for years: {}\".format(\", \".join([str(x) for x in intercensalRange])))"
   ]
  },
  {
   "cell_type": "markdown",
   "id": "37222e9b-db1c-4aa5-a110-62e89877542d",
   "metadata": {},
   "source": [
    "Extract intercensal data from combined table."
   ]
  },
  {
   "cell_type": "code",
   "execution_count": null,
   "id": "a30b33a3-5354-4864-8e7b-4e237ac7ef42",
   "metadata": {},
   "outputs": [],
   "source": [
    "intercensal = combinedPop.loc[combinedPop[\"SOURCE\"] == \"CENINT\"].copy()"
   ]
  },
  {
   "cell_type": "markdown",
   "id": "0b6bfb2a-ccf4-4f58-9e5d-21aab5d14cc6",
   "metadata": {},
   "source": [
    "Reference period and vintage period were stored as strings, but for intercensal estimates we can treat them as integers. Convert them now."
   ]
  },
  {
   "cell_type": "code",
   "execution_count": null,
   "id": "8ee6f18c-59b5-4529-b0e8-362116a58487",
   "metadata": {},
   "outputs": [],
   "source": [
    "intercensal = intercensal.astype({\n",
    "    \"REFERENCE_PERIOD\":\"int\",\n",
    "    \"VINTAGE_PERIOD\":\"int\"\n",
    "})"
   ]
  },
  {
   "cell_type": "markdown",
   "id": "39321204-c89e-4048-a6f6-6b31bd912082",
   "metadata": {},
   "source": [
    "Verify that data is available for the specified years."
   ]
  },
  {
   "cell_type": "code",
   "execution_count": null,
   "id": "9fc7cbbc-e717-43aa-ae10-696974bc08ad",
   "metadata": {},
   "outputs": [],
   "source": [
    "if(not set(intercensalRange).issubset(set(intercensal[\"REFERENCE_PERIOD\"]))):\n",
    "    print(\"ERROR | Set of intercensal years for which data is available does not match set derived from specified range.\")\n",
    "    print(\"Specified range: {}\".format(INTERCENSAL_YEAR_RANGE))\n",
    "    print(\"Specified set: {}\".format(set(intercensalRange)))\n",
    "    print(\"Available set: {}\".format(set(intercensal[\"REFERENCE_PERIOD\"])))\n",
    "    raise RuntimeError\n",
    "else:\n",
    "    print(\"INFO | Intercensal data is available for all years in specified range.\")"
   ]
  },
  {
   "cell_type": "markdown",
   "id": "3ad1a7e2-10e2-4fb0-bf80-564c89487c9e",
   "metadata": {},
   "source": [
    "Extract only the estimates for the specified years."
   ]
  },
  {
   "cell_type": "code",
   "execution_count": null,
   "id": "1b947e55-5db4-488f-be9f-a51ae8ac056e",
   "metadata": {},
   "outputs": [],
   "source": [
    "intercensal = morpc.extract_vintage(intercensal, refPeriods=intercensalRange)"
   ]
  },
  {
   "cell_type": "markdown",
   "id": "64aebcde-529f-4496-bb93-a46a3ad068eb",
   "metadata": {},
   "source": [
    "Verify that all reference periods are present and that there is only a single vintage for each reference period."
   ]
  },
  {
   "cell_type": "code",
   "execution_count": null,
   "id": "96f4dbc0-65b8-4fcf-90cc-ab28b652f35d",
   "metadata": {},
   "outputs": [],
   "source": [
    "for year in intercensal[\"REFERENCE_PERIOD\"].unique():\n",
    "    temp = intercensal.loc[intercensal[\"REFERENCE_PERIOD\"] == year]\n",
    "    print(\"{0}: {1}\".format(year, \",\".join(temp[\"VINTAGE_PERIOD\"].unique().astype(\"str\"))))"
   ]
  },
  {
   "cell_type": "markdown",
   "id": "23fd0a79-1dcf-43d3-a672-2ff2c1c8954f",
   "metadata": {},
   "source": [
    "Construct DATE field from reference period and reference period frequency."
   ]
  },
  {
   "cell_type": "code",
   "execution_count": null,
   "id": "be4b2b45-027f-4c1f-9f7e-64949be825cc",
   "metadata": {},
   "outputs": [],
   "source": [
    "if(intercensal[\"REFERENCE_PERIOD_FREQ\"].unique().shape[0] == 1):\n",
    "    freq = intercensal[\"REFERENCE_PERIOD_FREQ\"].iat[0]\n",
    "    print(\"INFO | Detected reference period frequency {}\".format(freq))\n",
    "else:\n",
    "    print(\"ERROR | Multiple reference period frequencies are not supported.\")\n",
    "    raise RuntimeError\n",
    "\n",
    "try:\n",
    "    # Hopefully this works properly with newer versions of pandas, but it has not been tested\n",
    "    periodIndex = pd.PeriodIndex(intercensal[\"REFERENCE_PERIOD\"]+1, freq=freq)\n",
    "except:\n",
    "    # This works with older versions of pandas. Note the +1 offset. For whatever reason, pandas converts 2000 Y-JUN (for example)\n",
    "    # to a timestamp of 1999-07-01 so we add one year to the reference period so the timestamp becomes 2000-07-01.\n",
    "    print(\"WARNING | Error occurred when attempting to create period index using 'Y-' format. Trying legacy 'A-' format.\")\n",
    "    periodIndex = pd.PeriodIndex(intercensal[\"REFERENCE_PERIOD\"]+1, freq=freq.replace(\"Y-\",\"A-\"))\n",
    "intercensal[\"DATE\"] = periodIndex.to_timestamp()"
   ]
  },
  {
   "cell_type": "markdown",
   "id": "c822fa4e-60af-448d-87c3-d3fb3f82ad4f",
   "metadata": {},
   "source": [
    "Show the data."
   ]
  },
  {
   "cell_type": "code",
   "execution_count": null,
   "id": "cb420e90-7d78-401f-ba80-12bd080d246e",
   "metadata": {
    "scrolled": true
   },
   "outputs": [],
   "source": [
    "intercensal.head()"
   ]
  },
  {
   "cell_type": "code",
   "execution_count": null,
   "id": "c3880dc1-9014-4dbd-9d03-02ab01c897cf",
   "metadata": {},
   "outputs": [],
   "source": [
    "extractedData.append(intercensal)"
   ]
  },
  {
   "cell_type": "markdown",
   "id": "48a82171-6443-48d2-96d2-1eb603e2ab0d",
   "metadata": {},
   "source": [
    "### Extract PEP estimates"
   ]
  },
  {
   "cell_type": "markdown",
   "id": "dada31ff-eb1e-47f7-b5c0-55cdae5507fc",
   "metadata": {},
   "source": [
    "Create list of years from user-specified range."
   ]
  },
  {
   "cell_type": "code",
   "execution_count": null,
   "id": "9289e48d-cf71-466f-95bd-31cb0f1a3b5e",
   "metadata": {},
   "outputs": [],
   "source": [
    "pepRange = list(range(PEP_YEAR_RANGE[0], PEP_YEAR_RANGE[1]+1))\n",
    "print(\"Including PEP estimates for years: {}\".format(\", \".join([str(x) for x in pepRange])))"
   ]
  },
  {
   "cell_type": "markdown",
   "id": "22618e91-fb3b-4376-964d-ab7703f95ce9",
   "metadata": {},
   "source": [
    "Extract PEP estimates from combined table."
   ]
  },
  {
   "cell_type": "code",
   "execution_count": null,
   "id": "dd2f9024-6736-403f-994f-249b119d441c",
   "metadata": {},
   "outputs": [],
   "source": [
    "pep = combinedPop.loc[combinedPop[\"SOURCE\"] == \"CENPEP\"].copy()"
   ]
  },
  {
   "cell_type": "markdown",
   "id": "3048b4f9-ae9f-4ad7-9840-9e9714850169",
   "metadata": {},
   "source": [
    "Reference period and vintage period were stored as strings, but for Census PEP estimates we can treat them as integers. Convert them now."
   ]
  },
  {
   "cell_type": "code",
   "execution_count": null,
   "id": "a72218b9-420b-49ad-8b0d-5869f0ab7b1c",
   "metadata": {},
   "outputs": [],
   "source": [
    "pep = pep.astype({\n",
    "    \"REFERENCE_PERIOD\":\"int\",\n",
    "    \"VINTAGE_PERIOD\":\"int\"\n",
    "})"
   ]
  },
  {
   "cell_type": "markdown",
   "id": "67cedaf3-6427-4382-95a7-eef7b048840a",
   "metadata": {},
   "source": [
    "Verify that data is available for the specified years."
   ]
  },
  {
   "cell_type": "code",
   "execution_count": null,
   "id": "d5fdc864-3c5b-42a2-ac99-ae22730d47b2",
   "metadata": {},
   "outputs": [],
   "source": [
    "if(not set(pepRange).issubset(set(pep[\"REFERENCE_PERIOD\"]))):\n",
    "    print(\"ERROR | Set of Census PEP years for which data is available does not match set derived from specified range.\")\n",
    "    print(\"Specified range: {}\".format(PEP_YEAR_RANGE))\n",
    "    print(\"Specified set: {}\".format(set(pepRange)))\n",
    "    print(\"Available set: {}\".format(set(pep[\"REFERENCE_PERIOD\"])))\n",
    "    raise RuntimeError\n",
    "else:\n",
    "    print(\"INFO | PEP data is available for all years in specified range.\")"
   ]
  },
  {
   "cell_type": "markdown",
   "id": "8e92a030-814e-41b1-94c9-e1dbfeecb516",
   "metadata": {},
   "source": [
    "Extract only the estimates for the specified years."
   ]
  },
  {
   "cell_type": "code",
   "execution_count": null,
   "id": "2f39d999-08cf-4b7e-96ce-7e08a1288fba",
   "metadata": {},
   "outputs": [],
   "source": [
    "pep = morpc.extract_vintage(pep, refPeriods=pepRange)"
   ]
  },
  {
   "cell_type": "markdown",
   "id": "7991917a-967f-4071-b93c-61831221b57b",
   "metadata": {},
   "source": [
    "Verify that all reference periods are present and that there is only a single vintage for each reference period."
   ]
  },
  {
   "cell_type": "code",
   "execution_count": null,
   "id": "fad56fe2-a50a-4773-b902-e3a530572ead",
   "metadata": {},
   "outputs": [],
   "source": [
    "for year in pep[\"REFERENCE_PERIOD\"].unique():\n",
    "    temp = pep.loc[pep[\"REFERENCE_PERIOD\"] == year]\n",
    "    print(\"{0}: {1}\".format(year, \",\".join(temp[\"VINTAGE_PERIOD\"].unique().astype(\"str\"))))"
   ]
  },
  {
   "cell_type": "markdown",
   "id": "491b4895-9bdd-497a-a7ba-844b2d3caf4e",
   "metadata": {},
   "source": [
    "Construct DATE field from reference period and reference period frequency."
   ]
  },
  {
   "cell_type": "code",
   "execution_count": null,
   "id": "9ff3c906-6e60-4427-b100-6367427565d1",
   "metadata": {},
   "outputs": [],
   "source": [
    "if(pep[\"REFERENCE_PERIOD_FREQ\"].unique().shape[0] == 1):\n",
    "    freq = pep[\"REFERENCE_PERIOD_FREQ\"].iat[0]\n",
    "    print(\"INFO | Detected reference period frequency {}\".format(freq))\n",
    "else:\n",
    "    print(\"ERROR | Multiple reference period frequencies are not supported.\")\n",
    "    raise RuntimeError\n",
    "\n",
    "try:\n",
    "    # Hopefully this works properly with newer versions of pandas, but it has not been tested\n",
    "    periodIndex = pd.PeriodIndex(pep[\"REFERENCE_PERIOD\"]+1, freq=freq)\n",
    "except:\n",
    "    # This works with older versions of pandas. Note the +1 offset. For whatever reason, pandas converts 2000 Y-JUN (for example)\n",
    "    # to a timestamp of 1999-07-01 so we add one year to the reference period so the timestamp becomes 2000-07-01.\n",
    "    print(\"WARNING | Error occurred when attempting to create period index using 'Y-' format. Trying legacy 'A-' format.\")\n",
    "    periodIndex = pd.PeriodIndex(pep[\"REFERENCE_PERIOD\"]+1, freq=freq.replace(\"Y-\",\"A-\"))\n",
    "pep[\"DATE\"] = periodIndex.to_timestamp()"
   ]
  },
  {
   "cell_type": "markdown",
   "id": "9a166db0-e265-4ada-bfa9-b14c4ac35f46",
   "metadata": {},
   "source": [
    "Show the data."
   ]
  },
  {
   "cell_type": "code",
   "execution_count": null,
   "id": "2130e38f-d6c4-48b6-932d-1c9a05882f22",
   "metadata": {
    "scrolled": true
   },
   "outputs": [],
   "source": [
    "pep.head()"
   ]
  },
  {
   "cell_type": "code",
   "execution_count": null,
   "id": "c27cc43e-5990-40c3-a8ac-007e58e306d0",
   "metadata": {},
   "outputs": [],
   "source": [
    "extractedData.append(pep)"
   ]
  },
  {
   "cell_type": "markdown",
   "id": "cf539ea7-aaff-4fae-9cd8-fb4302612f5f",
   "metadata": {},
   "source": [
    "### Extract MORPC county estimates"
   ]
  },
  {
   "cell_type": "markdown",
   "id": "689d2a39-7291-464c-8ce8-6e740f2a352f",
   "metadata": {},
   "source": [
    "Because county estimates and sub-county estimates are generated (and regenerated) at different times, it is necessary to process each separately. Start with county estimates."
   ]
  },
  {
   "cell_type": "markdown",
   "id": "1fa76b50-0a15-4508-ae2b-057543b72393",
   "metadata": {},
   "source": [
    "Create list of years from user-specified range."
   ]
  },
  {
   "cell_type": "code",
   "execution_count": null,
   "id": "7ab9e531-a671-43b4-b259-dc2935908e33",
   "metadata": {},
   "outputs": [],
   "source": [
    "morpcEstimatesRange = list(range(MORPC_ESTIMATE_YEAR_RANGE[0], MORPC_ESTIMATE_YEAR_RANGE[1]+1))\n",
    "print(\"Including MORPC estimates for years: {}\".format(\", \".join([str(x) for x in morpcEstimatesRange])))"
   ]
  },
  {
   "cell_type": "markdown",
   "id": "079300e6-f29a-49b2-a1ee-4074bfb4036f",
   "metadata": {},
   "source": [
    "Extract MORPC county estimates from combined table."
   ]
  },
  {
   "cell_type": "code",
   "execution_count": null,
   "id": "5c64f915-7fb2-4b5f-9a48-d2174b0ed770",
   "metadata": {},
   "outputs": [],
   "source": [
    "morpcCountyEstimates = combinedPop.loc[\n",
    "    (combinedPop[\"SOURCE\"] == \"MORPC\") & \n",
    "    (combinedPop[\"VALUE_TYPE\"] == \"ESTIMATE\") &\n",
    "    (combinedPop[\"GEO_TYPE\"] == \"COUNTY\")\n",
    "].copy()"
   ]
  },
  {
   "cell_type": "markdown",
   "id": "8942de3f-d902-4a2e-9b16-934add103612",
   "metadata": {},
   "source": [
    "Reference period and vintage period were stored as strings, but for MORPC estimates we can treat them as integers. Convert them now."
   ]
  },
  {
   "cell_type": "code",
   "execution_count": null,
   "id": "6d7ae42a-9944-4d0b-8fcd-62bb1c2652af",
   "metadata": {},
   "outputs": [],
   "source": [
    "morpcCountyEstimates = morpcCountyEstimates.astype({\n",
    "    \"REFERENCE_PERIOD\":\"int\",\n",
    "    \"VINTAGE_PERIOD\":\"int\"\n",
    "})"
   ]
  },
  {
   "cell_type": "markdown",
   "id": "f135e698-ceff-42f7-92ac-fec103ddce08",
   "metadata": {},
   "source": [
    "Verify that data is available for the specified years."
   ]
  },
  {
   "cell_type": "code",
   "execution_count": null,
   "id": "6dc78cc5-2dfa-4e86-a555-a9860cd4c232",
   "metadata": {},
   "outputs": [],
   "source": [
    "if(not set(morpcEstimatesRange).issubset(set(morpcCountyEstimates[\"REFERENCE_PERIOD\"]))):\n",
    "    print(\"ERROR | Set of MORPC estimate years for which data is available does not match set derived from specified range.\")\n",
    "    print(\"Specified range: {}\".format(MORPC_ESTIMATE_YEAR_RANGE))\n",
    "    print(\"Specified set: {}\".format(set(morpcEstimatesRange)))\n",
    "    print(\"Available set: {}\".format(set(morpcCountyEstimates[\"REFERENCE_PERIOD\"])))\n",
    "    raise RuntimeError\n",
    "else:\n",
    "    print(\"INFO | MORPC county estimates data is available for all years in specified range.\")"
   ]
  },
  {
   "cell_type": "markdown",
   "id": "c35004d6-7c85-44c4-aaa0-5cfd0c22b5c2",
   "metadata": {},
   "source": [
    "Extract only the estimates for the specified years."
   ]
  },
  {
   "cell_type": "code",
   "execution_count": null,
   "id": "4bef8084-6266-460a-a8a2-b14ad367ad00",
   "metadata": {},
   "outputs": [],
   "source": [
    "morpcCountyEstimates = morpc.extract_vintage(morpcCountyEstimates, refPeriods=morpcEstimatesRange)"
   ]
  },
  {
   "cell_type": "markdown",
   "id": "0e30f60e-949b-4b72-8b2b-ae071fc555d9",
   "metadata": {},
   "source": [
    "Verify that all reference periods are present and that there is only a single vintage for each reference period."
   ]
  },
  {
   "cell_type": "code",
   "execution_count": null,
   "id": "2e504aa8-f343-4010-a18a-2fea3b4e62b1",
   "metadata": {},
   "outputs": [],
   "source": [
    "for year in morpcCountyEstimates[\"REFERENCE_PERIOD\"].unique():\n",
    "    temp = morpcCountyEstimates.loc[morpcCountyEstimates[\"REFERENCE_PERIOD\"] == year]\n",
    "    print(\"{0}: {1}\".format(year, \",\".join(temp[\"VINTAGE_PERIOD\"].unique().astype(\"str\"))))"
   ]
  },
  {
   "cell_type": "markdown",
   "id": "e8591ee3-30e1-4132-a39f-3d446eb74962",
   "metadata": {},
   "source": [
    "Construct DATE field from reference period and reference period frequency."
   ]
  },
  {
   "cell_type": "code",
   "execution_count": null,
   "id": "591aa9f4-f19c-4f81-9f85-60bd57909dc3",
   "metadata": {},
   "outputs": [],
   "source": [
    "if(morpcCountyEstimates[\"REFERENCE_PERIOD_FREQ\"].unique().shape[0] == 1):\n",
    "    freq = morpcCountyEstimates[\"REFERENCE_PERIOD_FREQ\"].iat[0]\n",
    "    print(\"INFO | Detected reference period frequency {}\".format(freq))\n",
    "else:\n",
    "    print(\"ERROR | Multiple reference period frequencies are not supported.\")\n",
    "    raise RuntimeError\n",
    "\n",
    "try:\n",
    "    # Hopefully this works properly with newer versions of pandas, but it has not been tested\n",
    "    periodIndex = pd.PeriodIndex(morpcCountyEstimates[\"REFERENCE_PERIOD\"], freq=freq)\n",
    "except:\n",
    "    # This works with older versions of pandas.\n",
    "    print(\"WARNING | Error occurred when attempting to create period index using 'Y-' format. Trying legacy 'A-' format.\")\n",
    "    periodIndex = pd.PeriodIndex(morpcCountyEstimates[\"REFERENCE_PERIOD\"], freq=freq.replace(\"Y-\",\"A-\"))\n",
    "morpcCountyEstimates[\"DATE\"] = periodIndex.to_timestamp()"
   ]
  },
  {
   "cell_type": "markdown",
   "id": "9ee3210e-0072-4da5-b4df-028e32ccee5c",
   "metadata": {},
   "source": [
    "Show the data."
   ]
  },
  {
   "cell_type": "code",
   "execution_count": null,
   "id": "8a6e602e-6a02-438c-979e-4733ab23fdb7",
   "metadata": {},
   "outputs": [],
   "source": [
    "morpcCountyEstimates.head()"
   ]
  },
  {
   "cell_type": "code",
   "execution_count": null,
   "id": "f84aca41-bf1d-4076-ac02-4b361a6b9a04",
   "metadata": {},
   "outputs": [],
   "source": [
    "extractedData.append(morpcCountyEstimates)"
   ]
  },
  {
   "cell_type": "markdown",
   "id": "bc9368cc-95a5-4441-a9a9-ecbb7200e251",
   "metadata": {},
   "source": [
    "### Extract MORPC sub-county estimates"
   ]
  },
  {
   "cell_type": "markdown",
   "id": "d6db1839-c5d1-451a-90ad-58f76fcc8ce3",
   "metadata": {},
   "source": [
    "Because county estimates and sub-county estimates are generated (and regenerated) at different times, it is necessary to process each separately."
   ]
  },
  {
   "cell_type": "markdown",
   "id": "58a93e15-4940-4f32-b980-3c7866757638",
   "metadata": {},
   "source": [
    "Create list of years from user-specified range."
   ]
  },
  {
   "cell_type": "code",
   "execution_count": null,
   "id": "58befcae-3a1d-4ee4-ad01-9daf86d4310b",
   "metadata": {},
   "outputs": [],
   "source": [
    "morpcEstimatesRange = list(range(MORPC_ESTIMATE_YEAR_RANGE[0], MORPC_ESTIMATE_YEAR_RANGE[1]+1))\n",
    "print(\"Including MORPC estimates for years: {}\".format(\", \".join([str(x) for x in morpcEstimatesRange])))"
   ]
  },
  {
   "cell_type": "markdown",
   "id": "171c0af9-cfb0-44ab-920c-7204213152c7",
   "metadata": {},
   "source": [
    "Extract MORPC county estimates from combined table."
   ]
  },
  {
   "cell_type": "code",
   "execution_count": null,
   "id": "f78bbcb8-efdc-4b4b-a4fe-793c4e17b639",
   "metadata": {},
   "outputs": [],
   "source": [
    "morpcSubCountyEstimates = combinedPop.loc[\n",
    "    (combinedPop[\"SOURCE\"] == \"MORPC\") & \n",
    "    (combinedPop[\"VALUE_TYPE\"] == \"ESTIMATE\") &\n",
    "    (combinedPop[\"GEO_TYPE\"] != \"COUNTY\")\n",
    "].copy()"
   ]
  },
  {
   "cell_type": "markdown",
   "id": "dbca40cd-cd09-429b-96af-d4a474793ce9",
   "metadata": {},
   "source": [
    "Reference period and vintage period were stored as strings, but for MORPC estimates we can treat them as integers. Convert them now."
   ]
  },
  {
   "cell_type": "code",
   "execution_count": null,
   "id": "8511f3af-e1de-4b80-85f5-b443b961e188",
   "metadata": {},
   "outputs": [],
   "source": [
    "morpcSubCountyEstimates = morpcSubCountyEstimates.astype({\n",
    "    \"REFERENCE_PERIOD\":\"int\",\n",
    "    \"VINTAGE_PERIOD\":\"int\"\n",
    "})"
   ]
  },
  {
   "cell_type": "markdown",
   "id": "db4d9d08-5d91-4502-9f11-c846dd2e6b5a",
   "metadata": {},
   "source": [
    "Verify that data is available for the specified years."
   ]
  },
  {
   "cell_type": "code",
   "execution_count": null,
   "id": "066a6f81-01cc-43e5-88fd-f48297b2dc2d",
   "metadata": {},
   "outputs": [],
   "source": [
    "if(not set(morpcEstimatesRange).issubset(set(morpcSubCountyEstimates[\"REFERENCE_PERIOD\"]))):\n",
    "    print(\"ERROR | Set of MORPC estimate years for which data is available does not match set derived from specified range.\")\n",
    "    print(\"Specified range: {}\".format(MORPC_ESTIMATE_YEAR_RANGE))\n",
    "    print(\"Specified set: {}\".format(set(morpcEstimatesRange)))\n",
    "    print(\"Available set: {}\".format(set(morpcSubCountyEstimates[\"REFERENCE_PERIOD\"])))\n",
    "    raise RuntimeError\n",
    "else:\n",
    "    print(\"INFO | MORPC sub-county estimates data is available for all years in specified range.\")"
   ]
  },
  {
   "cell_type": "markdown",
   "id": "8a6300e2-f233-4bb5-83ec-a7a79d93921e",
   "metadata": {},
   "source": [
    "Extract only the estimates for the specified years."
   ]
  },
  {
   "cell_type": "code",
   "execution_count": null,
   "id": "a17afe2c-f7e3-4d6b-b96a-e94f0ad8c3b1",
   "metadata": {},
   "outputs": [],
   "source": [
    "morpcSubCountyEstimates = morpc.extract_vintage(morpcSubCountyEstimates, refPeriods=morpcEstimatesRange)"
   ]
  },
  {
   "cell_type": "markdown",
   "id": "37438ea5-738f-48df-a077-238a9e41df7a",
   "metadata": {},
   "source": [
    "Verify that all reference periods are present and that there is only a single vintage for each reference period."
   ]
  },
  {
   "cell_type": "code",
   "execution_count": null,
   "id": "62469fd1-5d5f-43e0-955e-6650f1902566",
   "metadata": {},
   "outputs": [],
   "source": [
    "for year in morpcSubCountyEstimates[\"REFERENCE_PERIOD\"].unique():\n",
    "    temp = morpcSubCountyEstimates.loc[morpcSubCountyEstimates[\"REFERENCE_PERIOD\"] == year]\n",
    "    print(\"{0}: {1}\".format(year, \",\".join(temp[\"VINTAGE_PERIOD\"].unique().astype(\"str\"))))"
   ]
  },
  {
   "cell_type": "markdown",
   "id": "bf640742-b83b-4601-9ba1-449a94fa9172",
   "metadata": {},
   "source": [
    "Construct DATE field from reference period and reference period frequency."
   ]
  },
  {
   "cell_type": "code",
   "execution_count": null,
   "id": "b61f8beb-b3ec-4d42-939c-dd669a199a41",
   "metadata": {},
   "outputs": [],
   "source": [
    "if(morpcSubCountyEstimates[\"REFERENCE_PERIOD_FREQ\"].unique().shape[0] == 1):\n",
    "    freq = morpcSubCountyEstimates[\"REFERENCE_PERIOD_FREQ\"].iat[0]\n",
    "    print(\"INFO | Detected reference period frequency {}\".format(freq))\n",
    "else:\n",
    "    print(\"ERROR | Multiple reference period frequencies are not supported.\")\n",
    "    raise RuntimeError\n",
    "\n",
    "try:\n",
    "    # Hopefully this works properly with newer versions of pandas, but it has not been tested\n",
    "    periodIndex = pd.PeriodIndex(morpcSubCountyEstimates[\"REFERENCE_PERIOD\"], freq=freq)\n",
    "except:\n",
    "    # This works with older versions of pandas.\n",
    "    print(\"WARNING | Error occurred when attempting to create period index using 'Y-' format. Trying legacy 'A-' format.\")\n",
    "    periodIndex = pd.PeriodIndex(morpcSubCountyEstimates[\"REFERENCE_PERIOD\"], freq=freq.replace(\"Y-\",\"A-\"))\n",
    "morpcSubCountyEstimates[\"DATE\"] = periodIndex.to_timestamp()"
   ]
  },
  {
   "cell_type": "markdown",
   "id": "5e6fd069-1fc5-4e47-be7d-9a9eae0cacc2",
   "metadata": {},
   "source": [
    "Show the data."
   ]
  },
  {
   "cell_type": "code",
   "execution_count": null,
   "id": "0f311e13-035a-4e0a-b392-512f9ab1d79b",
   "metadata": {},
   "outputs": [],
   "source": [
    "morpcSubCountyEstimates.head()"
   ]
  },
  {
   "cell_type": "code",
   "execution_count": null,
   "id": "c820c7ae-479b-45d3-9536-d2927f3fbf7f",
   "metadata": {},
   "outputs": [],
   "source": [
    "extractedData.append(morpcSubCountyEstimates)"
   ]
  },
  {
   "cell_type": "markdown",
   "id": "676841d4-b8a0-499f-b3be-3b10c3df0165",
   "metadata": {},
   "source": [
    "### Extract MORPC forecasts"
   ]
  },
  {
   "cell_type": "markdown",
   "id": "a40c97aa-e754-4f0f-bc93-4594c9160d5e",
   "metadata": {},
   "source": [
    "Create list of years from user-specified range."
   ]
  },
  {
   "cell_type": "code",
   "execution_count": null,
   "id": "66c4cb8e-b304-4411-ada5-e20d7a40a3de",
   "metadata": {},
   "outputs": [],
   "source": [
    "morpcForecastsRange = list(range(MORPC_FORECAST_YEAR_RANGE[0], MORPC_FORECAST_YEAR_RANGE[1]+1, MORPC_FORECAST_YEAR_INTERVAL))\n",
    "print(\"Including MORPC forecasts for years: {}\".format(\", \".join([str(x) for x in morpcForecastsRange])))"
   ]
  },
  {
   "cell_type": "markdown",
   "id": "1e6a0a53-fee2-4cb9-9160-f66919544122",
   "metadata": {},
   "source": [
    "Extract MORPC forecasts from combined table."
   ]
  },
  {
   "cell_type": "code",
   "execution_count": null,
   "id": "e50575a5-771b-4d1c-bd9b-7c4851398586",
   "metadata": {},
   "outputs": [],
   "source": [
    "morpcForecasts = combinedPop.loc[(combinedPop[\"SOURCE\"] == \"MORPC\") & (combinedPop[\"VALUE_TYPE\"] == \"FORECAST\")].copy()"
   ]
  },
  {
   "cell_type": "markdown",
   "id": "61dbed50-a132-4d36-8cf3-0aba1ded94c3",
   "metadata": {},
   "source": [
    "Reference period and vintage period were stored as strings, but for MORPC forecasts we can treat them as integers. Convert them now."
   ]
  },
  {
   "cell_type": "code",
   "execution_count": null,
   "id": "e0199fd4-9e9a-40eb-a51f-393a4efe8da0",
   "metadata": {},
   "outputs": [],
   "source": [
    "morpcForecasts = morpcForecasts.astype({\n",
    "    \"REFERENCE_PERIOD\":\"int\",\n",
    "    \"VINTAGE_PERIOD\":\"int\"\n",
    "})"
   ]
  },
  {
   "cell_type": "markdown",
   "id": "9b322323-2ec9-468c-9691-6b63975392bf",
   "metadata": {},
   "source": [
    "Verify that data is available for the specified years."
   ]
  },
  {
   "cell_type": "code",
   "execution_count": null,
   "id": "12b08bca-45d0-4999-91f0-ac6e5b82be8f",
   "metadata": {},
   "outputs": [],
   "source": [
    "if(not set(morpcForecastsRange).issubset(set(morpcForecasts[\"REFERENCE_PERIOD\"]))):\n",
    "    print(\"ERROR | Set of MORPC forecast years for which data is available does not match set derived from specified range.\")\n",
    "    print(\"Specified range: {}\".format(MORPC_FORECAST_YEAR_RANGE))\n",
    "    print(\"Specified set: {}\".format(set(morpcForecastsRange)))\n",
    "    print(\"Available set: {}\".format(set(morpcForecasts[\"REFERENCE_PERIOD\"])))\n",
    "    raise RuntimeError\n",
    "else:\n",
    "    print(\"INFO | MORPC forecasts data is available for all years in specified range.\")"
   ]
  },
  {
   "cell_type": "markdown",
   "id": "27cb31a2-e02b-4379-a56b-8c6d2ceedd86",
   "metadata": {},
   "source": [
    "Extract only the estimates for the specified years.  The forecasts for different geographies come from different sources, so it is necessary to extract the latest vintage separately for each geography type."
   ]
  },
  {
   "cell_type": "code",
   "execution_count": null,
   "id": "ddf0d13e-f105-4cb6-b25e-609ebf12def9",
   "metadata": {},
   "outputs": [],
   "source": [
    "extractIndex = []\n",
    "for group in morpcForecasts[\"GEO_TYPE\"].unique():\n",
    "    temp = morpcForecasts.loc[morpcForecasts[\"GEO_TYPE\"] == group].copy()\n",
    "    temp = morpc.extract_vintage(temp, refPeriods=morpcForecastsRange)\n",
    "    extractIndex += list(temp.index)\n",
    "morpcForecasts = morpcForecasts.loc[extractIndex].copy()"
   ]
  },
  {
   "cell_type": "markdown",
   "id": "578f3bb5-c9e9-42b9-8cb3-f2c8eab68298",
   "metadata": {},
   "source": [
    "For each geography type, verify that all reference periods are present and that there is only a single vintage for each reference period."
   ]
  },
  {
   "cell_type": "code",
   "execution_count": null,
   "id": "616b8131-53b7-4c34-b003-63068bdf79b2",
   "metadata": {},
   "outputs": [],
   "source": [
    "for group in morpcForecasts[\"GEO_TYPE\"].unique():\n",
    "    print(group)\n",
    "    for year in morpcForecasts[\"REFERENCE_PERIOD\"].unique():\n",
    "        temp = morpcForecasts.loc[(morpcForecasts[\"REFERENCE_PERIOD\"] == year) & (morpcForecasts[\"GEO_TYPE\"] == group)]\n",
    "        print(\"{0}: {1}\".format(year, \",\".join(temp[\"VINTAGE_PERIOD\"].unique().astype(\"str\"))))"
   ]
  },
  {
   "cell_type": "markdown",
   "id": "0c59aa7e-d1e7-4a9b-aa0d-6a578f911b4a",
   "metadata": {},
   "source": [
    "Construct DATE field from reference period and reference period frequency."
   ]
  },
  {
   "cell_type": "code",
   "execution_count": null,
   "id": "5fb17065-f3fa-4c67-b9bc-45e5b564ce42",
   "metadata": {},
   "outputs": [],
   "source": [
    "if(morpcForecasts[\"REFERENCE_PERIOD_FREQ\"].unique().shape[0] == 1):\n",
    "    freq = morpcForecasts[\"REFERENCE_PERIOD_FREQ\"].iat[0]\n",
    "    print(\"INFO | Detected reference period frequency {}\".format(freq))\n",
    "else:\n",
    "    print(\"ERROR | Multiple reference period frequencies are not supported.\")\n",
    "    raise RuntimeError\n",
    "\n",
    "try:\n",
    "    # Hopefully this works properly with newer versions of pandas, but it has not been tested\n",
    "    periodIndex = pd.PeriodIndex(morpcForecasts[\"REFERENCE_PERIOD\"]+1, freq=freq)\n",
    "except:\n",
    "    # This works with older versions of pandas. Note the +1 offset. For whatever reason, pandas converts 2000 Y-JUN (for example)\n",
    "    # to a timestamp of 1999-07-01 so we add one year to the reference period so the timestamp becomes 2000-07-01.\n",
    "    print(\"WARNING | Error occurred when attempting to create period index using 'Y-' format. Trying legacy 'A-' format.\")\n",
    "    periodIndex = pd.PeriodIndex(morpcForecasts[\"REFERENCE_PERIOD\"]+1, freq=freq.replace(\"Y-\",\"A-\"))\n",
    "morpcForecasts[\"DATE\"] = periodIndex.to_timestamp()"
   ]
  },
  {
   "cell_type": "markdown",
   "id": "e8bf5c08-c776-4eab-9042-2f1612911b8c",
   "metadata": {},
   "source": [
    "Show the data."
   ]
  },
  {
   "cell_type": "code",
   "execution_count": null,
   "id": "67d2c497-00ca-452c-a0b6-bdff1558c562",
   "metadata": {},
   "outputs": [],
   "source": [
    "morpcForecasts.head()"
   ]
  },
  {
   "cell_type": "code",
   "execution_count": null,
   "id": "ebc7ec01-d5e0-48b9-a1b6-72eb46a13180",
   "metadata": {},
   "outputs": [],
   "source": [
    "extractedData.append(morpcForecasts)"
   ]
  },
  {
   "cell_type": "markdown",
   "id": "3bda147f-d58c-4e18-b422-03168036959e",
   "metadata": {},
   "source": [
    "### Combine extracted data"
   ]
  },
  {
   "cell_type": "code",
   "execution_count": null,
   "id": "28d91aec-cd58-465d-8f10-ba44de05d9de",
   "metadata": {},
   "outputs": [],
   "source": [
    "combinedData = pd.concat(extractedData, axis=\"index\")"
   ]
  },
  {
   "cell_type": "code",
   "execution_count": null,
   "id": "83f425b6-bf82-4dc1-987c-003d74672313",
   "metadata": {
    "scrolled": true
   },
   "outputs": [],
   "source": [
    "combinedData"
   ]
  },
  {
   "cell_type": "markdown",
   "id": "14bf139e-6f98-40f0-b8ae-4062705f1791",
   "metadata": {},
   "source": [
    "### Compute totals for 15-county region"
   ]
  },
  {
   "cell_type": "code",
   "execution_count": null,
   "id": "5ea42a00-995d-46ff-a936-366b47cde4c4",
   "metadata": {},
   "outputs": [],
   "source": [
    "regionTotals = combinedData.copy()\n",
    "regionTotals[\"SUMLEVEL\"] = regionTotals[\"GEOIDFQ\"].apply(lambda x:x[0:3])\n",
    "regionTotals = regionTotals.loc[regionTotals[\"SUMLEVEL\"] == morpc.SUMLEVEL_LOOKUP[\"COUNTY\"]].copy().drop(columns=\"SUMLEVEL\")\n",
    "regionTotals = regionTotals.drop(columns=[\"GEOIDFQ\",\"GEO_TYPE\",\"SOURCE\",\"CONF_LEVEL\"]).groupby([\"REFERENCE_PERIOD\",\"DATE\"]).agg({\n",
    "    \"POP\":\"sum\",\n",
    "    \"REFERENCE_PERIOD_FREQ\":\"first\",\n",
    "    \"VINTAGE_PERIOD\":\"first\",\n",
    "    \"VINTAGE_PERIOD_FREQ\":\"first\",\n",
    "    \"VALUE_TYPE\":\"first\",\n",
    "    \"CONF_LIMIT_UPPER\":\"sum\",\n",
    "    \"CONF_LIMIT_LOWER\":\"sum\"\n",
    "}).reset_index()\n",
    "regionTotals[\"GEOIDFQ\"] = \"M010000US001\"\n",
    "regionTotals[\"GEO_TYPE\"] = morpc.HIERARCHY_STRING_LOOKUP[\"M01\"]\n",
    "regionTotals[\"SOURCE\"] = \"MORPC\"\n",
    "regionTotals.loc[regionTotals[\"VALUE_TYPE\"] == \"ESTIMATE\", [\"CONF_LIMIT_UPPER\",\"CONF_LIMIT_LOWER\"]] = None\n",
    "regionTotals[\"CONF_LEVEL\"] = None\n",
    "regionTotals[\"CONF_LEVEL\"] = regionTotals[\"CONF_LEVEL\"].astype(\"float\")\n",
    "regionTotals.head()"
   ]
  },
  {
   "cell_type": "code",
   "execution_count": null,
   "id": "b7b82ebe-90d0-43b9-99ca-9b16e49eb8f7",
   "metadata": {},
   "outputs": [],
   "source": [
    "combinedData = pd.concat([combinedData, regionTotals], axis=\"index\")"
   ]
  },
  {
   "cell_type": "markdown",
   "id": "79187ac1-6a8d-45df-876d-8cca918b0c3b",
   "metadata": {},
   "source": [
    "### Reformat combined data for output"
   ]
  },
  {
   "cell_type": "markdown",
   "id": "9aca51c0-2fda-4a24-b627-d492b603e9f9",
   "metadata": {},
   "source": [
    "Create a working dataframe to prepare for export."
   ]
  },
  {
   "cell_type": "code",
   "execution_count": null,
   "id": "4ff6444a-a1ae-4e61-96d4-202d8d38ad83",
   "metadata": {},
   "outputs": [],
   "source": [
    "insightsPop = combinedData.copy()"
   ]
  },
  {
   "cell_type": "markdown",
   "id": "0cc7299d-d889-4a9a-83e7-cd12011e1947",
   "metadata": {},
   "source": [
    "Merge the geography name, sumlevel, and county FIPS code from the geography lookup table, aligning on fully-qualified GEOID."
   ]
  },
  {
   "cell_type": "code",
   "execution_count": null,
   "id": "378c3a03-9b91-4cb6-84db-e7b3fd263c28",
   "metadata": {},
   "outputs": [],
   "source": [
    "insightsPop = insightsPop.merge(geoLookup.reset_index()[[\"GEOIDFQ\",\"NAME\",\"SUMLEVEL\",\"COUNTYFP\"]], on=\"GEOIDFQ\")"
   ]
  },
  {
   "cell_type": "markdown",
   "id": "50ae4779-9571-4fa9-98ff-afb078479a05",
   "metadata": {},
   "source": [
    "Add a suffix to township names that includes the word \"township\" and the name of the county where they are located.  This is necessary to differentiate them from places and to disambiguate townships having the same name in different counties."
   ]
  },
  {
   "cell_type": "code",
   "execution_count": null,
   "id": "28f844c4-4ee5-427b-a627-12eca0d1e4e5",
   "metadata": {},
   "outputs": [],
   "source": [
    "townshipsTemp = insightsPop.loc[insightsPop[\"SUMLEVEL\"] == morpc.SUMLEVEL_LOOKUP[\"COUNTY-TOWNSHIP-REMAINDER\"]].copy()\n",
    "townshipsTemp[\"COUNTYID\"] = \"39\"+townshipsTemp[\"COUNTYFP\"]\n",
    "townshipsTemp[\"COUNTY\"] = townshipsTemp[\"COUNTYID\"].map(morpc.CONST_COUNTY_ID_TO_NAME)\n",
    "townshipsTemp[\"NAME\"] = townshipsTemp[\"NAME\"] + \" Township (\" + townshipsTemp[\"COUNTY\"] + \")\" \n",
    "insightsPop.update(townshipsTemp, overwrite=True)"
   ]
  },
  {
   "cell_type": "markdown",
   "id": "8b9eda80-632c-4109-bf51-88e3e3d83ac0",
   "metadata": {},
   "source": [
    "Add a suffix to county names that includes the word \"County\". This is necessary to differentiate them from places and townships that have the same name."
   ]
  },
  {
   "cell_type": "code",
   "execution_count": null,
   "id": "bc78979f-653d-46e2-8f04-8ddcefda904a",
   "metadata": {},
   "outputs": [],
   "source": [
    "countyTemp = insightsPop.loc[insightsPop[\"SUMLEVEL\"] == morpc.SUMLEVEL_LOOKUP[\"COUNTY\"]].copy()\n",
    "countyTemp[\"NAME\"] = countyTemp[\"NAME\"] + \" County\"\n",
    "insightsPop.update(countyTemp, overwrite=True)"
   ]
  },
  {
   "cell_type": "markdown",
   "id": "ff9df535-ba82-45a0-b4d3-d4ec63de1f85",
   "metadata": {},
   "source": [
    "Extract only the required fields."
   ]
  },
  {
   "cell_type": "code",
   "execution_count": null,
   "id": "f3a72908-782e-4c09-844b-3b2ba95d2e37",
   "metadata": {},
   "outputs": [],
   "source": [
    "insightsPop = insightsPop.filter(items=[\"POP\",\"GEOIDFQ\",\"GEO_TYPE\",\"NAME\",\"DATE\",\"VALUE_TYPE\",\"CONF_LIMIT_UPPER\",\"CONF_LIMIT_LOWER\",\"SOURCE\",\"VINTAGE_PERIOD\"], axis=\"columns\")"
   ]
  },
  {
   "cell_type": "markdown",
   "id": "e6e50ad4-e430-4b3b-a05d-406654d16157",
   "metadata": {},
   "source": [
    "Split estimates and forecasts into separate columns."
   ]
  },
  {
   "cell_type": "code",
   "execution_count": null,
   "id": "1ac7e34e-9200-459f-ae79-822fb87c01a2",
   "metadata": {},
   "outputs": [],
   "source": [
    "insightsPop = insightsPop.pivot(index=[\"GEOIDFQ\",\"GEO_TYPE\",\"NAME\",\"DATE\",\"CONF_LIMIT_UPPER\",\"CONF_LIMIT_LOWER\",\"SOURCE\",\"VINTAGE_PERIOD\"], columns=\"VALUE_TYPE\", values=\"POP\").reset_index()"
   ]
  },
  {
   "cell_type": "markdown",
   "id": "cb28ab7d-94c1-4a98-8ab5-c0bec39f499e",
   "metadata": {},
   "source": [
    "Give the columns more human-friendly names."
   ]
  },
  {
   "cell_type": "code",
   "execution_count": null,
   "id": "c8486c09-f2b1-4964-a29f-c33565994037",
   "metadata": {},
   "outputs": [],
   "source": [
    "insightsPop = insightsPop.rename(columns={\n",
    "    \"NAME\":\"Name\",\n",
    "    \"GEO_TYPE\":\"Geography type\",\n",
    "    \"DATE\":\"Date\",\n",
    "    \"ESTIMATE\":\"Historical\",\n",
    "    \"FORECAST\":\"Forecast\",\n",
    "    \"CONF_LIMIT_UPPER\":\"Confidence limit (upper)\",\n",
    "    \"CONF_LIMIT_LOWER\":\"Confidence limit (lower)\",\n",
    "    \"SOURCE\":\"Source\",\n",
    "    \"VINTAGE_PERIOD\":\"Vintage year\"\n",
    "})"
   ]
  },
  {
   "cell_type": "markdown",
   "id": "10707d3e-a1d5-4b4a-af01-377c4f7441c5",
   "metadata": {},
   "source": [
    "Extract only the fields listed in the schema (should just be a precaution)."
   ]
  },
  {
   "cell_type": "code",
   "execution_count": null,
   "id": "600200a0-196c-456b-82db-0388f755bac5",
   "metadata": {},
   "outputs": [],
   "source": [
    "insightsPop = insightsPop.filter(items=insightsPopSchema.field_names, axis=\"columns\")"
   ]
  },
  {
   "cell_type": "markdown",
   "id": "9947dd8f-ad8a-4057-b50c-b430db7ede3e",
   "metadata": {},
   "source": [
    "Make sure the fields all have the data type expected by the schema."
   ]
  },
  {
   "cell_type": "code",
   "execution_count": null,
   "id": "49f7ebbb-4a59-49d5-ad56-348d51348d31",
   "metadata": {
    "scrolled": true
   },
   "outputs": [],
   "source": [
    "insightsPop = morpc.cast_field_types(insightsPop, insightsPopSchema)"
   ]
  },
  {
   "cell_type": "markdown",
   "id": "6ae5242f-92de-49e1-a32d-32ff1e441f32",
   "metadata": {},
   "source": [
    "Sort the values by geography type, then name, then date."
   ]
  },
  {
   "cell_type": "code",
   "execution_count": null,
   "id": "5a7a6342-405d-42b0-a59a-d1e3a4c77962",
   "metadata": {},
   "outputs": [],
   "source": [
    "insightsPop = insightsPop.sort_values([\"Geography type\",\"Name\",\"Date\"])"
   ]
  },
  {
   "cell_type": "markdown",
   "id": "fab0d641-dbdf-42c3-9ecf-961747e70616",
   "metadata": {},
   "source": [
    "Inspect the data."
   ]
  },
  {
   "cell_type": "code",
   "execution_count": null,
   "id": "d8d76454-6ced-461c-9af1-ab007244d160",
   "metadata": {},
   "outputs": [],
   "source": [
    "insightsPop.head()"
   ]
  },
  {
   "cell_type": "markdown",
   "id": "79d88ee4-c7f3-402f-bd87-d450f2dcf947",
   "metadata": {},
   "source": [
    "### Suppress select data"
   ]
  },
  {
   "cell_type": "markdown",
   "id": "5a7cbfa9-0bb7-4048-bfe0-bd4c1002b72f",
   "metadata": {},
   "source": [
    "#### Suppress forecasts for small communties"
   ]
  },
  {
   "cell_type": "markdown",
   "id": "9fbfac7b-aab1-4a2b-94ab-89dfe5611d4d",
   "metadata": {},
   "source": [
    "Suppress forecasts for communities whose historical population is below the threshold defined in FORECAST_POP_THRESHOLD.  Actually, the intent here is to exclude communities that have small geographies because of the potential for error when reapportioning GridMAZ values.  This would probably benefit from a more rigorous method."
   ]
  },
  {
   "cell_type": "code",
   "execution_count": null,
   "id": "3d13c108-25d4-41dc-a53d-3da46ee8a161",
   "metadata": {},
   "outputs": [],
   "source": [
    "maxPop = insightsPop[[\"GEOIDFQ\",\"Historical\"]].groupby(\"GEOIDFQ\").max().max(axis=\"columns\")\n",
    "noForecastGeoids = maxPop.loc[maxPop < FORECAST_POP_THRESHOLD].index\n",
    "noForecastIndex = insightsPop.loc[insightsPop[\"GEOIDFQ\"].isin(noForecastGeoids)].index\n",
    "print(\"Forecasts will not be included for {} communities whose historical population is below the threshold ({}).\".format(len(noForecastGeoids), FORECAST_POP_THRESHOLD))"
   ]
  },
  {
   "cell_type": "markdown",
   "id": "b81e9589-e290-46e1-a502-3a6188b50025",
   "metadata": {},
   "source": [
    "Show the largest communities whose forecasts will not be included."
   ]
  },
  {
   "cell_type": "code",
   "execution_count": null,
   "id": "4617b78d-c45e-45a1-8afd-498d45761c24",
   "metadata": {},
   "outputs": [],
   "source": [
    "temp = insightsPop.groupby(\"GEOIDFQ\").agg({\n",
    "    \"Name\":\"first\",\n",
    "    \"Geography type\":\"first\",\n",
    "    \"Historical\":\"max\"\n",
    "}).reset_index()\n",
    "temp.loc[temp[\"GEOIDFQ\"].isin(noForecastGeoids)].sort_values(\"Historical\", ascending=False).head(10)"
   ]
  },
  {
   "cell_type": "markdown",
   "id": "dbf5ed58-3b59-409d-9ec4-ba8216e2e0bb",
   "metadata": {},
   "source": [
    "Suppress the data."
   ]
  },
  {
   "cell_type": "code",
   "execution_count": null,
   "id": "21a4f899-fbc8-4351-813f-50e391c447b0",
   "metadata": {},
   "outputs": [],
   "source": [
    "insightsPop = insightsPop.drop(index=noForecastIndex)"
   ]
  },
  {
   "cell_type": "markdown",
   "id": "1c82645f-7bf7-493f-b0f4-2ac80f867721",
   "metadata": {},
   "source": [
    "#### Suppress all data for very low population communities"
   ]
  },
  {
   "cell_type": "markdown",
   "id": "897b7699-e013-42f6-b9b8-aae6e35e461a",
   "metadata": {},
   "source": [
    "Suppress all data for communities smaller than the threshold defined in INCLUSION_POP_THRESHOLD.  This will achieve two things: it will eliminate communities whose estimates may embody a large margin of error and it will eliminate communities on the border of the region whose population mostly live outside of the region.  This would probably benefit from a more rigorous method."
   ]
  },
  {
   "cell_type": "code",
   "execution_count": null,
   "id": "2e147ce8-5bb4-4c74-8e68-c276bbb0ac5b",
   "metadata": {
    "scrolled": true
   },
   "outputs": [],
   "source": [
    "minPop = insightsPop[[\"GEOIDFQ\",\"Historical\",\"Forecast\"]].groupby(\"GEOIDFQ\").min().min(axis=\"columns\")\n",
    "excludeGeoids = minPop.loc[minPop < INCLUSION_POP_THRESHOLD].index\n",
    "excludeIndex = insightsPop.loc[insightsPop[\"GEOIDFQ\"].isin(excludeGeoids)].index\n",
    "print(\"No data will be included for {} communities whose historical population is below the threshold ({})\".format(len(excludeGeoids), INCLUSION_POP_THRESHOLD))"
   ]
  },
  {
   "cell_type": "markdown",
   "id": "94530a6c-a37f-472b-8e1c-698cafe515f4",
   "metadata": {},
   "source": [
    "Show the largest communities which will not be included. Note that the maximum population is shown and that this can be greater than the threshold. The minimum historical population was used for the comparison.  When large discrepancies are apparent, this is typically because the place is on the edge of the region (e.g. Galion). In this case, the census estimates account for the entire place and the MORPC estimate accounts for only the portion within the region.  Ideally we would fix this in upstream processes."
   ]
  },
  {
   "cell_type": "code",
   "execution_count": null,
   "id": "931bde13-c7c1-4950-a520-fcd71f5d45da",
   "metadata": {},
   "outputs": [],
   "source": [
    "temp = insightsPop.groupby(\"GEOIDFQ\").agg({\n",
    "    \"Name\":\"first\",\n",
    "    \"Geography type\":\"first\",\n",
    "    \"Historical\":\"max\"\n",
    "}).reset_index()\n",
    "temp.loc[temp[\"GEOIDFQ\"].isin(excludeGeoids)].sort_values(\"Historical\", ascending=False).head(10)"
   ]
  },
  {
   "cell_type": "markdown",
   "id": "2672f141-3c6d-44c4-bd02-e85dbd822331",
   "metadata": {},
   "source": [
    "Suppress the data."
   ]
  },
  {
   "cell_type": "code",
   "execution_count": null,
   "id": "f7e9a1b2-ddfb-45d0-ba2e-207308886aef",
   "metadata": {},
   "outputs": [],
   "source": [
    "insightsPop = insightsPop.drop(index=excludeIndex)"
   ]
  },
  {
   "cell_type": "markdown",
   "id": "72e66244-d106-41c3-8d79-b6f65447f329",
   "metadata": {},
   "source": [
    "## Export data"
   ]
  },
  {
   "cell_type": "code",
   "execution_count": null,
   "id": "4e1b1d14-ab49-4199-b810-ca79d39b07be",
   "metadata": {},
   "outputs": [],
   "source": [
    "insightsPop.to_csv(INSIGHTS_POP_TABLE_PATH, index=False)"
   ]
  },
  {
   "cell_type": "markdown",
   "id": "1c09adba-8c2e-46b7-9e18-0f5fcfa638e2",
   "metadata": {},
   "source": [
    "## Create resource file for exported data"
   ]
  },
  {
   "cell_type": "code",
   "execution_count": null,
   "id": "a2088636-e051-4cd3-8227-20bfcc428294",
   "metadata": {
    "scrolled": true
   },
   "outputs": [],
   "source": [
    "insightsPopResource = morpc.frictionless_create_resource(INSIGHTS_POP_TABLE_FILENAME, \n",
    "    resourcePath=INSIGHTS_POP_TABLE_RESOURCE_PATH,\n",
    "    title=\"MORPC Insights | Historic and Forecasted Population by Year\", \n",
    "    name=\"morpc_insights_pop_temporal\", \n",
    "    description=\"This dataset provides the best available historical and forecasted population estimates for the Central Ohio region and the counties and communities therein.  Estimates are compiled from a variety of sources including the following: {}.  Note that different sources provide estimates as of different days throughout the year, so be sure to note the entire date in the REFERENCE_PERIOD field.  The VINTAGE_PERIOD field refers to the time that the estimate was produced or released.  Earlier and (perhaps) later vintages may be available from the original sources.\".format(\", \".join([\"{1} ({0})\".format(value, key) for key, value in SOURCE_MAP.items()])),\n",
    "    writeResource=True,\n",
    "    validate=True\n",
    ")"
   ]
  },
  {
   "cell_type": "markdown",
   "id": "b2699bb8-ca10-462d-bbee-ed63737db7f9",
   "metadata": {},
   "source": [
    "## Generate static charts"
   ]
  },
  {
   "cell_type": "markdown",
   "id": "f171acc8-3bbc-4f8b-8e6b-e22acc8c005f",
   "metadata": {},
   "source": [
    "The following block produces a set of static charts (i.e. thumbnail images) in SVG format.  A chart is produced for each MORPC member geography, except those which might have been suppressed previously and communities for which there is only a single data point (i.e. townships outside of the modeling area).  See inline comments below.  Because some geographies could be excluded, the block produces a list of those that are included so that they can also be included in the catalog generated in the next section."
   ]
  },
  {
   "cell_type": "code",
   "execution_count": null,
   "id": "0a662d8a-a266-4ecf-bfcd-3c579162d193",
   "metadata": {},
   "outputs": [],
   "source": [
    "%matplotlib agg\n",
    "\n",
    "for f in os.scandir(chartDir):\n",
    "    os.remove(f)\n",
    "\n",
    "# Create a list to accumulate geographies for which a thumbnail is generated\n",
    "platformIncludeList = []\n",
    "# Iterate over each geography in data set\n",
    "for geoid in insightsPop[\"GEOIDFQ\"].unique():\n",
    "    # If the geography is not a MORPC member, skip it. The platform only features members.\n",
    "    if(not geoid in memberList):\n",
    "        continue\n",
    "    # Extract the data for a single geography\n",
    "    temp = insightsPop.loc[insightsPop[\"GEOIDFQ\"] == geoid].copy()\n",
    "    # Determine the maximum population that appears for this geography. We will use this\n",
    "    # to determine the y-axis limit\n",
    "    maxPop = temp[[\"Historical\",\"Forecast\",\"Confidence limit (upper)\"]].max().max()\n",
    "\n",
    "    # The following lines can be used to include only five year intervals in the historic data, plus the most\n",
    "    # recent MORPC estimate. As of Feb 2025, we decided to include all historic values so this is disabled.\n",
    "    #temp['year'] = temp[\"Date\"].dt.year\n",
    "    #temp = temp.loc[(temp['year'] % 5 == 0) | (temp['year'].isin(range(MORPC_ESTIMATE_YEAR_RANGE[0], MORPC_ESTIMATE_YEAR_RANGE[1]+1)))]\n",
    "\n",
    "    # The following lines were anticipated to be used to display the forecast vintage in the legend entry of the forecast, \n",
    "    # values, however as of Feb 2025 we decided not to do this. The case forecastVintage=None is used, however, to skip\n",
    "    # plotting when no forecast values are available\n",
    "    forecastVintages = list(temp.loc[temp[\"Forecast\"].notna(), \"Vintage year\"].unique())\n",
    "    if(len(forecastVintages) > 1):\n",
    "        forecastVintage = \"multiple\"\n",
    "    elif(len(forecastVintages) == 0):\n",
    "        forecastVintage = None\n",
    "    else: \n",
    "        forecastVintage = forecastVintages[0]\n",
    "\n",
    "    # If the data contains only one data point, skip it.  This usually occurs for townships outside of the modeling area which\n",
    "    # do not have historic census data and do not have forecast data.\n",
    "    if(temp.shape[0] == 1):\n",
    "        continue\n",
    "\n",
    "    # If we made it this far the geo will not be excluded. Add it to the list.\n",
    "    platformIncludeList.append(geoid)\n",
    "\n",
    "    # Generate a title string\n",
    "    geoName = temp.iloc[0][\"Name\"]\n",
    "    geoType = temp.iloc[0][\"Geography type\"]\n",
    "    geoLabel = \"Population - {}{}\".format(geoName, GEO_TYPE_LABELS[geoType]) \n",
    "\n",
    "    # Create and annotate the plot\n",
    "    PLOTWIDTH = 8\n",
    "    fig,ax = plt.subplots(figsize=(PLOTWIDTH,PLOTWIDTH/16*9))\n",
    "    if(not temp[\"Confidence limit (upper)\"].isnull().all()):\n",
    "        temp.plot(ax=ax, x=\"Date\", y=\"Confidence limit (upper)\", color=\"#BFBFBF\", linewidth=2, label=\"Confidence limit\")\n",
    "        temp.plot(ax=ax, x=\"Date\", y=\"Confidence limit (lower)\", color=\"#BFBFBF\", linewidth=2, legend=False)\n",
    "    temp.plot(ax=ax, x=\"Date\", y=\"Historical\", marker=\"o\", color=morpc.CONST_MORPC_COLORS[\"darkblue\"], linewidth=3, markersize=7, label=\"Historical best estimate\")\n",
    "    if(forecastVintage != None):\n",
    "        temp.plot(ax=ax, x=\"Date\", y=\"Forecast\", marker=\"o\", color=morpc.CONST_MORPC_COLORS[\"darkgreen\"], linewidth=3, markersize=7, label=\"Forecast\")\n",
    "    ax.set_title(geoLabel, fontsize=14)\n",
    "    ax.set_xlabel(None)\n",
    "    ax.set_ylabel(None)\n",
    "    ax.grid(visible=True, color=\"lightgrey\")\n",
    "    # Set the y-limit to 10% more than the max pop value\n",
    "    ax.set_ylim(ymin=0, ymax=maxPop*1.1)   \n",
    "    # Format the y-axis labels as integers with comma separators\n",
    "    ax.get_yaxis().set_major_formatter(matplotlib.ticker.FuncFormatter(lambda x, p: format(int(x), ',')))\n",
    "    \n",
    "    # Save the figure to disk as an SVG file\n",
    "    ax.figure.savefig(os.path.join(chartDir, \"{}.svg\".format(geoid)))\n",
    "    \n",
    "    plt.close(ax.figure)\n",
    "\n",
    "    # Extract only the columns required to generate a plot in Excel. Put the confidence limit columns\n",
    "    # before the forecast column so that their lines appear under the forecast line\n",
    "    excelData = temp[[\"Date\",\"Historical\",\"Confidence limit (upper)\",\"Confidence limit (lower)\",\"Forecast\",]].copy()\n",
    "\n",
    "    if(excelData[\"Confidence limit (upper)\"].isnull().all()):\n",
    "        excelData = excelData.drop(columns=[\"Confidence limit (upper)\",\"Confidence limit (lower)\"])\n",
    "    if(excelData[\"Forecast\"].isnull().all()):\n",
    "        excelData = excelData.drop(columns=[\"Forecast\"])\n",
    "\n",
    "    dateFormat = \"yyyy-mm-dd\"\n",
    "    writer = pd.ExcelWriter(os.path.join(chartDir, \"{}.xlsx\".format(geoid)), engine='xlsxwriter', datetime_format=dateFormat)\n",
    "    dataOptions = {\n",
    "        \"numberFormat\": {\n",
    "            # Because the Date field is the index, the format here is overridden by pd.ExcelWriter's datetime_format\n",
    "            # argument. It is included here to keep morpc.data_chart_to_excel from complaining\n",
    "            \"Date\": dateFormat, \n",
    "            \"Historical\": \"#,##0\",\n",
    "            \"Forecast\": \"#,##0\",\n",
    "            \"Confidence limit (upper)\": \"#,##0\",\n",
    "            \"Confidence limit (lower)\": \"#,##0\"\n",
    "        },\n",
    "        \"columnWidth\": 20\n",
    "    }\n",
    "    chartOptions = {\n",
    "        \"colors\": {\n",
    "            \"Historical\": morpc.CONST_MORPC_COLORS[\"darkblue\"],\n",
    "            \"Forecast\": morpc.CONST_MORPC_COLORS[\"darkgreen\"],\n",
    "            \"Confidence limit (upper)\": \"#BFBFBF\",\n",
    "            \"Confidence limit (lower)\": \"#BFBFBF\"\n",
    "        },            \n",
    "        \"titles\": {\n",
    "            \"chartTitle\": geoLabel,\n",
    "            \"xTitle\": None,\n",
    "            \"yTitle\": None\n",
    "        },\n",
    "        \"seriesOptions\": {\n",
    "            \"Historical\": {\n",
    "                \"line\": {\"width\":3},\n",
    "                \"marker\": {\"type\":\"circle\", \"size\":7}\n",
    "            },\n",
    "            \"Forecast\": {\n",
    "                \"line\": {\"width\":3},\n",
    "                \"marker\": {\"type\":\"circle\", \"size\":7}\n",
    "            },\n",
    "            \"Confidence limit (upper)\": {\n",
    "                \"line\": {\"width\":3},\n",
    "                \"marker\": None\n",
    "            },            \n",
    "            \"Confidence limit (lower)\": {\n",
    "                \"line\": {\"width\":3},\n",
    "                \"marker\": None\n",
    "            },\n",
    "        },\n",
    "        \"xAxisOptions\": {\n",
    "            'date_axis':  True,\n",
    "            'num_format': 'yyyy',\n",
    "            'major_unit': 10,\n",
    "            'major_unit_type': \"years\",\n",
    "            \"num_font\": {\"size\":16}\n",
    "        },\n",
    "        \"yAxisOptions\": {\n",
    "            \"min\": 0, \n",
    "            \"max\": 1.1*maxPop,\n",
    "            \"num_font\": {\"size\":16},\n",
    "            \"num_format\": '[>=1000]#,##0,\"K\"',\n",
    "        },\n",
    "        \"sizeOptions\": {\n",
    "            \"x_scale\": 1.5,\n",
    "            \"y_scale\": 1.5\n",
    "        },\n",
    "        \"plotAreaLayout\": {\n",
    "            'x': 0.14,\n",
    "            'y': 0.13,\n",
    "            'width': 0.8,\n",
    "            'height': 0.67\n",
    "        }\n",
    "    }\n",
    "    morpc.data_chart_to_excel(excelData.set_index(\"Date\"), writer, chartType=\"line\", dataOptions=dataOptions, chartOptions=chartOptions)\n",
    "    writer.close()\n",
    "\n",
    "%matplotlib inline"
   ]
  },
  {
   "cell_type": "code",
   "execution_count": null,
   "id": "b5039254-6270-4726-be4b-09956fda68ee",
   "metadata": {},
   "outputs": [],
   "source": []
  },
  {
   "cell_type": "markdown",
   "id": "34c97b5f-3732-4d7a-9aba-09232a77e16e",
   "metadata": {},
   "source": [
    "## Generate Insights catalog content"
   ]
  },
  {
   "cell_type": "markdown",
   "id": "eb73204c-2305-4bb5-944a-df46b5753944",
   "metadata": {},
   "source": [
    "The content in the Insights platform is controlled by a catalog spreadsheet. Each tile to be displayed in the platform must have a record in the catalog.  This section will create the records for the tiles that display the temporal pop data.  Eventually this function will be performed by a separate staging script."
   ]
  },
  {
   "cell_type": "markdown",
   "id": "1e969669-68bf-4ac7-b15f-0d952836e6e4",
   "metadata": {},
   "source": [
    "First specify the column names used in the catalog."
   ]
  },
  {
   "cell_type": "code",
   "execution_count": null,
   "id": "705a5acc-c92a-4978-8c2e-6d9b43821881",
   "metadata": {},
   "outputs": [],
   "source": [
    "columnNames=[\"TileID\",\"TilesetID\",\"GeographyType\",\"GeographyName\",\"Category\",\"Headline\",\"Commentary\",\"ThumbnailURL\",\"Contributor\",\"Vintage\",\"UpdateInterval\",\"ShareURL\",\"DataProductURL\",\"MoreInformationURL\"]"
   ]
  },
  {
   "cell_type": "markdown",
   "id": "27bf0e2b-9821-4110-904a-039621c249aa",
   "metadata": {},
   "source": [
    "Create a new dataframe containing only the geographies for which thumbnail images were produced in the section above."
   ]
  },
  {
   "cell_type": "code",
   "execution_count": null,
   "id": "b196b8b1-ec16-4e48-be9e-43eb5403c858",
   "metadata": {},
   "outputs": [],
   "source": [
    "catalog = insightsPop.loc[insightsPop[\"GEOIDFQ\"].isin(platformIncludeList)].copy()"
   ]
  },
  {
   "cell_type": "markdown",
   "id": "9d3dc113-7a43-4046-930f-2589745e6d56",
   "metadata": {},
   "source": [
    "Extract only the metadata columns of interest and flatten the data to have only one record per geography. Rename the metadata fields to match the catalog fields."
   ]
  },
  {
   "cell_type": "code",
   "execution_count": null,
   "id": "9ae3f5ca-d56f-42d1-9e18-99a4399cb482",
   "metadata": {},
   "outputs": [],
   "source": [
    "catalog = catalog.filter(items=[\"GEOIDFQ\",\"Name\",\"Geography type\"], axis=\"columns\") \\\n",
    "    .groupby(\"GEOIDFQ\").first() \\\n",
    "    .reset_index() \\\n",
    "    .rename(columns={\"Name\":\"GeographyName\",\"Geography type\":\"GeographyType\"})"
   ]
  },
  {
   "cell_type": "markdown",
   "id": "90dada05-1830-46a8-be12-69ec6d518436",
   "metadata": {},
   "source": [
    "Change the GeographyType values to match the schema of the catalog."
   ]
  },
  {
   "cell_type": "code",
   "execution_count": null,
   "id": "ceb0645f-8b85-4118-b78f-c2f1c2c3569c",
   "metadata": {},
   "outputs": [],
   "source": [
    "catalog[\"GeographyType\"] = catalog[\"GeographyType\"].map({\n",
    "    \"REGION15\":\"Region\",\n",
    "    \"COUNTY\":\"County\",\n",
    "    \"COUNTY-TOWNSHIP-REMAINDER\":\"Community\",\n",
    "    \"PLACE\":\"Community\"\n",
    "})"
   ]
  },
  {
   "cell_type": "markdown",
   "id": "3ef0049f-83b2-48d0-973a-146e2b1853b5",
   "metadata": {},
   "source": [
    "Populate some placeholder fields."
   ]
  },
  {
   "cell_type": "code",
   "execution_count": null,
   "id": "ded468a7-04b5-4cbe-8490-ac35f9701a00",
   "metadata": {},
   "outputs": [],
   "source": [
    "catalog[\"TileID\"] = None\n",
    "catalog[\"TilesetID\"] = None\n",
    "catalog[\"Category\"] = None\n",
    "catalog[\"Headline\"] = \"TBD\"\n",
    "catalog[\"Commentary\"] = \"TBD\""
   ]
  },
  {
   "cell_type": "markdown",
   "id": "cefd2ec5-2359-4b74-b690-a8137a0ef469",
   "metadata": {},
   "source": [
    "Generate the URL for the thumbnail images. These will be hosted in GitHub and will be indexed by GEOIDFQ."
   ]
  },
  {
   "cell_type": "code",
   "execution_count": null,
   "id": "e400e60e-7153-4fe3-b66e-655c06366254",
   "metadata": {},
   "outputs": [],
   "source": [
    "catalog[\"ThumbnailURL\"] = catalog[\"GEOIDFQ\"].apply(lambda geoid:\"https://raw.githubusercontent.com/morpc-insights/pop-temporal/refs/heads/main/output_data/charts/{}.svg\".format(geoid))"
   ]
  },
  {
   "cell_type": "markdown",
   "id": "f95353af-73d5-43dd-a491-b6a0f3308f24",
   "metadata": {},
   "source": [
    "Populate some other simple metadata.  Vintage in this case refers to the year that the content was published in Insights. This is to give readers an idea of how old it is.  UpdateInterval gives them an idea of when to expect the next version. ShareURL is a placeholder for now."
   ]
  },
  {
   "cell_type": "code",
   "execution_count": null,
   "id": "fe8390b0-f2ed-441f-bb02-cad9de136d16",
   "metadata": {},
   "outputs": [],
   "source": [
    "catalog[\"Contributor\"] = \"Mid-Ohio Regional Planning Commission\"\n",
    "catalog[\"Vintage\"] = str(datetime.date.today().year)\n",
    "catalog[\"UpdateInterval\"] = \"annually\"\n",
    "catalog[\"ShareURL\"] = None"
   ]
  },
  {
   "cell_type": "markdown",
   "id": "2972ae9a-cfaf-4dc8-aa7d-6284804a4796",
   "metadata": {},
   "source": [
    "Generate the data product URL.  This points to an ArcGIS Dashboard that accepts URL parameters.  GEOIDFQ is passed as a parameter to tell the app to load the data for a particular geography."
   ]
  },
  {
   "cell_type": "code",
   "execution_count": null,
   "id": "b8ed96c4-77df-4d5e-9374-1c3400de056f",
   "metadata": {},
   "outputs": [],
   "source": [
    "catalog[\"DataProductURL\"] = catalog[\"GEOIDFQ\"].apply(lambda geoid:\"https://morpc.maps.arcgis.com/apps/dashboards/d1291225631545438293bdfcfffaef6b#region={}\".format(geoid))"
   ]
  },
  {
   "cell_type": "markdown",
   "id": "3976308d-06b6-4bd0-83ff-9c08861a510a",
   "metadata": {},
   "source": [
    "Generate the URLs that point to the extended commentary pages.  Default to a common page (population.pdf) hosted in GitHub.  Point to specific pages for the 15-county region and for each county."
   ]
  },
  {
   "cell_type": "code",
   "execution_count": null,
   "id": "af8abd57-9d8c-4fdc-9acb-160b611c577c",
   "metadata": {},
   "outputs": [],
   "source": [
    "temp[\"MoreInformationURL\"] = \"https://raw.githubusercontent.com/morpc-insights/pop-temporal/refs/heads/main/fact_sheets/population.pdf\"\n",
    "temp = catalog.loc[catalog[\"GeographyType\"].isin([\"COUNTY\",\"REGION15\"])].copy()\n",
    "temp[\"MoreInformationURL\"] = temp[\"GEOIDFQ\"].apply(lambda geoid:\"https://raw.githubusercontent.com/morpc-insights/pop-temporal/refs/heads/main/fact_sheets/{}.pdf\".format(geoid))\n",
    "catalog.update(temp)"
   ]
  },
  {
   "cell_type": "markdown",
   "id": "43b6842a-0995-4ab5-86dd-6b7d90446734",
   "metadata": {},
   "source": [
    "Extract only the required columns."
   ]
  },
  {
   "cell_type": "code",
   "execution_count": null,
   "id": "ab9c5cc6-ce66-4250-9e95-940de2e01179",
   "metadata": {},
   "outputs": [],
   "source": [
    "catalog = catalog.filter(items=columnNames, axis=\"columns\")"
   ]
  },
  {
   "cell_type": "markdown",
   "id": "14b58b8d-a88d-4b09-aab7-588a36093cf4",
   "metadata": {},
   "source": [
    "Inspect the listing."
   ]
  },
  {
   "cell_type": "code",
   "execution_count": null,
   "id": "7009384f-1ba7-4b86-9e93-823b8fb4623a",
   "metadata": {},
   "outputs": [],
   "source": [
    "catalog.head()"
   ]
  },
  {
   "cell_type": "markdown",
   "id": "e4752e8e-6242-489d-a2e0-e61fcb1b8f00",
   "metadata": {},
   "source": [
    "Save the catalog to an Excel spreadsheet."
   ]
  },
  {
   "cell_type": "code",
   "execution_count": null,
   "id": "2ee70116-719e-474b-b936-709206a92963",
   "metadata": {},
   "outputs": [],
   "source": [
    "catalog.to_excel(\"catalog.xlsx\", index=False)"
   ]
  },
  {
   "cell_type": "markdown",
   "id": "a46a3681-0da6-4559-b3e8-9249b2c84cd6",
   "metadata": {},
   "source": [
    "It is necessary to manually add these records to the master catalog or update the records already therein.  See the following file in GitHub:\n",
    "\n",
    "https://github.com/morpc/morpc-insights/blob/main/catalog/morpc_insights_catalog.xlsx\n"
   ]
  }
 ],
 "metadata": {
  "kernelspec": {
   "display_name": "Python 3 (ipykernel)",
   "language": "python",
   "name": "python3"
  },
  "language_info": {
   "codemirror_mode": {
    "name": "ipython",
    "version": 3
   },
   "file_extension": ".py",
   "mimetype": "text/x-python",
   "name": "python",
   "nbconvert_exporter": "python",
   "pygments_lexer": "ipython3",
   "version": "3.10.4"
  }
 },
 "nbformat": 4,
 "nbformat_minor": 5
}
